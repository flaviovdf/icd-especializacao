{
 "cells": [
  {
   "cell_type": "code",
   "execution_count": 1,
   "id": "34491a15-3505-4ecc-9337-4528c0d54e91",
   "metadata": {},
   "outputs": [
    {
     "ename": "ModuleNotFoundError",
     "evalue": "No module named 'babypandas'",
     "output_type": "error",
     "traceback": [
      "\u001b[0;31m---------------------------------------------------------------------------\u001b[0m",
      "\u001b[0;31mModuleNotFoundError\u001b[0m                       Traceback (most recent call last)",
      "Cell \u001b[0;32mIn[1], line 1\u001b[0m\n\u001b[0;32m----> 1\u001b[0m \u001b[38;5;28;01mimport\u001b[39;00m \u001b[38;5;21;01mbabypandas\u001b[39;00m \u001b[38;5;28;01mas\u001b[39;00m \u001b[38;5;21;01mbpd\u001b[39;00m\n",
      "\u001b[0;31mModuleNotFoundError\u001b[0m: No module named 'babypandas'"
     ]
    }
   ],
   "source": [
    "import babypandas as bpd"
   ]
  },
  {
   "cell_type": "code",
   "execution_count": 2,
   "id": "4b3c6c15-2934-4c8e-b38e-1b868da7e249",
   "metadata": {},
   "outputs": [
    {
     "ename": "NameError",
     "evalue": "name 'bpd' is not defined",
     "output_type": "error",
     "traceback": [
      "\u001b[0;31m---------------------------------------------------------------------------\u001b[0m",
      "\u001b[0;31mNameError\u001b[0m                                 Traceback (most recent call last)",
      "Cell \u001b[0;32mIn[2], line 3\u001b[0m\n\u001b[1;32m      1\u001b[0m \u001b[38;5;28;01mimport\u001b[39;00m \u001b[38;5;21;01mglob\u001b[39;00m\n\u001b[0;32m----> 3\u001b[0m df \u001b[38;5;241m=\u001b[39m \u001b[43mbpd\u001b[49m\u001b[38;5;241m.\u001b[39mDataFrame()\n\u001b[1;32m      4\u001b[0m \u001b[38;5;28;01mfor\u001b[39;00m f \u001b[38;5;129;01min\u001b[39;00m glob\u001b[38;5;241m.\u001b[39mglob(\u001b[38;5;124m'\u001b[39m\u001b[38;5;124m*.csv\u001b[39m\u001b[38;5;124m'\u001b[39m):\n\u001b[1;32m      5\u001b[0m     aux \u001b[38;5;241m=\u001b[39m bpd\u001b[38;5;241m.\u001b[39mread_csv(f, sep\u001b[38;5;241m=\u001b[39m\u001b[38;5;124m'\u001b[39m\u001b[38;5;124m;\u001b[39m\u001b[38;5;124m'\u001b[39m)\n",
      "\u001b[0;31mNameError\u001b[0m: name 'bpd' is not defined"
     ]
    }
   ],
   "source": [
    "import glob\n",
    "\n",
    "df = bpd.DataFrame()\n",
    "for f in glob.glob('*.csv'):\n",
    "    aux = bpd.read_csv(f, sep=';')\n",
    "    df = bpd.concat((aux, df), axis='rows')\n",
    "\n",
    "df.shape"
   ]
  },
  {
   "cell_type": "code",
   "execution_count": 3,
   "id": "1c25a462-7707-49d0-8654-3848751241ad",
   "metadata": {},
   "outputs": [
    {
     "data": {
      "text/plain": [
       "['si-bol-2016.csv',\n",
       " 'si-bol-2018.csv',\n",
       " 'si-bol-2021.csv',\n",
       " 'si-bol-2023.csv',\n",
       " 'si-bol-2011.csv',\n",
       " 'si-bol-2017.csv',\n",
       " 'si-bol-2015.csv',\n",
       " 'si-bol-2019.csv',\n",
       " 'si-bol-2012.csv',\n",
       " 'si-bol-2024.csv',\n",
       " 'si-bol-2022.csv',\n",
       " 'si-bol-2014.csv',\n",
       " 'si-bol-2013.csv']"
      ]
     },
     "execution_count": 3,
     "metadata": {},
     "output_type": "execute_result"
    }
   ],
   "source": [
    "glob.glob('*.csv')"
   ]
  },
  {
   "cell_type": "code",
   "execution_count": null,
   "id": "12c79cd4-61fb-4b8a-979c-b7c932a99c3d",
   "metadata": {},
   "outputs": [],
   "source": []
  }
 ],
 "metadata": {
  "kernelspec": {
   "display_name": "Python 3 (ipykernel)",
   "language": "python",
   "name": "python3"
  },
  "language_info": {
   "codemirror_mode": {
    "name": "ipython",
    "version": 3
   },
   "file_extension": ".py",
   "mimetype": "text/x-python",
   "name": "python",
   "nbconvert_exporter": "python",
   "pygments_lexer": "ipython3",
   "version": "3.12.3"
  }
 },
 "nbformat": 4,
 "nbformat_minor": 5
}
