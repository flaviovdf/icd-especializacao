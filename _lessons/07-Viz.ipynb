{
 "cells": [
  {
   "cell_type": "markdown",
   "metadata": {},
   "source": [
    "---\n",
    "layout: page\n",
    "title: Visualização de Dados\n",
    "nav_order: 7\n",
    "---\n",
    "[<img src=\"https://raw.githubusercontent.com/flaviovdf/fcd/master/assets/colab_favicon_small.png\" style=\"float: right;\">](https://colab.research.google.com/github/flaviovdf/icd-bradesco/blob/master/_lessons/07-Viz.ipynb)\n",
    "\n",
    "# Tópico 7 – DataViz: Visualizando Dados 📈\n",
    "{: .no_toc .mb-2 }\n",
    "\n",
    "Um pouco de como representar dados de forma visual!\n",
    "{: .fs-6 .fw-300 }\n",
    "\n",
    "{: .no_toc .text-delta }\n",
    "Resultados Esperados\n",
    "\n",
    "1. Junto com a aula passada, ferramentas simples para exploração de dados\n",
    "1. Aprender a base de pandas para realizar um plot simples\n",
    "1. Aprender conceitos básicos de visualização dados"
   ]
  },
  {
   "cell_type": "code",
   "execution_count": 1,
   "metadata": {
    "execution": {
     "iopub.execute_input": "2025-03-30T18:05:59.312903Z",
     "iopub.status.busy": "2025-03-30T18:05:59.312319Z",
     "iopub.status.idle": "2025-03-30T18:05:59.761183Z",
     "shell.execute_reply": "2025-03-30T18:05:59.760782Z"
    },
    "slideshow": {
     "slide_type": "skip"
    }
   },
   "outputs": [],
   "source": [
    "import numpy as np\n",
    "import pandas as pd\n",
    "\n",
    "import matplotlib.pyplot as plt\n",
    "plt.style.use('ggplot')\n",
    "\n",
    "from IPython.display import HTML, display, IFrame"
   ]
  },
  {
   "cell_type": "markdown",
   "metadata": {
    "slideshow": {
     "slide_type": "slide"
    }
   },
   "source": [
    "### Além: atalhos de teclado\n",
    "\n",
    "Existem vários atalhos de teclado integrados aos Jupyter Notebooks projetados para ajudar você a economizar tempo. Para vê-los, clique no botão do teclado na barra de ferramentas acima ou pressione a tecla H do teclado (desde que você não esteja editando ativamente uma célula).\n",
    "\n",
    "Atalhos particularmente úteis:\n",
    "\n",
    "| Ação | Atalho de teclado |\n",
    "| --- | --- |\n",
    "| Executar célula + pular para a próxima célula | MUDANÇA + ENTER |\n",
    "| Salve o caderno | CTRL/CMD + S |\n",
    "| Criar nova célula acima/abaixo | A/B |\n",
    "| Excluir célula | DD |"
   ]
  },
  {
   "cell_type": "markdown",
   "metadata": {
    "slideshow": {
     "slide_type": "slide"
    }
   },
   "source": [
    "### Agenda\n",
    "\n",
    "- Por que visualizar?\n",
    "- Terminologia.\n",
    "- Gráficos de dispersão.\n",
    "- Gráficos de linha.\n",
    "- Gráficos de barra."
   ]
  },
  {
   "cell_type": "markdown",
   "metadata": {
    "slideshow": {
     "slide_type": "slide"
    }
   },
   "source": [
    "## Por que visualizar?"
   ]
  },
  {
   "cell_type": "markdown",
   "metadata": {
    "slideshow": {
     "slide_type": "slide"
    }
   },
   "source": [
    "### Marcha de Napoleão"
   ]
  },
  {
   "cell_type": "markdown",
   "metadata": {},
   "source": [
    "![](https://raw.githubusercontent.com/flaviovdf/fcd/master/assets/07-DataViz/images/minard.jpg)"
   ]
  },
  {
   "cell_type": "markdown",
   "metadata": {
    "slideshow": {
     "slide_type": "slide"
    }
   },
   "source": [
    "### Por que visualizar?"
   ]
  },
  {
   "cell_type": "markdown",
   "metadata": {
    "slideshow": {
     "slide_type": "fragment"
    }
   },
   "source": [
    "- Os computadores são melhores que os humanos para processar números, mas os humanos são melhores para identificar padrões visuais."
   ]
  },
  {
   "cell_type": "markdown",
   "metadata": {
    "slideshow": {
     "slide_type": "fragment"
    }
   },
   "source": [
    "- As visualizações permitem-nos compreender rapidamente muitos dados – tornam mais fácil identificar tendências e comunicar os nossos resultados a outras pessoas."
   ]
  },
  {
   "cell_type": "markdown",
   "metadata": {
    "slideshow": {
     "slide_type": "fragment"
    }
   },
   "source": [
    "- Existem vários tipos de visualizações; nesta aula, veremos gráficos de dispersão, gráficos de linhas, gráficos de barras e histogramas, mas existem muitos outros.\n",
    "- A escolha certa depende do tipo de dados."
   ]
  },
  {
   "cell_type": "markdown",
   "metadata": {
    "slideshow": {
     "slide_type": "slide"
    }
   },
   "source": [
    "## Terminologia"
   ]
  },
  {
   "cell_type": "markdown",
   "metadata": {
    "slideshow": {
     "slide_type": "slide"
    }
   },
   "source": [
    "### Indivíduos e variáveis\n",
    "\n",
    "<center><img src='https://raw.githubusercontent.com/flaviovdf/fcd/master/assets/07-DataViz/images/ind-var.png' largura=90%/></center>"
   ]
  },
  {
   "cell_type": "markdown",
   "metadata": {
    "slideshow": {
     "slide_type": "fragment"
    }
   },
   "source": [
    "- <span style=\"color:#6d9eeb\"><b>Indivíduo (linha):</b></span> Pessoa/lugar/coisa para a qual os dados são registrados. Também chamada de **observação**."
   ]
  },
  {
   "cell_type": "markdown",
   "metadata": {
    "slideshow": {
     "slide_type": "fragment"
    }
   },
   "source": [
    "- <span style=\"color:#ff9900\"><b>Variável (coluna):</b></span> Algo que é registrado para cada indivíduo. Também chamado de **recurso**."
   ]
  },
  {
   "cell_type": "markdown",
   "metadata": {
    "slideshow": {
     "slide_type": "slide"
    }
   },
   "source": [
    "### Tipos de variáveis\n",
    "\n",
    "Existem dois tipos principais de variáveis:\n",
    "\n",
    "- **Numérico**: Faz sentido fazer aritmética com os valores.\n",
    "- **Categórico**: Os valores se enquadram em categorias, que podem ou não ter alguma _ordem_ para eles."
   ]
  },
  {
   "cell_type": "markdown",
   "metadata": {
    "slideshow": {
     "slide_type": "slide"
    }
   },
   "source": [
    "### Exemplos de variáveis ​​numéricas"
   ]
  },
  {
   "cell_type": "markdown",
   "metadata": {
    "slideshow": {
     "slide_type": "fragment"
    }
   },
   "source": [
    "- Salários dos jogadores da NBA 🏀.\n",
    "- Individual: um jogador da NBA.\n",
    "- Variável: seu salário."
   ]
  },
  {
   "cell_type": "markdown",
   "metadata": {
    "slideshow": {
     "slide_type": "fragment"
    }
   },
   "source": [
    "- Ganhos brutos do filme 💰.\n",
    "- Individual: um filme.\n",
    "- Variável: seu rendimento bruto."
   ]
  },
  {
   "cell_type": "markdown",
   "metadata": {
    "slideshow": {
     "slide_type": "fragment"
    }
   },
   "source": [
    "- Doses de reforço administradas por dia 💉.\n",
    "- Individual: data.\n",
    "- Variável: número de doses de reforço administradas naquela data."
   ]
  },
  {
   "cell_type": "markdown",
   "metadata": {
    "slideshow": {
     "slide_type": "slide"
    }
   },
   "source": [
    "### Exemplos de variáveis ​​​​categóricas"
   ]
  },
  {
   "cell_type": "markdown",
   "metadata": {
    "slideshow": {
     "slide_type": "fragment"
    }
   },
   "source": [
    "- Gêneros de filmes 🎬.\n",
    "- Individual: um filme.\n",
    "- Variável: seu gênero."
   ]
  },
  {
   "cell_type": "markdown",
   "metadata": {
    "slideshow": {
     "slide_type": "fragment"
    }
   },
   "source": [
    "- CEPs 🏠.\n",
    "- Pessoa física: residente nos EUA.\n",
    "- Variável: CEP.\n",
    "- Apesar de parecerem números, os CEPs são categóricos (a aritmética não faz sentido)."
   ]
  },
  {
   "cell_type": "markdown",
   "metadata": {
    "slideshow": {
     "slide_type": "fragment"
    }
   },
   "source": [
    "- Nível de experiência anterior em programação para alunos do DSC 10 🧑‍🎓.\n",
    "- Individual: aluno do DSC 10.\n",
    "- Variável: seu nível de experiência anterior em programação, por ex. nenhum, baixo, médio ou alto.\n",
    "- Existe uma _ordem_ para essas categorias!"
   ]
  },
  {
   "cell_type": "markdown",
   "metadata": {
    "slideshow": {
     "slide_type": "slide"
    }
   },
   "source": [
    "### Verificação de conceito ✅\n",
    "\n",
    "Qual destas **não** é uma variável numérica?\n",
    "\n",
    "A. Economia de combustível em milhas por galão.\n",
    "\n",
    "B. Número de trimestres na UCSD.\n",
    "\n",
    "C. Faculdade na UCSD (sexto, sétimo, etc).\n",
    "\n",
    "D. Número da conta bancária.\n",
    "\n",
    "E. Mais de uma destas não são variáveis ​​numéricas."
   ]
  },
  {
   "cell_type": "markdown",
   "metadata": {
    "slideshow": {
     "slide_type": "slide"
    }
   },
   "source": [
    "### Tipos de visualizações\n",
    "\n",
    "O tipo de visualização que criamos depende dos tipos de variáveis ​​que estamos visualizando.\n",
    "\n",
    "- **Gráfico de dispersão**: numérico versus numérico.\n",
    "- **Gráfico de linhas**: numérico sequencial (tempo) vs.\n",
    "- **Gráfico de barras**: categórico vs. numérico.\n",
    "- **Histograma**: numérico.\n",
    "- Cobriremos na próxima vez.\n",
    "\n",
    "**Observação:** Podemos trocar as palavras \"plot\", \"chart\" e \"graph\"; todos eles significam a mesma coisa."
   ]
  },
  {
   "cell_type": "markdown",
   "metadata": {
    "slideshow": {
     "slide_type": "slide"
    }
   },
   "source": [
    "## Gráficos de dispersão"
   ]
  },
  {
   "cell_type": "markdown",
   "metadata": {
    "slideshow": {
     "slide_type": "slide"
    }
   },
   "source": [
    "### Conjunto de dados dos 50 atores de maior bilheteria"
   ]
  },
  {
   "cell_type": "markdown",
   "metadata": {
    "slideshow": {
     "slide_type": "-"
    }
   },
   "source": [
    "|Coluna |Conteúdo|\n",
    "|----------|------------|\n",
    "`'Ator'`|Nome do ator\n",
    "`'Total Bruto'`| Receita total bruta de bilheteria interna, em milhões de dólares, de todos os filmes do ator\n",
    "`'Número de filmes'`| O número de filmes em que o ator esteve\n",
    "`'Média por Filme'`| Total bruto dividido pelo número de filmes\n",
    "`'Filme #1'`| O filme de maior bilheteria em que o ator já esteve\n",
    "`'Bruto'`| Receita bruta de bilheteria interna, em milhões de dólares, do filme número 1 do ator"
   ]
  },
  {
   "cell_type": "code",
   "execution_count": 2,
   "metadata": {
    "execution": {
     "iopub.execute_input": "2025-03-30T18:05:59.764383Z",
     "iopub.status.busy": "2025-03-30T18:05:59.764191Z",
     "iopub.status.idle": "2025-03-30T18:05:59.860989Z",
     "shell.execute_reply": "2025-03-30T18:05:59.860566Z"
    },
    "slideshow": {
     "slide_type": "slide"
    }
   },
   "outputs": [
    {
     "data": {
      "text/html": [
       "<div>\n",
       "<style scoped>\n",
       "    .dataframe tbody tr th:only-of-type {\n",
       "        vertical-align: middle;\n",
       "    }\n",
       "\n",
       "    .dataframe tbody tr th {\n",
       "        vertical-align: top;\n",
       "    }\n",
       "\n",
       "    .dataframe thead th {\n",
       "        text-align: right;\n",
       "    }\n",
       "</style>\n",
       "<table border=\"1\" class=\"dataframe\">\n",
       "  <thead>\n",
       "    <tr style=\"text-align: right;\">\n",
       "      <th></th>\n",
       "      <th>Total Gross</th>\n",
       "      <th>Number of Movies</th>\n",
       "      <th>Average per Movie</th>\n",
       "      <th>#1 Movie</th>\n",
       "      <th>Gross</th>\n",
       "    </tr>\n",
       "    <tr>\n",
       "      <th>Actor</th>\n",
       "      <th></th>\n",
       "      <th></th>\n",
       "      <th></th>\n",
       "      <th></th>\n",
       "      <th></th>\n",
       "    </tr>\n",
       "  </thead>\n",
       "  <tbody>\n",
       "    <tr>\n",
       "      <th>Harrison Ford</th>\n",
       "      <td>4871.7</td>\n",
       "      <td>41</td>\n",
       "      <td>118.8</td>\n",
       "      <td>Star Wars: The Force Awakens</td>\n",
       "      <td>936.7</td>\n",
       "    </tr>\n",
       "    <tr>\n",
       "      <th>Samuel L. Jackson</th>\n",
       "      <td>4772.8</td>\n",
       "      <td>69</td>\n",
       "      <td>69.2</td>\n",
       "      <td>The Avengers</td>\n",
       "      <td>623.4</td>\n",
       "    </tr>\n",
       "    <tr>\n",
       "      <th>Morgan Freeman</th>\n",
       "      <td>4468.3</td>\n",
       "      <td>61</td>\n",
       "      <td>73.3</td>\n",
       "      <td>The Dark Knight</td>\n",
       "      <td>534.9</td>\n",
       "    </tr>\n",
       "    <tr>\n",
       "      <th>Tom Hanks</th>\n",
       "      <td>4340.8</td>\n",
       "      <td>44</td>\n",
       "      <td>98.7</td>\n",
       "      <td>Toy Story 3</td>\n",
       "      <td>415.0</td>\n",
       "    </tr>\n",
       "    <tr>\n",
       "      <th>Robert Downey, Jr.</th>\n",
       "      <td>3947.3</td>\n",
       "      <td>53</td>\n",
       "      <td>74.5</td>\n",
       "      <td>The Avengers</td>\n",
       "      <td>623.4</td>\n",
       "    </tr>\n",
       "    <tr>\n",
       "      <th>Eddie Murphy</th>\n",
       "      <td>3810.4</td>\n",
       "      <td>38</td>\n",
       "      <td>100.3</td>\n",
       "      <td>Shrek 2</td>\n",
       "      <td>441.2</td>\n",
       "    </tr>\n",
       "    <tr>\n",
       "      <th>Tom Cruise</th>\n",
       "      <td>3587.2</td>\n",
       "      <td>36</td>\n",
       "      <td>99.6</td>\n",
       "      <td>War of the Worlds</td>\n",
       "      <td>234.3</td>\n",
       "    </tr>\n",
       "    <tr>\n",
       "      <th>Johnny Depp</th>\n",
       "      <td>3368.6</td>\n",
       "      <td>45</td>\n",
       "      <td>74.9</td>\n",
       "      <td>Dead Man's Chest</td>\n",
       "      <td>423.3</td>\n",
       "    </tr>\n",
       "    <tr>\n",
       "      <th>Michael Caine</th>\n",
       "      <td>3351.5</td>\n",
       "      <td>58</td>\n",
       "      <td>57.8</td>\n",
       "      <td>The Dark Knight</td>\n",
       "      <td>534.9</td>\n",
       "    </tr>\n",
       "    <tr>\n",
       "      <th>Scarlett Johansson</th>\n",
       "      <td>3341.2</td>\n",
       "      <td>37</td>\n",
       "      <td>90.3</td>\n",
       "      <td>The Avengers</td>\n",
       "      <td>623.4</td>\n",
       "    </tr>\n",
       "    <tr>\n",
       "      <th>Gary Oldman</th>\n",
       "      <td>3294.0</td>\n",
       "      <td>38</td>\n",
       "      <td>86.7</td>\n",
       "      <td>The Dark Knight</td>\n",
       "      <td>534.9</td>\n",
       "    </tr>\n",
       "    <tr>\n",
       "      <th>Robin Williams</th>\n",
       "      <td>3279.3</td>\n",
       "      <td>49</td>\n",
       "      <td>66.9</td>\n",
       "      <td>Night at the Museum</td>\n",
       "      <td>250.9</td>\n",
       "    </tr>\n",
       "    <tr>\n",
       "      <th>Bruce Willis</th>\n",
       "      <td>3189.4</td>\n",
       "      <td>60</td>\n",
       "      <td>53.2</td>\n",
       "      <td>Sixth Sense</td>\n",
       "      <td>293.5</td>\n",
       "    </tr>\n",
       "    <tr>\n",
       "      <th>Stellan Skarsgard</th>\n",
       "      <td>3175.0</td>\n",
       "      <td>43</td>\n",
       "      <td>73.8</td>\n",
       "      <td>The Avengers</td>\n",
       "      <td>623.4</td>\n",
       "    </tr>\n",
       "    <tr>\n",
       "      <th>Anthony Daniels</th>\n",
       "      <td>3162.9</td>\n",
       "      <td>7</td>\n",
       "      <td>451.8</td>\n",
       "      <td>Star Wars: The Force Awakens</td>\n",
       "      <td>936.7</td>\n",
       "    </tr>\n",
       "    <tr>\n",
       "      <th>Ian McKellen</th>\n",
       "      <td>3150.4</td>\n",
       "      <td>31</td>\n",
       "      <td>101.6</td>\n",
       "      <td>Return of the King</td>\n",
       "      <td>377.8</td>\n",
       "    </tr>\n",
       "    <tr>\n",
       "      <th>Will Smith</th>\n",
       "      <td>3149.1</td>\n",
       "      <td>24</td>\n",
       "      <td>131.2</td>\n",
       "      <td>Independence Day</td>\n",
       "      <td>306.2</td>\n",
       "    </tr>\n",
       "    <tr>\n",
       "      <th>Stanley Tucci</th>\n",
       "      <td>3123.9</td>\n",
       "      <td>50</td>\n",
       "      <td>62.5</td>\n",
       "      <td>Catching Fire</td>\n",
       "      <td>424.7</td>\n",
       "    </tr>\n",
       "    <tr>\n",
       "      <th>Matt Damon</th>\n",
       "      <td>3107.3</td>\n",
       "      <td>39</td>\n",
       "      <td>79.7</td>\n",
       "      <td>The Martian</td>\n",
       "      <td>228.4</td>\n",
       "    </tr>\n",
       "    <tr>\n",
       "      <th>Robert DeNiro</th>\n",
       "      <td>3081.3</td>\n",
       "      <td>79</td>\n",
       "      <td>39.0</td>\n",
       "      <td>Meet the Fockers</td>\n",
       "      <td>279.3</td>\n",
       "    </tr>\n",
       "    <tr>\n",
       "      <th>Cameron Diaz</th>\n",
       "      <td>3031.7</td>\n",
       "      <td>34</td>\n",
       "      <td>89.2</td>\n",
       "      <td>Shrek 2</td>\n",
       "      <td>441.2</td>\n",
       "    </tr>\n",
       "    <tr>\n",
       "      <th>Liam Neeson</th>\n",
       "      <td>2942.7</td>\n",
       "      <td>63</td>\n",
       "      <td>46.7</td>\n",
       "      <td>The Phantom Menace</td>\n",
       "      <td>474.5</td>\n",
       "    </tr>\n",
       "    <tr>\n",
       "      <th>Andy Serkis</th>\n",
       "      <td>2890.6</td>\n",
       "      <td>23</td>\n",
       "      <td>125.7</td>\n",
       "      <td>Star Wars: The Force Awakens</td>\n",
       "      <td>936.7</td>\n",
       "    </tr>\n",
       "    <tr>\n",
       "      <th>Don Cheadle</th>\n",
       "      <td>2885.4</td>\n",
       "      <td>34</td>\n",
       "      <td>84.9</td>\n",
       "      <td>Avengers: Age of Ultron</td>\n",
       "      <td>459.0</td>\n",
       "    </tr>\n",
       "    <tr>\n",
       "      <th>Ben Stiller</th>\n",
       "      <td>2827.0</td>\n",
       "      <td>37</td>\n",
       "      <td>76.4</td>\n",
       "      <td>Meet the Fockers</td>\n",
       "      <td>279.3</td>\n",
       "    </tr>\n",
       "    <tr>\n",
       "      <th>Helena Bonham Carter</th>\n",
       "      <td>2822.0</td>\n",
       "      <td>36</td>\n",
       "      <td>78.4</td>\n",
       "      <td>Harry Potter / Deathly Hallows (P2)</td>\n",
       "      <td>381.0</td>\n",
       "    </tr>\n",
       "    <tr>\n",
       "      <th>Orlando Bloom</th>\n",
       "      <td>2815.8</td>\n",
       "      <td>17</td>\n",
       "      <td>165.6</td>\n",
       "      <td>Dead Man's Chest</td>\n",
       "      <td>423.3</td>\n",
       "    </tr>\n",
       "    <tr>\n",
       "      <th>Woody Harrelson</th>\n",
       "      <td>2815.8</td>\n",
       "      <td>50</td>\n",
       "      <td>56.3</td>\n",
       "      <td>Catching Fire</td>\n",
       "      <td>424.7</td>\n",
       "    </tr>\n",
       "    <tr>\n",
       "      <th>Cate Blanchett</th>\n",
       "      <td>2802.6</td>\n",
       "      <td>39</td>\n",
       "      <td>71.9</td>\n",
       "      <td>Return of the King</td>\n",
       "      <td>377.8</td>\n",
       "    </tr>\n",
       "    <tr>\n",
       "      <th>Julia Roberts</th>\n",
       "      <td>2735.3</td>\n",
       "      <td>42</td>\n",
       "      <td>65.1</td>\n",
       "      <td>Ocean's Eleven</td>\n",
       "      <td>183.4</td>\n",
       "    </tr>\n",
       "    <tr>\n",
       "      <th>Elizabeth Banks</th>\n",
       "      <td>2726.3</td>\n",
       "      <td>35</td>\n",
       "      <td>77.9</td>\n",
       "      <td>Catching Fire</td>\n",
       "      <td>424.7</td>\n",
       "    </tr>\n",
       "    <tr>\n",
       "      <th>Ralph Fiennes</th>\n",
       "      <td>2715.3</td>\n",
       "      <td>36</td>\n",
       "      <td>75.4</td>\n",
       "      <td>Harry Potter / Deathly Hallows (P2)</td>\n",
       "      <td>381.0</td>\n",
       "    </tr>\n",
       "    <tr>\n",
       "      <th>Emma Watson</th>\n",
       "      <td>2681.9</td>\n",
       "      <td>17</td>\n",
       "      <td>157.8</td>\n",
       "      <td>Harry Potter / Deathly Hallows (P2)</td>\n",
       "      <td>381.0</td>\n",
       "    </tr>\n",
       "    <tr>\n",
       "      <th>Tommy Lee Jones</th>\n",
       "      <td>2681.3</td>\n",
       "      <td>46</td>\n",
       "      <td>58.3</td>\n",
       "      <td>Men in Black</td>\n",
       "      <td>250.7</td>\n",
       "    </tr>\n",
       "    <tr>\n",
       "      <th>Brad Pitt</th>\n",
       "      <td>2680.9</td>\n",
       "      <td>40</td>\n",
       "      <td>67.0</td>\n",
       "      <td>World War Z</td>\n",
       "      <td>202.4</td>\n",
       "    </tr>\n",
       "    <tr>\n",
       "      <th>Adam Sandler</th>\n",
       "      <td>2661.0</td>\n",
       "      <td>32</td>\n",
       "      <td>83.2</td>\n",
       "      <td>Hotel Transylvania 2</td>\n",
       "      <td>169.7</td>\n",
       "    </tr>\n",
       "    <tr>\n",
       "      <th>Daniel Radcliffe</th>\n",
       "      <td>2634.4</td>\n",
       "      <td>17</td>\n",
       "      <td>155.0</td>\n",
       "      <td>Harry Potter / Deathly Hallows (P2)</td>\n",
       "      <td>381.0</td>\n",
       "    </tr>\n",
       "    <tr>\n",
       "      <th>Jonah Hill</th>\n",
       "      <td>2605.1</td>\n",
       "      <td>29</td>\n",
       "      <td>89.8</td>\n",
       "      <td>The LEGO Movie</td>\n",
       "      <td>257.8</td>\n",
       "    </tr>\n",
       "    <tr>\n",
       "      <th>Owen Wilson</th>\n",
       "      <td>2602.3</td>\n",
       "      <td>39</td>\n",
       "      <td>66.7</td>\n",
       "      <td>Night at the Museum</td>\n",
       "      <td>250.9</td>\n",
       "    </tr>\n",
       "    <tr>\n",
       "      <th>Idris Elba</th>\n",
       "      <td>2580.6</td>\n",
       "      <td>26</td>\n",
       "      <td>99.3</td>\n",
       "      <td>Avengers: Age of Ultron</td>\n",
       "      <td>459.0</td>\n",
       "    </tr>\n",
       "    <tr>\n",
       "      <th>Bradley Cooper</th>\n",
       "      <td>2557.7</td>\n",
       "      <td>25</td>\n",
       "      <td>102.3</td>\n",
       "      <td>American Sniper</td>\n",
       "      <td>350.1</td>\n",
       "    </tr>\n",
       "    <tr>\n",
       "      <th>Mark Wahlberg</th>\n",
       "      <td>2549.8</td>\n",
       "      <td>36</td>\n",
       "      <td>70.8</td>\n",
       "      <td>Transformers 4</td>\n",
       "      <td>245.4</td>\n",
       "    </tr>\n",
       "    <tr>\n",
       "      <th>Jim Carrey</th>\n",
       "      <td>2545.2</td>\n",
       "      <td>27</td>\n",
       "      <td>94.3</td>\n",
       "      <td>The Grinch</td>\n",
       "      <td>260.0</td>\n",
       "    </tr>\n",
       "    <tr>\n",
       "      <th>Dustin Hoffman</th>\n",
       "      <td>2522.1</td>\n",
       "      <td>43</td>\n",
       "      <td>58.7</td>\n",
       "      <td>Meet the Fockers</td>\n",
       "      <td>279.3</td>\n",
       "    </tr>\n",
       "    <tr>\n",
       "      <th>Leonardo DiCaprio</th>\n",
       "      <td>2518.3</td>\n",
       "      <td>25</td>\n",
       "      <td>100.7</td>\n",
       "      <td>Titanic</td>\n",
       "      <td>658.7</td>\n",
       "    </tr>\n",
       "    <tr>\n",
       "      <th>Jeremy Renner</th>\n",
       "      <td>2500.3</td>\n",
       "      <td>21</td>\n",
       "      <td>119.1</td>\n",
       "      <td>The Avengers</td>\n",
       "      <td>623.4</td>\n",
       "    </tr>\n",
       "    <tr>\n",
       "      <th>Philip Seymour Hoffman</th>\n",
       "      <td>2463.7</td>\n",
       "      <td>40</td>\n",
       "      <td>61.6</td>\n",
       "      <td>Catching Fire</td>\n",
       "      <td>424.7</td>\n",
       "    </tr>\n",
       "    <tr>\n",
       "      <th>Sandra Bullock</th>\n",
       "      <td>2462.6</td>\n",
       "      <td>35</td>\n",
       "      <td>70.4</td>\n",
       "      <td>Minions</td>\n",
       "      <td>336.0</td>\n",
       "    </tr>\n",
       "    <tr>\n",
       "      <th>Chris Evans</th>\n",
       "      <td>2457.8</td>\n",
       "      <td>23</td>\n",
       "      <td>106.9</td>\n",
       "      <td>The Avengers</td>\n",
       "      <td>623.4</td>\n",
       "    </tr>\n",
       "    <tr>\n",
       "      <th>Anne Hathaway</th>\n",
       "      <td>2416.5</td>\n",
       "      <td>25</td>\n",
       "      <td>96.7</td>\n",
       "      <td>The Dark Knight Rises</td>\n",
       "      <td>448.1</td>\n",
       "    </tr>\n",
       "  </tbody>\n",
       "</table>\n",
       "</div>"
      ],
      "text/plain": [
       "                        Total Gross  Number of Movies  Average per Movie  \\\n",
       "Actor                                                                      \n",
       "Harrison Ford                4871.7                41              118.8   \n",
       "Samuel L. Jackson            4772.8                69               69.2   \n",
       "Morgan Freeman               4468.3                61               73.3   \n",
       "Tom Hanks                    4340.8                44               98.7   \n",
       "Robert Downey, Jr.           3947.3                53               74.5   \n",
       "Eddie Murphy                 3810.4                38              100.3   \n",
       "Tom Cruise                   3587.2                36               99.6   \n",
       "Johnny Depp                  3368.6                45               74.9   \n",
       "Michael Caine                3351.5                58               57.8   \n",
       "Scarlett Johansson           3341.2                37               90.3   \n",
       "Gary Oldman                  3294.0                38               86.7   \n",
       "Robin Williams               3279.3                49               66.9   \n",
       "Bruce Willis                 3189.4                60               53.2   \n",
       "Stellan Skarsgard            3175.0                43               73.8   \n",
       "Anthony Daniels              3162.9                 7              451.8   \n",
       "Ian McKellen                 3150.4                31              101.6   \n",
       "Will Smith                   3149.1                24              131.2   \n",
       "Stanley Tucci                3123.9                50               62.5   \n",
       "Matt Damon                   3107.3                39               79.7   \n",
       "Robert DeNiro                3081.3                79               39.0   \n",
       "Cameron Diaz                 3031.7                34               89.2   \n",
       "Liam Neeson                  2942.7                63               46.7   \n",
       "Andy Serkis                  2890.6                23              125.7   \n",
       "Don Cheadle                  2885.4                34               84.9   \n",
       "Ben Stiller                  2827.0                37               76.4   \n",
       "Helena Bonham Carter         2822.0                36               78.4   \n",
       "Orlando Bloom                2815.8                17              165.6   \n",
       "Woody Harrelson              2815.8                50               56.3   \n",
       "Cate Blanchett               2802.6                39               71.9   \n",
       "Julia Roberts                2735.3                42               65.1   \n",
       "Elizabeth Banks              2726.3                35               77.9   \n",
       "Ralph Fiennes                2715.3                36               75.4   \n",
       "Emma Watson                  2681.9                17              157.8   \n",
       "Tommy Lee Jones              2681.3                46               58.3   \n",
       "Brad Pitt                    2680.9                40               67.0   \n",
       "Adam Sandler                 2661.0                32               83.2   \n",
       "Daniel Radcliffe             2634.4                17              155.0   \n",
       "Jonah Hill                   2605.1                29               89.8   \n",
       "Owen Wilson                  2602.3                39               66.7   \n",
       "Idris Elba                   2580.6                26               99.3   \n",
       "Bradley Cooper               2557.7                25              102.3   \n",
       "Mark Wahlberg                2549.8                36               70.8   \n",
       "Jim Carrey                   2545.2                27               94.3   \n",
       "Dustin Hoffman               2522.1                43               58.7   \n",
       "Leonardo DiCaprio            2518.3                25              100.7   \n",
       "Jeremy Renner                2500.3                21              119.1   \n",
       "Philip Seymour Hoffman       2463.7                40               61.6   \n",
       "Sandra Bullock               2462.6                35               70.4   \n",
       "Chris Evans                  2457.8                23              106.9   \n",
       "Anne Hathaway                2416.5                25               96.7   \n",
       "\n",
       "                                                   #1 Movie  Gross  \n",
       "Actor                                                               \n",
       "Harrison Ford                  Star Wars: The Force Awakens  936.7  \n",
       "Samuel L. Jackson                              The Avengers  623.4  \n",
       "Morgan Freeman                              The Dark Knight  534.9  \n",
       "Tom Hanks                                       Toy Story 3  415.0  \n",
       "Robert Downey, Jr.                             The Avengers  623.4  \n",
       "Eddie Murphy                                        Shrek 2  441.2  \n",
       "Tom Cruise                                War of the Worlds  234.3  \n",
       "Johnny Depp                                Dead Man's Chest  423.3  \n",
       "Michael Caine                               The Dark Knight  534.9  \n",
       "Scarlett Johansson                             The Avengers  623.4  \n",
       "Gary Oldman                                 The Dark Knight  534.9  \n",
       "Robin Williams                          Night at the Museum  250.9  \n",
       "Bruce Willis                                    Sixth Sense  293.5  \n",
       "Stellan Skarsgard                              The Avengers  623.4  \n",
       "Anthony Daniels                Star Wars: The Force Awakens  936.7  \n",
       "Ian McKellen                             Return of the King  377.8  \n",
       "Will Smith                                 Independence Day  306.2  \n",
       "Stanley Tucci                                 Catching Fire  424.7  \n",
       "Matt Damon                                      The Martian  228.4  \n",
       "Robert DeNiro                              Meet the Fockers  279.3  \n",
       "Cameron Diaz                                        Shrek 2  441.2  \n",
       "Liam Neeson                              The Phantom Menace  474.5  \n",
       "Andy Serkis                    Star Wars: The Force Awakens  936.7  \n",
       "Don Cheadle                         Avengers: Age of Ultron  459.0  \n",
       "Ben Stiller                                Meet the Fockers  279.3  \n",
       "Helena Bonham Carter    Harry Potter / Deathly Hallows (P2)  381.0  \n",
       "Orlando Bloom                              Dead Man's Chest  423.3  \n",
       "Woody Harrelson                               Catching Fire  424.7  \n",
       "Cate Blanchett                           Return of the King  377.8  \n",
       "Julia Roberts                                Ocean's Eleven  183.4  \n",
       "Elizabeth Banks                               Catching Fire  424.7  \n",
       "Ralph Fiennes           Harry Potter / Deathly Hallows (P2)  381.0  \n",
       "Emma Watson             Harry Potter / Deathly Hallows (P2)  381.0  \n",
       "Tommy Lee Jones                                Men in Black  250.7  \n",
       "Brad Pitt                                       World War Z  202.4  \n",
       "Adam Sandler                           Hotel Transylvania 2  169.7  \n",
       "Daniel Radcliffe        Harry Potter / Deathly Hallows (P2)  381.0  \n",
       "Jonah Hill                                   The LEGO Movie  257.8  \n",
       "Owen Wilson                             Night at the Museum  250.9  \n",
       "Idris Elba                          Avengers: Age of Ultron  459.0  \n",
       "Bradley Cooper                              American Sniper  350.1  \n",
       "Mark Wahlberg                                Transformers 4  245.4  \n",
       "Jim Carrey                                       The Grinch  260.0  \n",
       "Dustin Hoffman                             Meet the Fockers  279.3  \n",
       "Leonardo DiCaprio                                   Titanic  658.7  \n",
       "Jeremy Renner                                  The Avengers  623.4  \n",
       "Philip Seymour Hoffman                        Catching Fire  424.7  \n",
       "Sandra Bullock                                      Minions  336.0  \n",
       "Chris Evans                                    The Avengers  623.4  \n",
       "Anne Hathaway                         The Dark Knight Rises  448.1  "
      ]
     },
     "execution_count": 2,
     "metadata": {},
     "output_type": "execute_result"
    }
   ],
   "source": [
    "actors = pd.read_csv('https://raw.githubusercontent.com/flaviovdf/fcd/master/assets/07-DataViz/data/actors.csv').set_index('Actor')\n",
    "actors"
   ]
  },
  {
   "cell_type": "markdown",
   "metadata": {
    "slideshow": {
     "slide_type": "slide"
    }
   },
   "source": [
    "### Gráficos de dispersão\n",
    "\n",
    "Qual é a relação entre `'Número de Filmes'` e `'Total Bruto'`?"
   ]
  },
  {
   "cell_type": "code",
   "execution_count": 3,
   "metadata": {
    "execution": {
     "iopub.execute_input": "2025-03-30T18:05:59.888380Z",
     "iopub.status.busy": "2025-03-30T18:05:59.888218Z",
     "iopub.status.idle": "2025-03-30T18:06:00.000388Z",
     "shell.execute_reply": "2025-03-30T18:05:59.999903Z"
    }
   },
   "outputs": [
    {
     "data": {
      "image/png": "[encoded data removed]",
      "text/plain": [
       "<Figure size 640x480 with 1 Axes>"
      ]
     },
     "metadata": {},
     "output_type": "display_data"
    }
   ],
   "source": [
    "actors.plot(kind='scatter', x='Number of Movies', y='Total Gross');"
   ]
  },
  {
   "cell_type": "markdown",
   "metadata": {
    "slideshow": {
     "slide_type": "slide"
    }
   },
   "source": [
    "### Gráficos de dispersão\n",
    "\n",
    "- Os gráficos de dispersão visualizam a relação entre duas variáveis ​​numéricas.\n",
    "- Para criar um a partir de um DataFrame `df`, use\n",
    "```\n",
    "df.plot(\n",
    "    kind='scatter', \n",
    "    x=x_column_for_horizontal, \n",
    "    y=y_column_for_vertical\n",
    ")\n",
    "```\n",
    "- O gráfico de dispersão resultante tem um ponto por linha de `df`.\n",
    "- Se você colocar um ponto e vírgula após uma chamada para `.plot`, isso ocultará a saída de texto estranha exibida."
   ]
  },
  {
   "cell_type": "markdown",
   "metadata": {
    "slideshow": {
     "slide_type": "slide"
    }
   },
   "source": [
    "### Gráficos de dispersão\n",
    "\n",
    "Qual é a relação entre `'Número de Filmes'` e `'Média por Filme'`?"
   ]
  },
  {
   "cell_type": "code",
   "execution_count": 4,
   "metadata": {
    "execution": {
     "iopub.execute_input": "2025-03-30T18:06:00.002623Z",
     "iopub.status.busy": "2025-03-30T18:06:00.002413Z",
     "iopub.status.idle": "2025-03-30T18:06:00.107471Z",
     "shell.execute_reply": "2025-03-30T18:06:00.106766Z"
    }
   },
   "outputs": [
    {
     "data": {
      "image/png": "[encoded data removed]",
      "text/plain": [
       "<Figure size 640x480 with 1 Axes>"
      ]
     },
     "metadata": {},
     "output_type": "display_data"
    }
   ],
   "source": [
    "actors.plot(kind='scatter', x='Number of Movies', y='Average per Movie');"
   ]
  },
  {
   "cell_type": "markdown",
   "metadata": {
    "slideshow": {
     "slide_type": "fragment"
    }
   },
   "source": [
    "Observe que no gráfico acima, há uma associação _negativa_ e um valor discrepante."
   ]
  },
  {
   "cell_type": "markdown",
   "metadata": {
    "slideshow": {
     "slide_type": "slide"
    }
   },
   "source": [
    "### Quem esteve em 60 ou mais filmes?"
   ]
  },
  {
   "cell_type": "code",
   "execution_count": 5,
   "metadata": {
    "execution": {
     "iopub.execute_input": "2025-03-30T18:06:00.109684Z",
     "iopub.status.busy": "2025-03-30T18:06:00.109369Z",
     "iopub.status.idle": "2025-03-30T18:06:00.118815Z",
     "shell.execute_reply": "2025-03-30T18:06:00.118278Z"
    }
   },
   "outputs": [
    {
     "data": {
      "text/html": [
       "<div>\n",
       "<style scoped>\n",
       "    .dataframe tbody tr th:only-of-type {\n",
       "        vertical-align: middle;\n",
       "    }\n",
       "\n",
       "    .dataframe tbody tr th {\n",
       "        vertical-align: top;\n",
       "    }\n",
       "\n",
       "    .dataframe thead th {\n",
       "        text-align: right;\n",
       "    }\n",
       "</style>\n",
       "<table border=\"1\" class=\"dataframe\">\n",
       "  <thead>\n",
       "    <tr style=\"text-align: right;\">\n",
       "      <th></th>\n",
       "      <th>Total Gross</th>\n",
       "      <th>Number of Movies</th>\n",
       "      <th>Average per Movie</th>\n",
       "      <th>#1 Movie</th>\n",
       "      <th>Gross</th>\n",
       "    </tr>\n",
       "    <tr>\n",
       "      <th>Actor</th>\n",
       "      <th></th>\n",
       "      <th></th>\n",
       "      <th></th>\n",
       "      <th></th>\n",
       "      <th></th>\n",
       "    </tr>\n",
       "  </thead>\n",
       "  <tbody>\n",
       "    <tr>\n",
       "      <th>Samuel L. Jackson</th>\n",
       "      <td>4772.8</td>\n",
       "      <td>69</td>\n",
       "      <td>69.2</td>\n",
       "      <td>The Avengers</td>\n",
       "      <td>623.4</td>\n",
       "    </tr>\n",
       "    <tr>\n",
       "      <th>Morgan Freeman</th>\n",
       "      <td>4468.3</td>\n",
       "      <td>61</td>\n",
       "      <td>73.3</td>\n",
       "      <td>The Dark Knight</td>\n",
       "      <td>534.9</td>\n",
       "    </tr>\n",
       "    <tr>\n",
       "      <th>Bruce Willis</th>\n",
       "      <td>3189.4</td>\n",
       "      <td>60</td>\n",
       "      <td>53.2</td>\n",
       "      <td>Sixth Sense</td>\n",
       "      <td>293.5</td>\n",
       "    </tr>\n",
       "    <tr>\n",
       "      <th>Robert DeNiro</th>\n",
       "      <td>3081.3</td>\n",
       "      <td>79</td>\n",
       "      <td>39.0</td>\n",
       "      <td>Meet the Fockers</td>\n",
       "      <td>279.3</td>\n",
       "    </tr>\n",
       "    <tr>\n",
       "      <th>Liam Neeson</th>\n",
       "      <td>2942.7</td>\n",
       "      <td>63</td>\n",
       "      <td>46.7</td>\n",
       "      <td>The Phantom Menace</td>\n",
       "      <td>474.5</td>\n",
       "    </tr>\n",
       "  </tbody>\n",
       "</table>\n",
       "</div>"
      ],
      "text/plain": [
       "                   Total Gross  Number of Movies  Average per Movie  \\\n",
       "Actor                                                                 \n",
       "Samuel L. Jackson       4772.8                69               69.2   \n",
       "Morgan Freeman          4468.3                61               73.3   \n",
       "Bruce Willis            3189.4                60               53.2   \n",
       "Robert DeNiro           3081.3                79               39.0   \n",
       "Liam Neeson             2942.7                63               46.7   \n",
       "\n",
       "                             #1 Movie  Gross  \n",
       "Actor                                         \n",
       "Samuel L. Jackson        The Avengers  623.4  \n",
       "Morgan Freeman        The Dark Knight  534.9  \n",
       "Bruce Willis              Sixth Sense  293.5  \n",
       "Robert DeNiro        Meet the Fockers  279.3  \n",
       "Liam Neeson        The Phantom Menace  474.5  "
      ]
     },
     "execution_count": 5,
     "metadata": {},
     "output_type": "execute_result"
    }
   ],
   "source": [
    "actors[actors.get('Number of Movies') >= 60]"
   ]
  },
  {
   "cell_type": "markdown",
   "metadata": {
    "slideshow": {
     "slide_type": "slide"
    }
   },
   "source": [
    "### Quem é o estranho?\n",
    "\n",
    "Quem quer que sejam, fizeram poucos filmes de alta bilheteria."
   ]
  },
  {
   "cell_type": "code",
   "execution_count": 6,
   "metadata": {
    "execution": {
     "iopub.execute_input": "2025-03-30T18:06:00.123607Z",
     "iopub.status.busy": "2025-03-30T18:06:00.122984Z",
     "iopub.status.idle": "2025-03-30T18:06:00.131819Z",
     "shell.execute_reply": "2025-03-30T18:06:00.131088Z"
    }
   },
   "outputs": [
    {
     "data": {
      "text/html": [
       "<div>\n",
       "<style scoped>\n",
       "    .dataframe tbody tr th:only-of-type {\n",
       "        vertical-align: middle;\n",
       "    }\n",
       "\n",
       "    .dataframe tbody tr th {\n",
       "        vertical-align: top;\n",
       "    }\n",
       "\n",
       "    .dataframe thead th {\n",
       "        text-align: right;\n",
       "    }\n",
       "</style>\n",
       "<table border=\"1\" class=\"dataframe\">\n",
       "  <thead>\n",
       "    <tr style=\"text-align: right;\">\n",
       "      <th></th>\n",
       "      <th>Total Gross</th>\n",
       "      <th>Number of Movies</th>\n",
       "      <th>Average per Movie</th>\n",
       "      <th>#1 Movie</th>\n",
       "      <th>Gross</th>\n",
       "    </tr>\n",
       "    <tr>\n",
       "      <th>Actor</th>\n",
       "      <th></th>\n",
       "      <th></th>\n",
       "      <th></th>\n",
       "      <th></th>\n",
       "      <th></th>\n",
       "    </tr>\n",
       "  </thead>\n",
       "  <tbody>\n",
       "    <tr>\n",
       "      <th>Anthony Daniels</th>\n",
       "      <td>3162.9</td>\n",
       "      <td>7</td>\n",
       "      <td>451.8</td>\n",
       "      <td>Star Wars: The Force Awakens</td>\n",
       "      <td>936.7</td>\n",
       "    </tr>\n",
       "  </tbody>\n",
       "</table>\n",
       "</div>"
      ],
      "text/plain": [
       "                 Total Gross  Number of Movies  Average per Movie  \\\n",
       "Actor                                                               \n",
       "Anthony Daniels       3162.9                 7              451.8   \n",
       "\n",
       "                                     #1 Movie  Gross  \n",
       "Actor                                                 \n",
       "Anthony Daniels  Star Wars: The Force Awakens  936.7  "
      ]
     },
     "execution_count": 6,
     "metadata": {},
     "output_type": "execute_result"
    }
   ],
   "source": [
    "actors[actors.get('Number of Movies') < 10]"
   ]
  },
  {
   "cell_type": "markdown",
   "metadata": {
    "slideshow": {
     "slide_type": "slide"
    }
   },
   "source": [
    "### Anthony Daniels\n",
    "\n",
    "<center><img src='https://raw.githubusercontent.com/flaviovdf/fcd/master/assets/07-DataViz/images/c3po.png' width=200></center>"
   ]
  },
  {
   "cell_type": "markdown",
   "metadata": {
    "slideshow": {
     "slide_type": "slide"
    }
   },
   "source": [
    "## Gráficos de linha 📉"
   ]
  },
  {
   "cell_type": "markdown",
   "metadata": {
    "slideshow": {
     "slide_type": "slide"
    }
   },
   "source": [
    "### Conjunto de dados agregando filmes por ano"
   ]
  },
  {
   "cell_type": "markdown",
   "metadata": {
    "slideshow": {
     "slide_type": "-"
    }
   },
   "source": [
    "|Coluna| Conteúdo|\n",
    "|------|-----------|\n",
    "`'Ano'`| Ano\n",
    "`'Total Bruto em Bilhões'`| Total bruto de bilheteria doméstica, em bilhões de dólares, de todos os filmes lançados\n",
    "`'Número de filmes'`| Número de filmes lançados\n",
    "`'Filme #1'`| Filme de maior bilheteria"
   ]
  },
  {
   "cell_type": "code",
   "execution_count": 7,
   "metadata": {
    "execution": {
     "iopub.execute_input": "2025-03-30T18:06:00.134186Z",
     "iopub.status.busy": "2025-03-30T18:06:00.133850Z",
     "iopub.status.idle": "2025-03-30T18:06:00.211238Z",
     "shell.execute_reply": "2025-03-30T18:06:00.210077Z"
    },
    "slideshow": {
     "slide_type": "slide"
    }
   },
   "outputs": [
    {
     "data": {
      "text/html": [
       "<div>\n",
       "<style scoped>\n",
       "    .dataframe tbody tr th:only-of-type {\n",
       "        vertical-align: middle;\n",
       "    }\n",
       "\n",
       "    .dataframe tbody tr th {\n",
       "        vertical-align: top;\n",
       "    }\n",
       "\n",
       "    .dataframe thead th {\n",
       "        text-align: right;\n",
       "    }\n",
       "</style>\n",
       "<table border=\"1\" class=\"dataframe\">\n",
       "  <thead>\n",
       "    <tr style=\"text-align: right;\">\n",
       "      <th></th>\n",
       "      <th>Total Gross in Billions</th>\n",
       "      <th>Number of Movies</th>\n",
       "      <th>#1 Movie</th>\n",
       "    </tr>\n",
       "    <tr>\n",
       "      <th>Year</th>\n",
       "      <th></th>\n",
       "      <th></th>\n",
       "      <th></th>\n",
       "    </tr>\n",
       "  </thead>\n",
       "  <tbody>\n",
       "    <tr>\n",
       "      <th>2022</th>\n",
       "      <td>5.64</td>\n",
       "      <td>380</td>\n",
       "      <td>Top Gun: Maverick</td>\n",
       "    </tr>\n",
       "    <tr>\n",
       "      <th>2021</th>\n",
       "      <td>4.48</td>\n",
       "      <td>439</td>\n",
       "      <td>Spider-Man: No Way Home</td>\n",
       "    </tr>\n",
       "    <tr>\n",
       "      <th>2020</th>\n",
       "      <td>2.11</td>\n",
       "      <td>456</td>\n",
       "      <td>Bad Boys for Life</td>\n",
       "    </tr>\n",
       "    <tr>\n",
       "      <th>2019</th>\n",
       "      <td>11.36</td>\n",
       "      <td>910</td>\n",
       "      <td>Avengers: Endgame</td>\n",
       "    </tr>\n",
       "    <tr>\n",
       "      <th>2018</th>\n",
       "      <td>11.89</td>\n",
       "      <td>993</td>\n",
       "      <td>Black Panther</td>\n",
       "    </tr>\n",
       "    <tr>\n",
       "      <th>2017</th>\n",
       "      <td>11.08</td>\n",
       "      <td>854</td>\n",
       "      <td>Star Wars: Episode VIII - The Last Jedi</td>\n",
       "    </tr>\n",
       "    <tr>\n",
       "      <th>2016</th>\n",
       "      <td>11.38</td>\n",
       "      <td>855</td>\n",
       "      <td>Finding Dory</td>\n",
       "    </tr>\n",
       "    <tr>\n",
       "      <th>2015</th>\n",
       "      <td>11.15</td>\n",
       "      <td>845</td>\n",
       "      <td>Jurassic World</td>\n",
       "    </tr>\n",
       "    <tr>\n",
       "      <th>2014</th>\n",
       "      <td>10.37</td>\n",
       "      <td>849</td>\n",
       "      <td>Guardians of the Galaxy</td>\n",
       "    </tr>\n",
       "    <tr>\n",
       "      <th>2013</th>\n",
       "      <td>10.96</td>\n",
       "      <td>826</td>\n",
       "      <td>Iron Man 3</td>\n",
       "    </tr>\n",
       "    <tr>\n",
       "      <th>2012</th>\n",
       "      <td>10.84</td>\n",
       "      <td>807</td>\n",
       "      <td>The Avengers</td>\n",
       "    </tr>\n",
       "    <tr>\n",
       "      <th>2011</th>\n",
       "      <td>10.16</td>\n",
       "      <td>731</td>\n",
       "      <td>Harry Potter and the Deathly Hallows: Part 2</td>\n",
       "    </tr>\n",
       "    <tr>\n",
       "      <th>2010</th>\n",
       "      <td>10.59</td>\n",
       "      <td>651</td>\n",
       "      <td>Avatar</td>\n",
       "    </tr>\n",
       "    <tr>\n",
       "      <th>2009</th>\n",
       "      <td>10.62</td>\n",
       "      <td>646</td>\n",
       "      <td>Transformers: Revenge of the Fallen</td>\n",
       "    </tr>\n",
       "    <tr>\n",
       "      <th>2008</th>\n",
       "      <td>9.65</td>\n",
       "      <td>725</td>\n",
       "      <td>The Dark Knight</td>\n",
       "    </tr>\n",
       "    <tr>\n",
       "      <th>2007</th>\n",
       "      <td>9.68</td>\n",
       "      <td>775</td>\n",
       "      <td>Spider-Man 3</td>\n",
       "    </tr>\n",
       "    <tr>\n",
       "      <th>2006</th>\n",
       "      <td>9.20</td>\n",
       "      <td>746</td>\n",
       "      <td>Pirates of the Caribbean: Dead Man's Chest</td>\n",
       "    </tr>\n",
       "    <tr>\n",
       "      <th>2005</th>\n",
       "      <td>8.83</td>\n",
       "      <td>676</td>\n",
       "      <td>Star Wars: Episode III - Revenge of the Sith</td>\n",
       "    </tr>\n",
       "    <tr>\n",
       "      <th>2004</th>\n",
       "      <td>9.35</td>\n",
       "      <td>700</td>\n",
       "      <td>Shrek 2</td>\n",
       "    </tr>\n",
       "    <tr>\n",
       "      <th>2003</th>\n",
       "      <td>9.23</td>\n",
       "      <td>667</td>\n",
       "      <td>Finding Nemo</td>\n",
       "    </tr>\n",
       "    <tr>\n",
       "      <th>2002</th>\n",
       "      <td>9.16</td>\n",
       "      <td>570</td>\n",
       "      <td>Spider-Man</td>\n",
       "    </tr>\n",
       "    <tr>\n",
       "      <th>2001</th>\n",
       "      <td>7.96</td>\n",
       "      <td>412</td>\n",
       "      <td>Harry Potter and the Sorcerer's Stone</td>\n",
       "    </tr>\n",
       "    <tr>\n",
       "      <th>2000</th>\n",
       "      <td>7.48</td>\n",
       "      <td>439</td>\n",
       "      <td>How the Grinch Stole Christmas</td>\n",
       "    </tr>\n",
       "    <tr>\n",
       "      <th>1999</th>\n",
       "      <td>7.34</td>\n",
       "      <td>448</td>\n",
       "      <td>Star Wars: Episode I - The Phantom Menace</td>\n",
       "    </tr>\n",
       "    <tr>\n",
       "      <th>1998</th>\n",
       "      <td>6.70</td>\n",
       "      <td>334</td>\n",
       "      <td>Titanic</td>\n",
       "    </tr>\n",
       "    <tr>\n",
       "      <th>1997</th>\n",
       "      <td>6.08</td>\n",
       "      <td>310</td>\n",
       "      <td>Men in Black</td>\n",
       "    </tr>\n",
       "    <tr>\n",
       "      <th>1996</th>\n",
       "      <td>5.60</td>\n",
       "      <td>306</td>\n",
       "      <td>Independence Day</td>\n",
       "    </tr>\n",
       "    <tr>\n",
       "      <th>1995</th>\n",
       "      <td>5.11</td>\n",
       "      <td>291</td>\n",
       "      <td>Batman Forever</td>\n",
       "    </tr>\n",
       "    <tr>\n",
       "      <th>1994</th>\n",
       "      <td>5.06</td>\n",
       "      <td>259</td>\n",
       "      <td>The Lion King</td>\n",
       "    </tr>\n",
       "    <tr>\n",
       "      <th>1993</th>\n",
       "      <td>4.82</td>\n",
       "      <td>267</td>\n",
       "      <td>Jurassic Park</td>\n",
       "    </tr>\n",
       "    <tr>\n",
       "      <th>1992</th>\n",
       "      <td>4.52</td>\n",
       "      <td>247</td>\n",
       "      <td>Batman Returns</td>\n",
       "    </tr>\n",
       "    <tr>\n",
       "      <th>1991</th>\n",
       "      <td>4.34</td>\n",
       "      <td>253</td>\n",
       "      <td>Terminator 2: Judgment Day</td>\n",
       "    </tr>\n",
       "    <tr>\n",
       "      <th>1990</th>\n",
       "      <td>4.33</td>\n",
       "      <td>236</td>\n",
       "      <td>Ghost</td>\n",
       "    </tr>\n",
       "    <tr>\n",
       "      <th>1989</th>\n",
       "      <td>4.08</td>\n",
       "      <td>235</td>\n",
       "      <td>Batman</td>\n",
       "    </tr>\n",
       "    <tr>\n",
       "      <th>1988</th>\n",
       "      <td>3.54</td>\n",
       "      <td>239</td>\n",
       "      <td>Who Framed Roger Rabbit</td>\n",
       "    </tr>\n",
       "    <tr>\n",
       "      <th>1987</th>\n",
       "      <td>3.34</td>\n",
       "      <td>226</td>\n",
       "      <td>Beverly Hills Cop II</td>\n",
       "    </tr>\n",
       "    <tr>\n",
       "      <th>1986</th>\n",
       "      <td>3.07</td>\n",
       "      <td>201</td>\n",
       "      <td>Top Gun</td>\n",
       "    </tr>\n",
       "    <tr>\n",
       "      <th>1985</th>\n",
       "      <td>3.02</td>\n",
       "      <td>191</td>\n",
       "      <td>Back to the Future</td>\n",
       "    </tr>\n",
       "    <tr>\n",
       "      <th>1984</th>\n",
       "      <td>3.07</td>\n",
       "      <td>169</td>\n",
       "      <td>Ghostbusters</td>\n",
       "    </tr>\n",
       "    <tr>\n",
       "      <th>1983</th>\n",
       "      <td>2.74</td>\n",
       "      <td>149</td>\n",
       "      <td>Star Wars: Episode VI - Return of the Jedi</td>\n",
       "    </tr>\n",
       "    <tr>\n",
       "      <th>1982</th>\n",
       "      <td>3.00</td>\n",
       "      <td>132</td>\n",
       "      <td>E.T. the Extra-Terrestrial</td>\n",
       "    </tr>\n",
       "    <tr>\n",
       "      <th>1981</th>\n",
       "      <td>0.90</td>\n",
       "      <td>56</td>\n",
       "      <td>Superman II</td>\n",
       "    </tr>\n",
       "    <tr>\n",
       "      <th>1980</th>\n",
       "      <td>1.64</td>\n",
       "      <td>68</td>\n",
       "      <td>Star Wars: Episode V - The Empire Strikes Back</td>\n",
       "    </tr>\n",
       "    <tr>\n",
       "      <th>1979</th>\n",
       "      <td>1.23</td>\n",
       "      <td>40</td>\n",
       "      <td>Superman</td>\n",
       "    </tr>\n",
       "    <tr>\n",
       "      <th>1978</th>\n",
       "      <td>0.83</td>\n",
       "      <td>13</td>\n",
       "      <td>Grease</td>\n",
       "    </tr>\n",
       "    <tr>\n",
       "      <th>1977</th>\n",
       "      <td>0.44</td>\n",
       "      <td>9</td>\n",
       "      <td>Star Wars: Episode IV - A New Hope</td>\n",
       "    </tr>\n",
       "  </tbody>\n",
       "</table>\n",
       "</div>"
      ],
      "text/plain": [
       "      Total Gross in Billions  Number of Movies  \\\n",
       "Year                                              \n",
       "2022                     5.64               380   \n",
       "2021                     4.48               439   \n",
       "2020                     2.11               456   \n",
       "2019                    11.36               910   \n",
       "2018                    11.89               993   \n",
       "2017                    11.08               854   \n",
       "2016                    11.38               855   \n",
       "2015                    11.15               845   \n",
       "2014                    10.37               849   \n",
       "2013                    10.96               826   \n",
       "2012                    10.84               807   \n",
       "2011                    10.16               731   \n",
       "2010                    10.59               651   \n",
       "2009                    10.62               646   \n",
       "2008                     9.65               725   \n",
       "2007                     9.68               775   \n",
       "2006                     9.20               746   \n",
       "2005                     8.83               676   \n",
       "2004                     9.35               700   \n",
       "2003                     9.23               667   \n",
       "2002                     9.16               570   \n",
       "2001                     7.96               412   \n",
       "2000                     7.48               439   \n",
       "1999                     7.34               448   \n",
       "1998                     6.70               334   \n",
       "1997                     6.08               310   \n",
       "1996                     5.60               306   \n",
       "1995                     5.11               291   \n",
       "1994                     5.06               259   \n",
       "1993                     4.82               267   \n",
       "1992                     4.52               247   \n",
       "1991                     4.34               253   \n",
       "1990                     4.33               236   \n",
       "1989                     4.08               235   \n",
       "1988                     3.54               239   \n",
       "1987                     3.34               226   \n",
       "1986                     3.07               201   \n",
       "1985                     3.02               191   \n",
       "1984                     3.07               169   \n",
       "1983                     2.74               149   \n",
       "1982                     3.00               132   \n",
       "1981                     0.90                56   \n",
       "1980                     1.64                68   \n",
       "1979                     1.23                40   \n",
       "1978                     0.83                13   \n",
       "1977                     0.44                 9   \n",
       "\n",
       "                                            #1 Movie  \n",
       "Year                                                  \n",
       "2022                               Top Gun: Maverick  \n",
       "2021                         Spider-Man: No Way Home  \n",
       "2020                               Bad Boys for Life  \n",
       "2019                               Avengers: Endgame  \n",
       "2018                                   Black Panther  \n",
       "2017         Star Wars: Episode VIII - The Last Jedi  \n",
       "2016                                    Finding Dory  \n",
       "2015                                  Jurassic World  \n",
       "2014                         Guardians of the Galaxy  \n",
       "2013                                      Iron Man 3  \n",
       "2012                                    The Avengers  \n",
       "2011    Harry Potter and the Deathly Hallows: Part 2  \n",
       "2010                                          Avatar  \n",
       "2009             Transformers: Revenge of the Fallen  \n",
       "2008                                 The Dark Knight  \n",
       "2007                                    Spider-Man 3  \n",
       "2006      Pirates of the Caribbean: Dead Man's Chest  \n",
       "2005    Star Wars: Episode III - Revenge of the Sith  \n",
       "2004                                         Shrek 2  \n",
       "2003                                    Finding Nemo  \n",
       "2002                                      Spider-Man  \n",
       "2001           Harry Potter and the Sorcerer's Stone  \n",
       "2000                  How the Grinch Stole Christmas  \n",
       "1999       Star Wars: Episode I - The Phantom Menace  \n",
       "1998                                         Titanic  \n",
       "1997                                    Men in Black  \n",
       "1996                                Independence Day  \n",
       "1995                                  Batman Forever  \n",
       "1994                                   The Lion King  \n",
       "1993                                   Jurassic Park  \n",
       "1992                                  Batman Returns  \n",
       "1991                      Terminator 2: Judgment Day  \n",
       "1990                                           Ghost  \n",
       "1989                                          Batman  \n",
       "1988                         Who Framed Roger Rabbit  \n",
       "1987                            Beverly Hills Cop II  \n",
       "1986                                         Top Gun  \n",
       "1985                              Back to the Future  \n",
       "1984                                    Ghostbusters  \n",
       "1983      Star Wars: Episode VI - Return of the Jedi  \n",
       "1982                      E.T. the Extra-Terrestrial  \n",
       "1981                                     Superman II  \n",
       "1980  Star Wars: Episode V - The Empire Strikes Back  \n",
       "1979                                        Superman  \n",
       "1978                                          Grease  \n",
       "1977              Star Wars: Episode IV - A New Hope  "
      ]
     },
     "execution_count": 7,
     "metadata": {},
     "output_type": "execute_result"
    }
   ],
   "source": [
    "movies_by_year = pd.read_csv('https://raw.githubusercontent.com/flaviovdf/fcd/master/assets/07-DataViz/data/movies_by_year.csv').set_index('Year')\n",
    "movies_by_year"
   ]
  },
  {
   "cell_type": "markdown",
   "metadata": {
    "slideshow": {
     "slide_type": "slide"
    }
   },
   "source": [
    "### Gráficos de linha\n",
    "\n",
    "Como o número de filmes mudou ao longo do tempo? 🤔"
   ]
  },
  {
   "cell_type": "code",
   "execution_count": 8,
   "metadata": {
    "execution": {
     "iopub.execute_input": "2025-03-30T18:06:00.215365Z",
     "iopub.status.busy": "2025-03-30T18:06:00.214964Z",
     "iopub.status.idle": "2025-03-30T18:06:00.304510Z",
     "shell.execute_reply": "2025-03-30T18:06:00.304096Z"
    }
   },
   "outputs": [
    {
     "data": {
      "image/png": "[encoded data removed]",
      "text/plain": [
       "<Figure size 640x480 with 1 Axes>"
      ]
     },
     "metadata": {},
     "output_type": "display_data"
    }
   ],
   "source": [
    "movies_by_year.plot(kind='line', y='Number of Movies');"
   ]
  },
  {
   "cell_type": "markdown",
   "metadata": {
    "slideshow": {
     "slide_type": "slide"
    }
   },
   "source": [
    "### Gráficos de linha\n",
    "\n",
    "- Os gráficos de linhas mostram tendências em variáveis ​​numéricas ao longo do tempo.\n",
    "- Para criar um a partir de um DataFrame `df`, use\n",
    "```\n",
    "df.plot(\n",
    "    kind='line', \n",
    "    x=x_column_for_horizontal, \n",
    "    y=y_column_for_vertical\n",
    ")\n",
    "```"
   ]
  },
  {
   "cell_type": "markdown",
   "metadata": {
    "slideshow": {
     "slide_type": "slide"
    }
   },
   "source": [
    "### Dica de plotagem\n",
    "\n",
    "- **Dica**: se você quiser que o eixo x seja o índice, omita o argumento `x=`!\n",
    "- Não funciona para gráficos de dispersão, mas funciona para a maioria dos outros tipos de gráficos."
   ]
  },
  {
   "cell_type": "code",
   "execution_count": 9,
   "metadata": {
    "execution": {
     "iopub.execute_input": "2025-03-30T18:06:00.306300Z",
     "iopub.status.busy": "2025-03-30T18:06:00.305971Z",
     "iopub.status.idle": "2025-03-30T18:06:00.405932Z",
     "shell.execute_reply": "2025-03-30T18:06:00.405602Z"
    }
   },
   "outputs": [
    {
     "data": {
      "image/png": "[encoded data removed]",
      "text/plain": [
       "<Figure size 640x480 with 1 Axes>"
      ]
     },
     "metadata": {},
     "output_type": "display_data"
    }
   ],
   "source": [
    "movies_by_year.plot(kind='line', y='Number of Movies');"
   ]
  },
  {
   "cell_type": "markdown",
   "metadata": {
    "slideshow": {
     "slide_type": "slide"
    }
   },
   "source": [
    "### Desde o ano 2000\n",
    "\n",
    "Podemos criar um gráfico de linhas de apenas 2.000 em diante consultando `movies_by_year` antes de chamar `.plot`."
   ]
  },
  {
   "cell_type": "code",
   "execution_count": 10,
   "metadata": {
    "execution": {
     "iopub.execute_input": "2025-03-30T18:06:00.407759Z",
     "iopub.status.busy": "2025-03-30T18:06:00.407600Z",
     "iopub.status.idle": "2025-03-30T18:06:00.496750Z",
     "shell.execute_reply": "2025-03-30T18:06:00.496401Z"
    },
    "scrolled": false,
    "slideshow": {
     "slide_type": "-"
    }
   },
   "outputs": [
    {
     "data": {
      "image/png": "[encoded data removed]",
      "text/plain": [
       "<Figure size 640x480 with 1 Axes>"
      ]
     },
     "metadata": {},
     "output_type": "display_data"
    }
   ],
   "source": [
    "movies_by_year[movies_by_year.index >= 2000].plot(kind='line', y='Number of Movies');"
   ]
  },
  {
   "cell_type": "markdown",
   "metadata": {},
   "source": [
    "O que você acha que explica as quedas em torno de 2008 e 2020?"
   ]
  },
  {
   "cell_type": "markdown",
   "metadata": {
    "slideshow": {
     "slide_type": "slide"
    }
   },
   "source": [
    "### Como isso afetou o total bruto?"
   ]
  },
  {
   "cell_type": "code",
   "execution_count": 11,
   "metadata": {
    "execution": {
     "iopub.execute_input": "2025-03-30T18:06:00.498722Z",
     "iopub.status.busy": "2025-03-30T18:06:00.498569Z",
     "iopub.status.idle": "2025-03-30T18:06:00.582944Z",
     "shell.execute_reply": "2025-03-30T18:06:00.582470Z"
    }
   },
   "outputs": [
    {
     "data": {
      "image/png": "[encoded data removed]",
      "text/plain": [
       "<Figure size 640x480 with 1 Axes>"
      ]
     },
     "metadata": {},
     "output_type": "display_data"
    }
   ],
   "source": [
    "movies_by_year[movies_by_year.index >= 2000].plot(kind='line', y='Total Gross in Billions');"
   ]
  },
  {
   "cell_type": "markdown",
   "metadata": {
    "slideshow": {
     "slide_type": "slide"
    }
   },
   "source": [
    "### Qual foi o filme de maior bilheteria de 2016? 🐟"
   ]
  },
  {
   "cell_type": "code",
   "execution_count": 12,
   "metadata": {
    "execution": {
     "iopub.execute_input": "2025-03-30T18:06:00.584978Z",
     "iopub.status.busy": "2025-03-30T18:06:00.584732Z",
     "iopub.status.idle": "2025-03-30T18:06:00.588124Z",
     "shell.execute_reply": "2025-03-30T18:06:00.587688Z"
    }
   },
   "outputs": [
    {
     "data": {
      "text/plain": [
       "Ellipsis"
      ]
     },
     "execution_count": 12,
     "metadata": {},
     "output_type": "execute_result"
    }
   ],
   "source": [
    "..."
   ]
  },
  {
   "cell_type": "markdown",
   "metadata": {
    "slideshow": {
     "slide_type": "slide"
    }
   },
   "source": [
    "## Gráficos de barras 📊"
   ]
  },
  {
   "cell_type": "markdown",
   "metadata": {
    "slideshow": {
     "slide_type": "slide"
    }
   },
   "source": [
    "### Conjunto de dados das 200 melhores músicas dos EUA no Spotify no sábado (21/01/23)\n",
    "\n",
    "[Downloaded from here – check it out!](https://spotifycharts.com/regional)"
   ]
  },
  {
   "cell_type": "code",
   "execution_count": 13,
   "metadata": {
    "execution": {
     "iopub.execute_input": "2025-03-30T18:06:00.589937Z",
     "iopub.status.busy": "2025-03-30T18:06:00.589649Z",
     "iopub.status.idle": "2025-03-30T18:06:00.642816Z",
     "shell.execute_reply": "2025-03-30T18:06:00.642293Z"
    }
   },
   "outputs": [
    {
     "data": {
      "text/html": [
       "<div>\n",
       "<style scoped>\n",
       "    .dataframe tbody tr th:only-of-type {\n",
       "        vertical-align: middle;\n",
       "    }\n",
       "\n",
       "    .dataframe tbody tr th {\n",
       "        vertical-align: top;\n",
       "    }\n",
       "\n",
       "    .dataframe thead th {\n",
       "        text-align: right;\n",
       "    }\n",
       "</style>\n",
       "<table border=\"1\" class=\"dataframe\">\n",
       "  <thead>\n",
       "    <tr style=\"text-align: right;\">\n",
       "      <th></th>\n",
       "      <th>track_name</th>\n",
       "      <th>artist_names</th>\n",
       "      <th>streams</th>\n",
       "      <th>uri</th>\n",
       "    </tr>\n",
       "    <tr>\n",
       "      <th>rank</th>\n",
       "      <th></th>\n",
       "      <th></th>\n",
       "      <th></th>\n",
       "      <th></th>\n",
       "    </tr>\n",
       "  </thead>\n",
       "  <tbody>\n",
       "    <tr>\n",
       "      <th>1</th>\n",
       "      <td>Flowers</td>\n",
       "      <td>Miley Cyrus</td>\n",
       "      <td>3356361</td>\n",
       "      <td>spotify:track:0yLdNVWF3Srea0uzk55zFn</td>\n",
       "    </tr>\n",
       "    <tr>\n",
       "      <th>2</th>\n",
       "      <td>Kill Bill</td>\n",
       "      <td>SZA</td>\n",
       "      <td>2479445</td>\n",
       "      <td>spotify:track:1Qrg8KqiBpW07V7PNxwwwL</td>\n",
       "    </tr>\n",
       "    <tr>\n",
       "      <th>3</th>\n",
       "      <td>Creepin' (with The Weeknd &amp; 21 Savage)</td>\n",
       "      <td>Metro Boomin, The Weeknd, 21 Savage</td>\n",
       "      <td>1337320</td>\n",
       "      <td>spotify:track:2dHHgzDwk4BJdRwy9uXhTO</td>\n",
       "    </tr>\n",
       "    <tr>\n",
       "      <th>4</th>\n",
       "      <td>Superhero (Heroes &amp; Villains) [with Future &amp; C...</td>\n",
       "      <td>Metro Boomin, Future, Chris Brown</td>\n",
       "      <td>1235285</td>\n",
       "      <td>spotify:track:0vjeOZ3Ft5jvAi9SBFJm1j</td>\n",
       "    </tr>\n",
       "    <tr>\n",
       "      <th>5</th>\n",
       "      <td>Rich Flex</td>\n",
       "      <td>Drake, 21 Savage</td>\n",
       "      <td>1109704</td>\n",
       "      <td>spotify:track:1bDbXMyjaUIooNwFE9wn0N</td>\n",
       "    </tr>\n",
       "    <tr>\n",
       "      <th>...</th>\n",
       "      <td>...</td>\n",
       "      <td>...</td>\n",
       "      <td>...</td>\n",
       "      <td>...</td>\n",
       "    </tr>\n",
       "    <tr>\n",
       "      <th>196</th>\n",
       "      <td>Burn, Burn, Burn</td>\n",
       "      <td>Zach Bryan</td>\n",
       "      <td>267772</td>\n",
       "      <td>spotify:track:5jfhLCSIFUO4ndzNRh4w4G</td>\n",
       "    </tr>\n",
       "    <tr>\n",
       "      <th>197</th>\n",
       "      <td>LET GO</td>\n",
       "      <td>Central Cee</td>\n",
       "      <td>267401</td>\n",
       "      <td>spotify:track:3zkyus0njMCL6phZmNNEeN</td>\n",
       "    </tr>\n",
       "    <tr>\n",
       "      <th>198</th>\n",
       "      <td>Major Distribution</td>\n",
       "      <td>Drake, 21 Savage</td>\n",
       "      <td>266986</td>\n",
       "      <td>spotify:track:46s57QULU02Voy0Kup6UEb</td>\n",
       "    </tr>\n",
       "    <tr>\n",
       "      <th>199</th>\n",
       "      <td>Sun to Me</td>\n",
       "      <td>Zach Bryan</td>\n",
       "      <td>266968</td>\n",
       "      <td>spotify:track:1SjsVdSXpwm1kTdYEHoPIT</td>\n",
       "    </tr>\n",
       "    <tr>\n",
       "      <th>200</th>\n",
       "      <td>The Real Slim Shady</td>\n",
       "      <td>Eminem</td>\n",
       "      <td>266698</td>\n",
       "      <td>spotify:track:3yfqSUWxFvZELEM4PmlwIR</td>\n",
       "    </tr>\n",
       "  </tbody>\n",
       "</table>\n",
       "<p>200 rows × 4 columns</p>\n",
       "</div>"
      ],
      "text/plain": [
       "                                             track_name  \\\n",
       "rank                                                      \n",
       "1                                               Flowers   \n",
       "2                                             Kill Bill   \n",
       "3                Creepin' (with The Weeknd & 21 Savage)   \n",
       "4     Superhero (Heroes & Villains) [with Future & C...   \n",
       "5                                             Rich Flex   \n",
       "...                                                 ...   \n",
       "196                                    Burn, Burn, Burn   \n",
       "197                                              LET GO   \n",
       "198                                  Major Distribution   \n",
       "199                                           Sun to Me   \n",
       "200                                 The Real Slim Shady   \n",
       "\n",
       "                             artist_names  streams  \\\n",
       "rank                                                 \n",
       "1                             Miley Cyrus  3356361   \n",
       "2                                     SZA  2479445   \n",
       "3     Metro Boomin, The Weeknd, 21 Savage  1337320   \n",
       "4       Metro Boomin, Future, Chris Brown  1235285   \n",
       "5                        Drake, 21 Savage  1109704   \n",
       "...                                   ...      ...   \n",
       "196                            Zach Bryan   267772   \n",
       "197                           Central Cee   267401   \n",
       "198                      Drake, 21 Savage   266986   \n",
       "199                            Zach Bryan   266968   \n",
       "200                                Eminem   266698   \n",
       "\n",
       "                                       uri  \n",
       "rank                                        \n",
       "1     spotify:track:0yLdNVWF3Srea0uzk55zFn  \n",
       "2     spotify:track:1Qrg8KqiBpW07V7PNxwwwL  \n",
       "3     spotify:track:2dHHgzDwk4BJdRwy9uXhTO  \n",
       "4     spotify:track:0vjeOZ3Ft5jvAi9SBFJm1j  \n",
       "5     spotify:track:1bDbXMyjaUIooNwFE9wn0N  \n",
       "...                                    ...  \n",
       "196   spotify:track:5jfhLCSIFUO4ndzNRh4w4G  \n",
       "197   spotify:track:3zkyus0njMCL6phZmNNEeN  \n",
       "198   spotify:track:46s57QULU02Voy0Kup6UEb  \n",
       "199   spotify:track:1SjsVdSXpwm1kTdYEHoPIT  \n",
       "200   spotify:track:3yfqSUWxFvZELEM4PmlwIR  \n",
       "\n",
       "[200 rows x 4 columns]"
      ]
     },
     "execution_count": 13,
     "metadata": {},
     "output_type": "execute_result"
    }
   ],
   "source": [
    "charts = (pd.read_csv('https://raw.githubusercontent.com/flaviovdf/fcd/master/assets/07-DataViz/data/regional-us-daily-2023-01-21.csv')\n",
    "          .set_index('rank')\n",
    "          .get(['track_name', 'artist_names', 'streams', 'uri'])\n",
    "         )\n",
    "charts"
   ]
  },
  {
   "cell_type": "markdown",
   "metadata": {
    "slideshow": {
     "slide_type": "slide"
    }
   },
   "source": [
    "### Gráficos de barra\n",
    "\n",
    "Quantos streams as 10 músicas mais populares têm?"
   ]
  },
  {
   "cell_type": "code",
   "execution_count": 14,
   "metadata": {
    "execution": {
     "iopub.execute_input": "2025-03-30T18:06:00.644623Z",
     "iopub.status.busy": "2025-03-30T18:06:00.644494Z",
     "iopub.status.idle": "2025-03-30T18:06:00.649379Z",
     "shell.execute_reply": "2025-03-30T18:06:00.649070Z"
    }
   },
   "outputs": [
    {
     "data": {
      "text/html": [
       "<div>\n",
       "<style scoped>\n",
       "    .dataframe tbody tr th:only-of-type {\n",
       "        vertical-align: middle;\n",
       "    }\n",
       "\n",
       "    .dataframe tbody tr th {\n",
       "        vertical-align: top;\n",
       "    }\n",
       "\n",
       "    .dataframe thead th {\n",
       "        text-align: right;\n",
       "    }\n",
       "</style>\n",
       "<table border=\"1\" class=\"dataframe\">\n",
       "  <thead>\n",
       "    <tr style=\"text-align: right;\">\n",
       "      <th></th>\n",
       "      <th>track_name</th>\n",
       "      <th>artist_names</th>\n",
       "      <th>streams</th>\n",
       "      <th>uri</th>\n",
       "    </tr>\n",
       "    <tr>\n",
       "      <th>rank</th>\n",
       "      <th></th>\n",
       "      <th></th>\n",
       "      <th></th>\n",
       "      <th></th>\n",
       "    </tr>\n",
       "  </thead>\n",
       "  <tbody>\n",
       "    <tr>\n",
       "      <th>1</th>\n",
       "      <td>Flowers</td>\n",
       "      <td>Miley Cyrus</td>\n",
       "      <td>3356361</td>\n",
       "      <td>spotify:track:0yLdNVWF3Srea0uzk55zFn</td>\n",
       "    </tr>\n",
       "    <tr>\n",
       "      <th>2</th>\n",
       "      <td>Kill Bill</td>\n",
       "      <td>SZA</td>\n",
       "      <td>2479445</td>\n",
       "      <td>spotify:track:1Qrg8KqiBpW07V7PNxwwwL</td>\n",
       "    </tr>\n",
       "    <tr>\n",
       "      <th>3</th>\n",
       "      <td>Creepin' (with The Weeknd &amp; 21 Savage)</td>\n",
       "      <td>Metro Boomin, The Weeknd, 21 Savage</td>\n",
       "      <td>1337320</td>\n",
       "      <td>spotify:track:2dHHgzDwk4BJdRwy9uXhTO</td>\n",
       "    </tr>\n",
       "    <tr>\n",
       "      <th>4</th>\n",
       "      <td>Superhero (Heroes &amp; Villains) [with Future &amp; C...</td>\n",
       "      <td>Metro Boomin, Future, Chris Brown</td>\n",
       "      <td>1235285</td>\n",
       "      <td>spotify:track:0vjeOZ3Ft5jvAi9SBFJm1j</td>\n",
       "    </tr>\n",
       "    <tr>\n",
       "      <th>5</th>\n",
       "      <td>Rich Flex</td>\n",
       "      <td>Drake, 21 Savage</td>\n",
       "      <td>1109704</td>\n",
       "      <td>spotify:track:1bDbXMyjaUIooNwFE9wn0N</td>\n",
       "    </tr>\n",
       "    <tr>\n",
       "      <th>...</th>\n",
       "      <td>...</td>\n",
       "      <td>...</td>\n",
       "      <td>...</td>\n",
       "      <td>...</td>\n",
       "    </tr>\n",
       "    <tr>\n",
       "      <th>196</th>\n",
       "      <td>Burn, Burn, Burn</td>\n",
       "      <td>Zach Bryan</td>\n",
       "      <td>267772</td>\n",
       "      <td>spotify:track:5jfhLCSIFUO4ndzNRh4w4G</td>\n",
       "    </tr>\n",
       "    <tr>\n",
       "      <th>197</th>\n",
       "      <td>LET GO</td>\n",
       "      <td>Central Cee</td>\n",
       "      <td>267401</td>\n",
       "      <td>spotify:track:3zkyus0njMCL6phZmNNEeN</td>\n",
       "    </tr>\n",
       "    <tr>\n",
       "      <th>198</th>\n",
       "      <td>Major Distribution</td>\n",
       "      <td>Drake, 21 Savage</td>\n",
       "      <td>266986</td>\n",
       "      <td>spotify:track:46s57QULU02Voy0Kup6UEb</td>\n",
       "    </tr>\n",
       "    <tr>\n",
       "      <th>199</th>\n",
       "      <td>Sun to Me</td>\n",
       "      <td>Zach Bryan</td>\n",
       "      <td>266968</td>\n",
       "      <td>spotify:track:1SjsVdSXpwm1kTdYEHoPIT</td>\n",
       "    </tr>\n",
       "    <tr>\n",
       "      <th>200</th>\n",
       "      <td>The Real Slim Shady</td>\n",
       "      <td>Eminem</td>\n",
       "      <td>266698</td>\n",
       "      <td>spotify:track:3yfqSUWxFvZELEM4PmlwIR</td>\n",
       "    </tr>\n",
       "  </tbody>\n",
       "</table>\n",
       "<p>200 rows × 4 columns</p>\n",
       "</div>"
      ],
      "text/plain": [
       "                                             track_name  \\\n",
       "rank                                                      \n",
       "1                                               Flowers   \n",
       "2                                             Kill Bill   \n",
       "3                Creepin' (with The Weeknd & 21 Savage)   \n",
       "4     Superhero (Heroes & Villains) [with Future & C...   \n",
       "5                                             Rich Flex   \n",
       "...                                                 ...   \n",
       "196                                    Burn, Burn, Burn   \n",
       "197                                              LET GO   \n",
       "198                                  Major Distribution   \n",
       "199                                           Sun to Me   \n",
       "200                                 The Real Slim Shady   \n",
       "\n",
       "                             artist_names  streams  \\\n",
       "rank                                                 \n",
       "1                             Miley Cyrus  3356361   \n",
       "2                                     SZA  2479445   \n",
       "3     Metro Boomin, The Weeknd, 21 Savage  1337320   \n",
       "4       Metro Boomin, Future, Chris Brown  1235285   \n",
       "5                        Drake, 21 Savage  1109704   \n",
       "...                                   ...      ...   \n",
       "196                            Zach Bryan   267772   \n",
       "197                           Central Cee   267401   \n",
       "198                      Drake, 21 Savage   266986   \n",
       "199                            Zach Bryan   266968   \n",
       "200                                Eminem   266698   \n",
       "\n",
       "                                       uri  \n",
       "rank                                        \n",
       "1     spotify:track:0yLdNVWF3Srea0uzk55zFn  \n",
       "2     spotify:track:1Qrg8KqiBpW07V7PNxwwwL  \n",
       "3     spotify:track:2dHHgzDwk4BJdRwy9uXhTO  \n",
       "4     spotify:track:0vjeOZ3Ft5jvAi9SBFJm1j  \n",
       "5     spotify:track:1bDbXMyjaUIooNwFE9wn0N  \n",
       "...                                    ...  \n",
       "196   spotify:track:5jfhLCSIFUO4ndzNRh4w4G  \n",
       "197   spotify:track:3zkyus0njMCL6phZmNNEeN  \n",
       "198   spotify:track:46s57QULU02Voy0Kup6UEb  \n",
       "199   spotify:track:1SjsVdSXpwm1kTdYEHoPIT  \n",
       "200   spotify:track:3yfqSUWxFvZELEM4PmlwIR  \n",
       "\n",
       "[200 rows x 4 columns]"
      ]
     },
     "execution_count": 14,
     "metadata": {},
     "output_type": "execute_result"
    }
   ],
   "source": [
    "charts"
   ]
  },
  {
   "cell_type": "code",
   "execution_count": 15,
   "metadata": {
    "execution": {
     "iopub.execute_input": "2025-03-30T18:06:00.651326Z",
     "iopub.status.busy": "2025-03-30T18:06:00.651195Z",
     "iopub.status.idle": "2025-03-30T18:06:00.656113Z",
     "shell.execute_reply": "2025-03-30T18:06:00.655844Z"
    }
   },
   "outputs": [
    {
     "data": {
      "text/html": [
       "<div>\n",
       "<style scoped>\n",
       "    .dataframe tbody tr th:only-of-type {\n",
       "        vertical-align: middle;\n",
       "    }\n",
       "\n",
       "    .dataframe tbody tr th {\n",
       "        vertical-align: top;\n",
       "    }\n",
       "\n",
       "    .dataframe thead th {\n",
       "        text-align: right;\n",
       "    }\n",
       "</style>\n",
       "<table border=\"1\" class=\"dataframe\">\n",
       "  <thead>\n",
       "    <tr style=\"text-align: right;\">\n",
       "      <th></th>\n",
       "      <th>track_name</th>\n",
       "      <th>artist_names</th>\n",
       "      <th>streams</th>\n",
       "      <th>uri</th>\n",
       "    </tr>\n",
       "    <tr>\n",
       "      <th>rank</th>\n",
       "      <th></th>\n",
       "      <th></th>\n",
       "      <th></th>\n",
       "      <th></th>\n",
       "    </tr>\n",
       "  </thead>\n",
       "  <tbody>\n",
       "    <tr>\n",
       "      <th>1</th>\n",
       "      <td>Flowers</td>\n",
       "      <td>Miley Cyrus</td>\n",
       "      <td>3356361</td>\n",
       "      <td>spotify:track:0yLdNVWF3Srea0uzk55zFn</td>\n",
       "    </tr>\n",
       "    <tr>\n",
       "      <th>2</th>\n",
       "      <td>Kill Bill</td>\n",
       "      <td>SZA</td>\n",
       "      <td>2479445</td>\n",
       "      <td>spotify:track:1Qrg8KqiBpW07V7PNxwwwL</td>\n",
       "    </tr>\n",
       "    <tr>\n",
       "      <th>3</th>\n",
       "      <td>Creepin' (with The Weeknd &amp; 21 Savage)</td>\n",
       "      <td>Metro Boomin, The Weeknd, 21 Savage</td>\n",
       "      <td>1337320</td>\n",
       "      <td>spotify:track:2dHHgzDwk4BJdRwy9uXhTO</td>\n",
       "    </tr>\n",
       "    <tr>\n",
       "      <th>4</th>\n",
       "      <td>Superhero (Heroes &amp; Villains) [with Future &amp; C...</td>\n",
       "      <td>Metro Boomin, Future, Chris Brown</td>\n",
       "      <td>1235285</td>\n",
       "      <td>spotify:track:0vjeOZ3Ft5jvAi9SBFJm1j</td>\n",
       "    </tr>\n",
       "    <tr>\n",
       "      <th>5</th>\n",
       "      <td>Rich Flex</td>\n",
       "      <td>Drake, 21 Savage</td>\n",
       "      <td>1109704</td>\n",
       "      <td>spotify:track:1bDbXMyjaUIooNwFE9wn0N</td>\n",
       "    </tr>\n",
       "    <tr>\n",
       "      <th>6</th>\n",
       "      <td>Shakira: Bzrp Music Sessions, Vol. 53</td>\n",
       "      <td>Bizarrap, Shakira</td>\n",
       "      <td>1051226</td>\n",
       "      <td>spotify:track:4nrPB8O7Y7wsOCJdgXkthe</td>\n",
       "    </tr>\n",
       "    <tr>\n",
       "      <th>7</th>\n",
       "      <td>Just Wanna Rock</td>\n",
       "      <td>Lil Uzi Vert</td>\n",
       "      <td>998684</td>\n",
       "      <td>spotify:track:4FyesJzVpA39hbYvcseO2d</td>\n",
       "    </tr>\n",
       "    <tr>\n",
       "      <th>8</th>\n",
       "      <td>Anti-Hero</td>\n",
       "      <td>Taylor Swift</td>\n",
       "      <td>936166</td>\n",
       "      <td>spotify:track:0V3wPSX9ygBnCm8psDIegu</td>\n",
       "    </tr>\n",
       "    <tr>\n",
       "      <th>9</th>\n",
       "      <td>golden hour</td>\n",
       "      <td>JVKE</td>\n",
       "      <td>870031</td>\n",
       "      <td>spotify:track:5odlY52u43F5BjByhxg7wg</td>\n",
       "    </tr>\n",
       "    <tr>\n",
       "      <th>10</th>\n",
       "      <td>Unholy (feat. Kim Petras)</td>\n",
       "      <td>Sam Smith, Kim Petras</td>\n",
       "      <td>859271</td>\n",
       "      <td>spotify:track:3nqQXoyQOWXiESFLlDF1hG</td>\n",
       "    </tr>\n",
       "  </tbody>\n",
       "</table>\n",
       "</div>"
      ],
      "text/plain": [
       "                                             track_name  \\\n",
       "rank                                                      \n",
       "1                                               Flowers   \n",
       "2                                             Kill Bill   \n",
       "3                Creepin' (with The Weeknd & 21 Savage)   \n",
       "4     Superhero (Heroes & Villains) [with Future & C...   \n",
       "5                                             Rich Flex   \n",
       "6                 Shakira: Bzrp Music Sessions, Vol. 53   \n",
       "7                                       Just Wanna Rock   \n",
       "8                                             Anti-Hero   \n",
       "9                                           golden hour   \n",
       "10                            Unholy (feat. Kim Petras)   \n",
       "\n",
       "                             artist_names  streams  \\\n",
       "rank                                                 \n",
       "1                             Miley Cyrus  3356361   \n",
       "2                                     SZA  2479445   \n",
       "3     Metro Boomin, The Weeknd, 21 Savage  1337320   \n",
       "4       Metro Boomin, Future, Chris Brown  1235285   \n",
       "5                        Drake, 21 Savage  1109704   \n",
       "6                       Bizarrap, Shakira  1051226   \n",
       "7                            Lil Uzi Vert   998684   \n",
       "8                            Taylor Swift   936166   \n",
       "9                                    JVKE   870031   \n",
       "10                  Sam Smith, Kim Petras   859271   \n",
       "\n",
       "                                       uri  \n",
       "rank                                        \n",
       "1     spotify:track:0yLdNVWF3Srea0uzk55zFn  \n",
       "2     spotify:track:1Qrg8KqiBpW07V7PNxwwwL  \n",
       "3     spotify:track:2dHHgzDwk4BJdRwy9uXhTO  \n",
       "4     spotify:track:0vjeOZ3Ft5jvAi9SBFJm1j  \n",
       "5     spotify:track:1bDbXMyjaUIooNwFE9wn0N  \n",
       "6     spotify:track:4nrPB8O7Y7wsOCJdgXkthe  \n",
       "7     spotify:track:4FyesJzVpA39hbYvcseO2d  \n",
       "8     spotify:track:0V3wPSX9ygBnCm8psDIegu  \n",
       "9     spotify:track:5odlY52u43F5BjByhxg7wg  \n",
       "10    spotify:track:3nqQXoyQOWXiESFLlDF1hG  "
      ]
     },
     "execution_count": 15,
     "metadata": {},
     "output_type": "execute_result"
    }
   ],
   "source": [
    "charts.take(np.arange(10))"
   ]
  },
  {
   "cell_type": "code",
   "execution_count": 16,
   "metadata": {
    "execution": {
     "iopub.execute_input": "2025-03-30T18:06:00.658142Z",
     "iopub.status.busy": "2025-03-30T18:06:00.658000Z",
     "iopub.status.idle": "2025-03-30T18:06:00.810493Z",
     "shell.execute_reply": "2025-03-30T18:06:00.810095Z"
    }
   },
   "outputs": [
    {
     "data": {
      "image/png": "[encoded data removed]",
      "text/plain": [
       "<Figure size 640x480 with 1 Axes>"
      ]
     },
     "metadata": {},
     "output_type": "display_data"
    }
   ],
   "source": [
    "charts.take(np.arange(10)).plot(kind='barh', x='track_name', y='streams');"
   ]
  },
  {
   "cell_type": "markdown",
   "metadata": {
    "slideshow": {
     "slide_type": "slide"
    }
   },
   "source": [
    "### Gráficos de barra\n",
    "\n",
    "- Os gráficos de barras visualizam a relação entre uma variável categórica e uma variável numérica.\n",
    "- Em um gráfico de barras...\n",
    "- A espessura e o espaçamento das barras são arbitrários.\n",
    "- A ordem dos rótulos categóricos não importa.\n",
    "- Para criar um a partir de um DataFrame `df`, use\n",
    "```\n",
    "df.plot(\n",
    "    kind='barh', \n",
    "    x=categorical_column_name, \n",
    "    y=numerical_column_name\n",
    ")\n",
    "```\n",
    "- O **\"h\"** em `'barh'` significa **\"horizontal\"**.\n",
    "- É mais fácil ler os rótulos desta forma.\n",
    "- No gráfico anterior, definimos `y='Streams'` mesmo que os streams sejam medidos pelo comprimento do eixo x."
   ]
  },
  {
   "cell_type": "code",
   "execution_count": 17,
   "metadata": {
    "execution": {
     "iopub.execute_input": "2025-03-30T18:06:00.812100Z",
     "iopub.status.busy": "2025-03-30T18:06:00.811967Z",
     "iopub.status.idle": "2025-03-30T18:06:00.998266Z",
     "shell.execute_reply": "2025-03-30T18:06:00.997803Z"
    },
    "slideshow": {
     "slide_type": "slide"
    }
   },
   "outputs": [
    {
     "data": {
      "image/png": "[encoded data removed]",
      "text/plain": [
       "<Figure size 640x480 with 1 Axes>"
      ]
     },
     "metadata": {},
     "output_type": "display_data"
    }
   ],
   "source": [
    "# The bars appear in the opposite order relative to the DataFrame\n",
    "(charts\n",
    " .take(np.arange(10))\n",
    " .sort_values(by='streams')\n",
    " .plot(kind='barh', x='track_name', y='streams')\n",
    ");"
   ]
  },
  {
   "cell_type": "markdown",
   "metadata": {
    "slideshow": {
     "slide_type": "slide"
    }
   },
   "source": [
    "### Quantas músicas os 15 melhores artistas têm entre os 200 melhores?"
   ]
  },
  {
   "cell_type": "markdown",
   "metadata": {
    "slideshow": {
     "slide_type": "fragment"
    }
   },
   "source": [
    "Primeiro, vamos criar um DataFrame com uma única coluna que descreve o número de músicas entre as 200 melhores por artista. Isso envolve usar `.groupby` com `.count()`. Como queremos uma linha por artista, agruparemos por `'nomes_artistas'`."
   ]
  },
  {
   "cell_type": "code",
   "execution_count": 18,
   "metadata": {
    "execution": {
     "iopub.execute_input": "2025-03-30T18:06:01.000212Z",
     "iopub.status.busy": "2025-03-30T18:06:00.999881Z",
     "iopub.status.idle": "2025-03-30T18:06:01.005279Z",
     "shell.execute_reply": "2025-03-30T18:06:01.004873Z"
    }
   },
   "outputs": [
    {
     "data": {
      "text/html": [
       "<div>\n",
       "<style scoped>\n",
       "    .dataframe tbody tr th:only-of-type {\n",
       "        vertical-align: middle;\n",
       "    }\n",
       "\n",
       "    .dataframe tbody tr th {\n",
       "        vertical-align: top;\n",
       "    }\n",
       "\n",
       "    .dataframe thead th {\n",
       "        text-align: right;\n",
       "    }\n",
       "</style>\n",
       "<table border=\"1\" class=\"dataframe\">\n",
       "  <thead>\n",
       "    <tr style=\"text-align: right;\">\n",
       "      <th></th>\n",
       "      <th>track_name</th>\n",
       "      <th>artist_names</th>\n",
       "      <th>streams</th>\n",
       "      <th>uri</th>\n",
       "    </tr>\n",
       "    <tr>\n",
       "      <th>rank</th>\n",
       "      <th></th>\n",
       "      <th></th>\n",
       "      <th></th>\n",
       "      <th></th>\n",
       "    </tr>\n",
       "  </thead>\n",
       "  <tbody>\n",
       "    <tr>\n",
       "      <th>1</th>\n",
       "      <td>Flowers</td>\n",
       "      <td>Miley Cyrus</td>\n",
       "      <td>3356361</td>\n",
       "      <td>spotify:track:0yLdNVWF3Srea0uzk55zFn</td>\n",
       "    </tr>\n",
       "    <tr>\n",
       "      <th>2</th>\n",
       "      <td>Kill Bill</td>\n",
       "      <td>SZA</td>\n",
       "      <td>2479445</td>\n",
       "      <td>spotify:track:1Qrg8KqiBpW07V7PNxwwwL</td>\n",
       "    </tr>\n",
       "    <tr>\n",
       "      <th>3</th>\n",
       "      <td>Creepin' (with The Weeknd &amp; 21 Savage)</td>\n",
       "      <td>Metro Boomin, The Weeknd, 21 Savage</td>\n",
       "      <td>1337320</td>\n",
       "      <td>spotify:track:2dHHgzDwk4BJdRwy9uXhTO</td>\n",
       "    </tr>\n",
       "    <tr>\n",
       "      <th>4</th>\n",
       "      <td>Superhero (Heroes &amp; Villains) [with Future &amp; C...</td>\n",
       "      <td>Metro Boomin, Future, Chris Brown</td>\n",
       "      <td>1235285</td>\n",
       "      <td>spotify:track:0vjeOZ3Ft5jvAi9SBFJm1j</td>\n",
       "    </tr>\n",
       "    <tr>\n",
       "      <th>5</th>\n",
       "      <td>Rich Flex</td>\n",
       "      <td>Drake, 21 Savage</td>\n",
       "      <td>1109704</td>\n",
       "      <td>spotify:track:1bDbXMyjaUIooNwFE9wn0N</td>\n",
       "    </tr>\n",
       "    <tr>\n",
       "      <th>...</th>\n",
       "      <td>...</td>\n",
       "      <td>...</td>\n",
       "      <td>...</td>\n",
       "      <td>...</td>\n",
       "    </tr>\n",
       "    <tr>\n",
       "      <th>196</th>\n",
       "      <td>Burn, Burn, Burn</td>\n",
       "      <td>Zach Bryan</td>\n",
       "      <td>267772</td>\n",
       "      <td>spotify:track:5jfhLCSIFUO4ndzNRh4w4G</td>\n",
       "    </tr>\n",
       "    <tr>\n",
       "      <th>197</th>\n",
       "      <td>LET GO</td>\n",
       "      <td>Central Cee</td>\n",
       "      <td>267401</td>\n",
       "      <td>spotify:track:3zkyus0njMCL6phZmNNEeN</td>\n",
       "    </tr>\n",
       "    <tr>\n",
       "      <th>198</th>\n",
       "      <td>Major Distribution</td>\n",
       "      <td>Drake, 21 Savage</td>\n",
       "      <td>266986</td>\n",
       "      <td>spotify:track:46s57QULU02Voy0Kup6UEb</td>\n",
       "    </tr>\n",
       "    <tr>\n",
       "      <th>199</th>\n",
       "      <td>Sun to Me</td>\n",
       "      <td>Zach Bryan</td>\n",
       "      <td>266968</td>\n",
       "      <td>spotify:track:1SjsVdSXpwm1kTdYEHoPIT</td>\n",
       "    </tr>\n",
       "    <tr>\n",
       "      <th>200</th>\n",
       "      <td>The Real Slim Shady</td>\n",
       "      <td>Eminem</td>\n",
       "      <td>266698</td>\n",
       "      <td>spotify:track:3yfqSUWxFvZELEM4PmlwIR</td>\n",
       "    </tr>\n",
       "  </tbody>\n",
       "</table>\n",
       "<p>200 rows × 4 columns</p>\n",
       "</div>"
      ],
      "text/plain": [
       "                                             track_name  \\\n",
       "rank                                                      \n",
       "1                                               Flowers   \n",
       "2                                             Kill Bill   \n",
       "3                Creepin' (with The Weeknd & 21 Savage)   \n",
       "4     Superhero (Heroes & Villains) [with Future & C...   \n",
       "5                                             Rich Flex   \n",
       "...                                                 ...   \n",
       "196                                    Burn, Burn, Burn   \n",
       "197                                              LET GO   \n",
       "198                                  Major Distribution   \n",
       "199                                           Sun to Me   \n",
       "200                                 The Real Slim Shady   \n",
       "\n",
       "                             artist_names  streams  \\\n",
       "rank                                                 \n",
       "1                             Miley Cyrus  3356361   \n",
       "2                                     SZA  2479445   \n",
       "3     Metro Boomin, The Weeknd, 21 Savage  1337320   \n",
       "4       Metro Boomin, Future, Chris Brown  1235285   \n",
       "5                        Drake, 21 Savage  1109704   \n",
       "...                                   ...      ...   \n",
       "196                            Zach Bryan   267772   \n",
       "197                           Central Cee   267401   \n",
       "198                      Drake, 21 Savage   266986   \n",
       "199                            Zach Bryan   266968   \n",
       "200                                Eminem   266698   \n",
       "\n",
       "                                       uri  \n",
       "rank                                        \n",
       "1     spotify:track:0yLdNVWF3Srea0uzk55zFn  \n",
       "2     spotify:track:1Qrg8KqiBpW07V7PNxwwwL  \n",
       "3     spotify:track:2dHHgzDwk4BJdRwy9uXhTO  \n",
       "4     spotify:track:0vjeOZ3Ft5jvAi9SBFJm1j  \n",
       "5     spotify:track:1bDbXMyjaUIooNwFE9wn0N  \n",
       "...                                    ...  \n",
       "196   spotify:track:5jfhLCSIFUO4ndzNRh4w4G  \n",
       "197   spotify:track:3zkyus0njMCL6phZmNNEeN  \n",
       "198   spotify:track:46s57QULU02Voy0Kup6UEb  \n",
       "199   spotify:track:1SjsVdSXpwm1kTdYEHoPIT  \n",
       "200   spotify:track:3yfqSUWxFvZELEM4PmlwIR  \n",
       "\n",
       "[200 rows x 4 columns]"
      ]
     },
     "execution_count": 18,
     "metadata": {},
     "output_type": "execute_result"
    }
   ],
   "source": [
    "charts"
   ]
  },
  {
   "cell_type": "code",
   "execution_count": 19,
   "metadata": {
    "execution": {
     "iopub.execute_input": "2025-03-30T18:06:01.006860Z",
     "iopub.status.busy": "2025-03-30T18:06:01.006730Z",
     "iopub.status.idle": "2025-03-30T18:06:01.012656Z",
     "shell.execute_reply": "2025-03-30T18:06:01.012331Z"
    }
   },
   "outputs": [
    {
     "data": {
      "text/html": [
       "<div>\n",
       "<style scoped>\n",
       "    .dataframe tbody tr th:only-of-type {\n",
       "        vertical-align: middle;\n",
       "    }\n",
       "\n",
       "    .dataframe tbody tr th {\n",
       "        vertical-align: top;\n",
       "    }\n",
       "\n",
       "    .dataframe thead th {\n",
       "        text-align: right;\n",
       "    }\n",
       "</style>\n",
       "<table border=\"1\" class=\"dataframe\">\n",
       "  <thead>\n",
       "    <tr style=\"text-align: right;\">\n",
       "      <th></th>\n",
       "      <th>track_name</th>\n",
       "      <th>streams</th>\n",
       "      <th>uri</th>\n",
       "    </tr>\n",
       "    <tr>\n",
       "      <th>artist_names</th>\n",
       "      <th></th>\n",
       "      <th></th>\n",
       "      <th></th>\n",
       "    </tr>\n",
       "  </thead>\n",
       "  <tbody>\n",
       "    <tr>\n",
       "      <th>21 Savage, Metro Boomin</th>\n",
       "      <td>1</td>\n",
       "      <td>1</td>\n",
       "      <td>1</td>\n",
       "    </tr>\n",
       "    <tr>\n",
       "      <th>80purppp</th>\n",
       "      <td>1</td>\n",
       "      <td>1</td>\n",
       "      <td>1</td>\n",
       "    </tr>\n",
       "    <tr>\n",
       "      <th>A Boogie Wit da Hoodie</th>\n",
       "      <td>1</td>\n",
       "      <td>1</td>\n",
       "      <td>1</td>\n",
       "    </tr>\n",
       "    <tr>\n",
       "      <th>Arctic Monkeys</th>\n",
       "      <td>2</td>\n",
       "      <td>2</td>\n",
       "      <td>2</td>\n",
       "    </tr>\n",
       "    <tr>\n",
       "      <th>Arcángel, Bad Bunny</th>\n",
       "      <td>1</td>\n",
       "      <td>1</td>\n",
       "      <td>1</td>\n",
       "    </tr>\n",
       "    <tr>\n",
       "      <th>...</th>\n",
       "      <td>...</td>\n",
       "      <td>...</td>\n",
       "      <td>...</td>\n",
       "    </tr>\n",
       "    <tr>\n",
       "      <th>XXXTENTACION</th>\n",
       "      <td>1</td>\n",
       "      <td>1</td>\n",
       "      <td>1</td>\n",
       "    </tr>\n",
       "    <tr>\n",
       "      <th>Yeat</th>\n",
       "      <td>1</td>\n",
       "      <td>1</td>\n",
       "      <td>1</td>\n",
       "    </tr>\n",
       "    <tr>\n",
       "      <th>Zach Bryan</th>\n",
       "      <td>4</td>\n",
       "      <td>4</td>\n",
       "      <td>4</td>\n",
       "    </tr>\n",
       "    <tr>\n",
       "      <th>d4vd</th>\n",
       "      <td>2</td>\n",
       "      <td>2</td>\n",
       "      <td>2</td>\n",
       "    </tr>\n",
       "    <tr>\n",
       "      <th>Ñengo Flow, Bad Bunny</th>\n",
       "      <td>1</td>\n",
       "      <td>1</td>\n",
       "      <td>1</td>\n",
       "    </tr>\n",
       "  </tbody>\n",
       "</table>\n",
       "<p>145 rows × 3 columns</p>\n",
       "</div>"
      ],
      "text/plain": [
       "                         track_name  streams  uri\n",
       "artist_names                                     \n",
       "21 Savage, Metro Boomin           1        1    1\n",
       "80purppp                          1        1    1\n",
       "A Boogie Wit da Hoodie            1        1    1\n",
       "Arctic Monkeys                    2        2    2\n",
       "Arcángel, Bad Bunny               1        1    1\n",
       "...                             ...      ...  ...\n",
       "XXXTENTACION                      1        1    1\n",
       "Yeat                              1        1    1\n",
       "Zach Bryan                        4        4    4\n",
       "d4vd                              2        2    2\n",
       "Ñengo Flow, Bad Bunny             1        1    1\n",
       "\n",
       "[145 rows x 3 columns]"
      ]
     },
     "execution_count": 19,
     "metadata": {},
     "output_type": "execute_result"
    }
   ],
   "source": [
    "songs_per_artist = charts.groupby('artist_names').count()\n",
    "songs_per_artist"
   ]
  },
  {
   "cell_type": "markdown",
   "metadata": {
    "slideshow": {
     "slide_type": "fragment"
    }
   },
   "source": [
    "Usando `.sort_values` e `.take`, manteremos apenas os 15 melhores artistas. Observe que todas as colunas em `songs_per_artist` contêm as mesmas informações (isso é uma consequência do uso de `.count()`)."
   ]
  },
  {
   "cell_type": "code",
   "execution_count": 20,
   "metadata": {
    "execution": {
     "iopub.execute_input": "2025-03-30T18:06:01.014068Z",
     "iopub.status.busy": "2025-03-30T18:06:01.013921Z",
     "iopub.status.idle": "2025-03-30T18:06:01.019022Z",
     "shell.execute_reply": "2025-03-30T18:06:01.018668Z"
    }
   },
   "outputs": [
    {
     "data": {
      "text/html": [
       "<div>\n",
       "<style scoped>\n",
       "    .dataframe tbody tr th:only-of-type {\n",
       "        vertical-align: middle;\n",
       "    }\n",
       "\n",
       "    .dataframe tbody tr th {\n",
       "        vertical-align: top;\n",
       "    }\n",
       "\n",
       "    .dataframe thead th {\n",
       "        text-align: right;\n",
       "    }\n",
       "</style>\n",
       "<table border=\"1\" class=\"dataframe\">\n",
       "  <thead>\n",
       "    <tr style=\"text-align: right;\">\n",
       "      <th></th>\n",
       "      <th>track_name</th>\n",
       "      <th>streams</th>\n",
       "      <th>uri</th>\n",
       "    </tr>\n",
       "    <tr>\n",
       "      <th>artist_names</th>\n",
       "      <th></th>\n",
       "      <th></th>\n",
       "      <th></th>\n",
       "    </tr>\n",
       "  </thead>\n",
       "  <tbody>\n",
       "    <tr>\n",
       "      <th>SZA</th>\n",
       "      <td>11</td>\n",
       "      <td>11</td>\n",
       "      <td>11</td>\n",
       "    </tr>\n",
       "    <tr>\n",
       "      <th>Taylor Swift</th>\n",
       "      <td>8</td>\n",
       "      <td>8</td>\n",
       "      <td>8</td>\n",
       "    </tr>\n",
       "    <tr>\n",
       "      <th>Morgan Wallen</th>\n",
       "      <td>6</td>\n",
       "      <td>6</td>\n",
       "      <td>6</td>\n",
       "    </tr>\n",
       "    <tr>\n",
       "      <th>Drake, 21 Savage</th>\n",
       "      <td>5</td>\n",
       "      <td>5</td>\n",
       "      <td>5</td>\n",
       "    </tr>\n",
       "    <tr>\n",
       "      <th>Zach Bryan</th>\n",
       "      <td>4</td>\n",
       "      <td>4</td>\n",
       "      <td>4</td>\n",
       "    </tr>\n",
       "    <tr>\n",
       "      <th>The Weeknd</th>\n",
       "      <td>4</td>\n",
       "      <td>4</td>\n",
       "      <td>4</td>\n",
       "    </tr>\n",
       "    <tr>\n",
       "      <th>Mac DeMarco</th>\n",
       "      <td>3</td>\n",
       "      <td>3</td>\n",
       "      <td>3</td>\n",
       "    </tr>\n",
       "    <tr>\n",
       "      <th>J. Cole</th>\n",
       "      <td>3</td>\n",
       "      <td>3</td>\n",
       "      <td>3</td>\n",
       "    </tr>\n",
       "    <tr>\n",
       "      <th>Steve Lacy</th>\n",
       "      <td>2</td>\n",
       "      <td>2</td>\n",
       "      <td>2</td>\n",
       "    </tr>\n",
       "    <tr>\n",
       "      <th>Juice WRLD</th>\n",
       "      <td>2</td>\n",
       "      <td>2</td>\n",
       "      <td>2</td>\n",
       "    </tr>\n",
       "    <tr>\n",
       "      <th>Eminem</th>\n",
       "      <td>2</td>\n",
       "      <td>2</td>\n",
       "      <td>2</td>\n",
       "    </tr>\n",
       "    <tr>\n",
       "      <th>Kanye West</th>\n",
       "      <td>2</td>\n",
       "      <td>2</td>\n",
       "      <td>2</td>\n",
       "    </tr>\n",
       "    <tr>\n",
       "      <th>NewJeans</th>\n",
       "      <td>2</td>\n",
       "      <td>2</td>\n",
       "      <td>2</td>\n",
       "    </tr>\n",
       "    <tr>\n",
       "      <th>Childish Gambino</th>\n",
       "      <td>2</td>\n",
       "      <td>2</td>\n",
       "      <td>2</td>\n",
       "    </tr>\n",
       "    <tr>\n",
       "      <th>Miley Cyrus</th>\n",
       "      <td>2</td>\n",
       "      <td>2</td>\n",
       "      <td>2</td>\n",
       "    </tr>\n",
       "  </tbody>\n",
       "</table>\n",
       "</div>"
      ],
      "text/plain": [
       "                  track_name  streams  uri\n",
       "artist_names                              \n",
       "SZA                       11       11   11\n",
       "Taylor Swift               8        8    8\n",
       "Morgan Wallen              6        6    6\n",
       "Drake, 21 Savage           5        5    5\n",
       "Zach Bryan                 4        4    4\n",
       "The Weeknd                 4        4    4\n",
       "Mac DeMarco                3        3    3\n",
       "J. Cole                    3        3    3\n",
       "Steve Lacy                 2        2    2\n",
       "Juice WRLD                 2        2    2\n",
       "Eminem                     2        2    2\n",
       "Kanye West                 2        2    2\n",
       "NewJeans                   2        2    2\n",
       "Childish Gambino           2        2    2\n",
       "Miley Cyrus                2        2    2"
      ]
     },
     "execution_count": 20,
     "metadata": {},
     "output_type": "execute_result"
    }
   ],
   "source": [
    "top_15_artists = (songs_per_artist\n",
    "                  .sort_values('streams', ascending=False)\n",
    "                  .take(np.arange(15)))\n",
    "top_15_artists"
   ]
  },
  {
   "cell_type": "markdown",
   "metadata": {
    "slideshow": {
     "slide_type": "fragment"
    }
   },
   "source": [
    "Usando `.assign` e `.drop`, criaremos uma coluna chamada `'count'` que contém as mesmas informações que as outras 3 colunas contêm, e então `.get` apenas essa coluna (ou equivalentemente, eliminaremos o outras 3 colunas)."
   ]
  },
  {
   "cell_type": "code",
   "execution_count": 21,
   "metadata": {
    "execution": {
     "iopub.execute_input": "2025-03-30T18:06:01.020732Z",
     "iopub.status.busy": "2025-03-30T18:06:01.020395Z",
     "iopub.status.idle": "2025-03-30T18:06:01.025975Z",
     "shell.execute_reply": "2025-03-30T18:06:01.025661Z"
    }
   },
   "outputs": [
    {
     "data": {
      "text/html": [
       "<div>\n",
       "<style scoped>\n",
       "    .dataframe tbody tr th:only-of-type {\n",
       "        vertical-align: middle;\n",
       "    }\n",
       "\n",
       "    .dataframe tbody tr th {\n",
       "        vertical-align: top;\n",
       "    }\n",
       "\n",
       "    .dataframe thead th {\n",
       "        text-align: right;\n",
       "    }\n",
       "</style>\n",
       "<table border=\"1\" class=\"dataframe\">\n",
       "  <thead>\n",
       "    <tr style=\"text-align: right;\">\n",
       "      <th></th>\n",
       "      <th>count</th>\n",
       "    </tr>\n",
       "    <tr>\n",
       "      <th>artist_names</th>\n",
       "      <th></th>\n",
       "    </tr>\n",
       "  </thead>\n",
       "  <tbody>\n",
       "    <tr>\n",
       "      <th>SZA</th>\n",
       "      <td>11</td>\n",
       "    </tr>\n",
       "    <tr>\n",
       "      <th>Taylor Swift</th>\n",
       "      <td>8</td>\n",
       "    </tr>\n",
       "    <tr>\n",
       "      <th>Morgan Wallen</th>\n",
       "      <td>6</td>\n",
       "    </tr>\n",
       "    <tr>\n",
       "      <th>Drake, 21 Savage</th>\n",
       "      <td>5</td>\n",
       "    </tr>\n",
       "    <tr>\n",
       "      <th>Zach Bryan</th>\n",
       "      <td>4</td>\n",
       "    </tr>\n",
       "    <tr>\n",
       "      <th>The Weeknd</th>\n",
       "      <td>4</td>\n",
       "    </tr>\n",
       "    <tr>\n",
       "      <th>Mac DeMarco</th>\n",
       "      <td>3</td>\n",
       "    </tr>\n",
       "    <tr>\n",
       "      <th>J. Cole</th>\n",
       "      <td>3</td>\n",
       "    </tr>\n",
       "    <tr>\n",
       "      <th>Steve Lacy</th>\n",
       "      <td>2</td>\n",
       "    </tr>\n",
       "    <tr>\n",
       "      <th>Juice WRLD</th>\n",
       "      <td>2</td>\n",
       "    </tr>\n",
       "    <tr>\n",
       "      <th>Eminem</th>\n",
       "      <td>2</td>\n",
       "    </tr>\n",
       "    <tr>\n",
       "      <th>Kanye West</th>\n",
       "      <td>2</td>\n",
       "    </tr>\n",
       "    <tr>\n",
       "      <th>NewJeans</th>\n",
       "      <td>2</td>\n",
       "    </tr>\n",
       "    <tr>\n",
       "      <th>Childish Gambino</th>\n",
       "      <td>2</td>\n",
       "    </tr>\n",
       "    <tr>\n",
       "      <th>Miley Cyrus</th>\n",
       "      <td>2</td>\n",
       "    </tr>\n",
       "  </tbody>\n",
       "</table>\n",
       "</div>"
      ],
      "text/plain": [
       "                  count\n",
       "artist_names           \n",
       "SZA                  11\n",
       "Taylor Swift          8\n",
       "Morgan Wallen         6\n",
       "Drake, 21 Savage      5\n",
       "Zach Bryan            4\n",
       "The Weeknd            4\n",
       "Mac DeMarco           3\n",
       "J. Cole               3\n",
       "Steve Lacy            2\n",
       "Juice WRLD            2\n",
       "Eminem                2\n",
       "Kanye West            2\n",
       "NewJeans              2\n",
       "Childish Gambino      2\n",
       "Miley Cyrus           2"
      ]
     },
     "execution_count": 21,
     "metadata": {},
     "output_type": "execute_result"
    }
   ],
   "source": [
    "# If we give .get a list, it will return a DataFrame instead of a Series!\n",
    "top_15_artists = (top_15_artists\n",
    "                  .assign(count=top_15_artists.get('streams'))\n",
    "                  .get(['count']))\n",
    "top_15_artists"
   ]
  },
  {
   "cell_type": "markdown",
   "metadata": {
    "slideshow": {
     "slide_type": "fragment"
    }
   },
   "source": [
    "Antes de chamar `.plot(kind='barh', y='count')`, classificaremos `top_15_artists` por `'count'` em ordem **crescente**. Isso ocorre porque, estranhamente, o Python inverte a ordem das linhas ao criar barras em gráficos de barras horizontais."
   ]
  },
  {
   "cell_type": "code",
   "execution_count": 22,
   "metadata": {
    "execution": {
     "iopub.execute_input": "2025-03-30T18:06:01.027567Z",
     "iopub.status.busy": "2025-03-30T18:06:01.027252Z",
     "iopub.status.idle": "2025-03-30T18:06:01.149112Z",
     "shell.execute_reply": "2025-03-30T18:06:01.148719Z"
    }
   },
   "outputs": [
    {
     "data": {
      "image/png": "[encoded data removed]",
      "text/plain": [
       "<Figure size 640x480 with 1 Axes>"
      ]
     },
     "metadata": {},
     "output_type": "display_data"
    }
   ],
   "source": [
    "top_15_artists.sort_values(by='count').plot(kind='barh', y='count');"
   ]
  },
  {
   "cell_type": "markdown",
   "metadata": {
    "slideshow": {
     "slide_type": "slide"
    }
   },
   "source": [
    "### Gráficos de barras verticais\n",
    "\n",
    "Para criar um gráfico de barras verticais, use `kind='bar'` em vez de `kind='barh'`. No entanto, geralmente são mais difíceis de ler."
   ]
  },
  {
   "cell_type": "code",
   "execution_count": 23,
   "metadata": {
    "execution": {
     "iopub.execute_input": "2025-03-30T18:06:01.150856Z",
     "iopub.status.busy": "2025-03-30T18:06:01.150656Z",
     "iopub.status.idle": "2025-03-30T18:06:01.278385Z",
     "shell.execute_reply": "2025-03-30T18:06:01.278052Z"
    }
   },
   "outputs": [
    {
     "data": {
      "image/png": "[encoded data removed]",
      "text/plain": [
       "<Figure size 640x480 with 1 Axes>"
      ]
     },
     "metadata": {},
     "output_type": "display_data"
    }
   ],
   "source": [
    "top_15_artists.plot(kind='bar', y='count');"
   ]
  },
  {
   "cell_type": "markdown",
   "metadata": {
    "slideshow": {
     "slide_type": "slide"
    }
   },
   "source": [
    "### À parte: quantas transmissões as músicas do The Weeknd na parada receberam?"
   ]
  },
  {
   "cell_type": "code",
   "execution_count": 24,
   "metadata": {
    "execution": {
     "iopub.execute_input": "2025-03-30T18:06:01.279903Z",
     "iopub.status.busy": "2025-03-30T18:06:01.279729Z",
     "iopub.status.idle": "2025-03-30T18:06:01.377949Z",
     "shell.execute_reply": "2025-03-30T18:06:01.377437Z"
    }
   },
   "outputs": [
    {
     "data": {
      "image/png": "[encoded data removed]",
      "text/plain": [
       "<Figure size 640x480 with 1 Axes>"
      ]
     },
     "metadata": {},
     "output_type": "display_data"
    }
   ],
   "source": [
    "(charts\n",
    " [charts.get('artist_names') == 'The Weeknd']\n",
    " .sort_values('streams')\n",
    " .plot(kind='barh', x='track_name', y='streams')\n",
    ");"
   ]
  },
  {
   "cell_type": "markdown",
   "metadata": {
    "slideshow": {
     "slide_type": "fragment"
    }
   },
   "source": [
    "Parece que estamos perdendo algumas músicas populares..."
   ]
  },
  {
   "cell_type": "markdown",
   "metadata": {
    "slideshow": {
     "slide_type": "slide"
    }
   },
   "source": [
    "### Como incluímos músicas em destaque também?\n",
    "\n",
    "Resposta: Usando `.str.contains`."
   ]
  },
  {
   "cell_type": "code",
   "execution_count": 25,
   "metadata": {
    "execution": {
     "iopub.execute_input": "2025-03-30T18:06:01.380058Z",
     "iopub.status.busy": "2025-03-30T18:06:01.379712Z",
     "iopub.status.idle": "2025-03-30T18:06:01.386290Z",
     "shell.execute_reply": "2025-03-30T18:06:01.385826Z"
    }
   },
   "outputs": [
    {
     "data": {
      "text/html": [
       "<div>\n",
       "<style scoped>\n",
       "    .dataframe tbody tr th:only-of-type {\n",
       "        vertical-align: middle;\n",
       "    }\n",
       "\n",
       "    .dataframe tbody tr th {\n",
       "        vertical-align: top;\n",
       "    }\n",
       "\n",
       "    .dataframe thead th {\n",
       "        text-align: right;\n",
       "    }\n",
       "</style>\n",
       "<table border=\"1\" class=\"dataframe\">\n",
       "  <thead>\n",
       "    <tr style=\"text-align: right;\">\n",
       "      <th></th>\n",
       "      <th>track_name</th>\n",
       "      <th>artist_names</th>\n",
       "      <th>streams</th>\n",
       "      <th>uri</th>\n",
       "    </tr>\n",
       "    <tr>\n",
       "      <th>rank</th>\n",
       "      <th></th>\n",
       "      <th></th>\n",
       "      <th></th>\n",
       "      <th></th>\n",
       "    </tr>\n",
       "  </thead>\n",
       "  <tbody>\n",
       "    <tr>\n",
       "      <th>3</th>\n",
       "      <td>Creepin' (with The Weeknd &amp; 21 Savage)</td>\n",
       "      <td>Metro Boomin, The Weeknd, 21 Savage</td>\n",
       "      <td>1337320</td>\n",
       "      <td>spotify:track:2dHHgzDwk4BJdRwy9uXhTO</td>\n",
       "    </tr>\n",
       "    <tr>\n",
       "      <th>13</th>\n",
       "      <td>Die For You</td>\n",
       "      <td>The Weeknd</td>\n",
       "      <td>794924</td>\n",
       "      <td>spotify:track:2LBqCSwhJGcFQeTHMVGwy3</td>\n",
       "    </tr>\n",
       "    <tr>\n",
       "      <th>76</th>\n",
       "      <td>Stargirl Interlude</td>\n",
       "      <td>The Weeknd, Lana Del Rey</td>\n",
       "      <td>372624</td>\n",
       "      <td>spotify:track:5gDWsRxpJ2lZAffh5p7K0w</td>\n",
       "    </tr>\n",
       "    <tr>\n",
       "      <th>78</th>\n",
       "      <td>Starboy</td>\n",
       "      <td>The Weeknd, Daft Punk</td>\n",
       "      <td>361999</td>\n",
       "      <td>spotify:track:7MXVkk9YMctZqd1Srtv4MB</td>\n",
       "    </tr>\n",
       "    <tr>\n",
       "      <th>102</th>\n",
       "      <td>The Hills</td>\n",
       "      <td>The Weeknd</td>\n",
       "      <td>334354</td>\n",
       "      <td>spotify:track:7fBv7CLKzipRk6EC6TWHOB</td>\n",
       "    </tr>\n",
       "    <tr>\n",
       "      <th>110</th>\n",
       "      <td>I Was Never There</td>\n",
       "      <td>The Weeknd, Gesaffelstein</td>\n",
       "      <td>328724</td>\n",
       "      <td>spotify:track:1cKHdTo9u0ZymJdPGSh6nq</td>\n",
       "    </tr>\n",
       "    <tr>\n",
       "      <th>128</th>\n",
       "      <td>Blinding Lights</td>\n",
       "      <td>The Weeknd</td>\n",
       "      <td>311176</td>\n",
       "      <td>spotify:track:0VjIjW4GlUZAMYd2vXMi3b</td>\n",
       "    </tr>\n",
       "    <tr>\n",
       "      <th>168</th>\n",
       "      <td>Call Out My Name</td>\n",
       "      <td>The Weeknd</td>\n",
       "      <td>281141</td>\n",
       "      <td>spotify:track:09mEdoA6zrmBPgTEN5qXmN</td>\n",
       "    </tr>\n",
       "  </tbody>\n",
       "</table>\n",
       "</div>"
      ],
      "text/plain": [
       "                                  track_name  \\\n",
       "rank                                           \n",
       "3     Creepin' (with The Weeknd & 21 Savage)   \n",
       "13                               Die For You   \n",
       "76                        Stargirl Interlude   \n",
       "78                                   Starboy   \n",
       "102                                The Hills   \n",
       "110                        I Was Never There   \n",
       "128                          Blinding Lights   \n",
       "168                         Call Out My Name   \n",
       "\n",
       "                             artist_names  streams  \\\n",
       "rank                                                 \n",
       "3     Metro Boomin, The Weeknd, 21 Savage  1337320   \n",
       "13                             The Weeknd   794924   \n",
       "76               The Weeknd, Lana Del Rey   372624   \n",
       "78                  The Weeknd, Daft Punk   361999   \n",
       "102                            The Weeknd   334354   \n",
       "110             The Weeknd, Gesaffelstein   328724   \n",
       "128                            The Weeknd   311176   \n",
       "168                            The Weeknd   281141   \n",
       "\n",
       "                                       uri  \n",
       "rank                                        \n",
       "3     spotify:track:2dHHgzDwk4BJdRwy9uXhTO  \n",
       "13    spotify:track:2LBqCSwhJGcFQeTHMVGwy3  \n",
       "76    spotify:track:5gDWsRxpJ2lZAffh5p7K0w  \n",
       "78    spotify:track:7MXVkk9YMctZqd1Srtv4MB  \n",
       "102   spotify:track:7fBv7CLKzipRk6EC6TWHOB  \n",
       "110   spotify:track:1cKHdTo9u0ZymJdPGSh6nq  \n",
       "128   spotify:track:0VjIjW4GlUZAMYd2vXMi3b  \n",
       "168   spotify:track:09mEdoA6zrmBPgTEN5qXmN  "
      ]
     },
     "execution_count": 25,
     "metadata": {},
     "output_type": "execute_result"
    }
   ],
   "source": [
    "weeknd = charts[charts.get('artist_names').str.contains('The Weeknd')]\n",
    "weeknd"
   ]
  },
  {
   "cell_type": "code",
   "execution_count": 26,
   "metadata": {
    "execution": {
     "iopub.execute_input": "2025-03-30T18:06:01.388163Z",
     "iopub.status.busy": "2025-03-30T18:06:01.387989Z",
     "iopub.status.idle": "2025-03-30T18:06:01.497256Z",
     "shell.execute_reply": "2025-03-30T18:06:01.496787Z"
    }
   },
   "outputs": [
    {
     "data": {
      "image/png": "[encoded data removed]",
      "text/plain": [
       "<Figure size 640x480 with 1 Axes>"
      ]
     },
     "metadata": {},
     "output_type": "display_data"
    }
   ],
   "source": [
    "weeknd.sort_values('streams').plot(kind='barh', x='track_name', y='streams');"
   ]
  },
  {
   "cell_type": "markdown",
   "metadata": {
    "slideshow": {
     "slide_type": "slide"
    }
   },
   "source": [
    "## Demonstração divertida 🎵"
   ]
  },
  {
   "cell_type": "code",
   "execution_count": 27,
   "metadata": {
    "execution": {
     "iopub.execute_input": "2025-03-30T18:06:01.499504Z",
     "iopub.status.busy": "2025-03-30T18:06:01.499040Z",
     "iopub.status.idle": "2025-03-30T18:06:01.501850Z",
     "shell.execute_reply": "2025-03-30T18:06:01.501498Z"
    },
    "slideshow": {
     "slide_type": "slide"
    }
   },
   "outputs": [],
   "source": [
    "# Run this cell, don't worry about what it does.\n",
    "def show_spotify(uri):\n",
    "    code = uri[uri.rfind(':')+1:]\n",
    "    src = f\"https://open.spotify.com/embed/track/{code}\"\n",
    "    width = 400\n",
    "    height = 75\n",
    "    display(IFrame(src, width, height))"
   ]
  },
  {
   "cell_type": "markdown",
   "metadata": {
    "slideshow": {
     "slide_type": "slide"
    }
   },
   "source": [
    "#### Vamos encontrar o URI de uma música que nos interessa."
   ]
  },
  {
   "cell_type": "code",
   "execution_count": 28,
   "metadata": {
    "execution": {
     "iopub.execute_input": "2025-03-30T18:06:01.503572Z",
     "iopub.status.busy": "2025-03-30T18:06:01.503417Z",
     "iopub.status.idle": "2025-03-30T18:06:01.509610Z",
     "shell.execute_reply": "2025-03-30T18:06:01.509279Z"
    }
   },
   "outputs": [
    {
     "data": {
      "text/html": [
       "<div>\n",
       "<style scoped>\n",
       "    .dataframe tbody tr th:only-of-type {\n",
       "        vertical-align: middle;\n",
       "    }\n",
       "\n",
       "    .dataframe tbody tr th {\n",
       "        vertical-align: top;\n",
       "    }\n",
       "\n",
       "    .dataframe thead th {\n",
       "        text-align: right;\n",
       "    }\n",
       "</style>\n",
       "<table border=\"1\" class=\"dataframe\">\n",
       "  <thead>\n",
       "    <tr style=\"text-align: right;\">\n",
       "      <th></th>\n",
       "      <th>track_name</th>\n",
       "      <th>artist_names</th>\n",
       "      <th>streams</th>\n",
       "      <th>uri</th>\n",
       "    </tr>\n",
       "    <tr>\n",
       "      <th>rank</th>\n",
       "      <th></th>\n",
       "      <th></th>\n",
       "      <th></th>\n",
       "      <th></th>\n",
       "    </tr>\n",
       "  </thead>\n",
       "  <tbody>\n",
       "    <tr>\n",
       "      <th>1</th>\n",
       "      <td>Flowers</td>\n",
       "      <td>Miley Cyrus</td>\n",
       "      <td>3356361</td>\n",
       "      <td>spotify:track:0yLdNVWF3Srea0uzk55zFn</td>\n",
       "    </tr>\n",
       "    <tr>\n",
       "      <th>2</th>\n",
       "      <td>Kill Bill</td>\n",
       "      <td>SZA</td>\n",
       "      <td>2479445</td>\n",
       "      <td>spotify:track:1Qrg8KqiBpW07V7PNxwwwL</td>\n",
       "    </tr>\n",
       "    <tr>\n",
       "      <th>3</th>\n",
       "      <td>Creepin' (with The Weeknd &amp; 21 Savage)</td>\n",
       "      <td>Metro Boomin, The Weeknd, 21 Savage</td>\n",
       "      <td>1337320</td>\n",
       "      <td>spotify:track:2dHHgzDwk4BJdRwy9uXhTO</td>\n",
       "    </tr>\n",
       "    <tr>\n",
       "      <th>4</th>\n",
       "      <td>Superhero (Heroes &amp; Villains) [with Future &amp; C...</td>\n",
       "      <td>Metro Boomin, Future, Chris Brown</td>\n",
       "      <td>1235285</td>\n",
       "      <td>spotify:track:0vjeOZ3Ft5jvAi9SBFJm1j</td>\n",
       "    </tr>\n",
       "    <tr>\n",
       "      <th>5</th>\n",
       "      <td>Rich Flex</td>\n",
       "      <td>Drake, 21 Savage</td>\n",
       "      <td>1109704</td>\n",
       "      <td>spotify:track:1bDbXMyjaUIooNwFE9wn0N</td>\n",
       "    </tr>\n",
       "    <tr>\n",
       "      <th>...</th>\n",
       "      <td>...</td>\n",
       "      <td>...</td>\n",
       "      <td>...</td>\n",
       "      <td>...</td>\n",
       "    </tr>\n",
       "    <tr>\n",
       "      <th>196</th>\n",
       "      <td>Burn, Burn, Burn</td>\n",
       "      <td>Zach Bryan</td>\n",
       "      <td>267772</td>\n",
       "      <td>spotify:track:5jfhLCSIFUO4ndzNRh4w4G</td>\n",
       "    </tr>\n",
       "    <tr>\n",
       "      <th>197</th>\n",
       "      <td>LET GO</td>\n",
       "      <td>Central Cee</td>\n",
       "      <td>267401</td>\n",
       "      <td>spotify:track:3zkyus0njMCL6phZmNNEeN</td>\n",
       "    </tr>\n",
       "    <tr>\n",
       "      <th>198</th>\n",
       "      <td>Major Distribution</td>\n",
       "      <td>Drake, 21 Savage</td>\n",
       "      <td>266986</td>\n",
       "      <td>spotify:track:46s57QULU02Voy0Kup6UEb</td>\n",
       "    </tr>\n",
       "    <tr>\n",
       "      <th>199</th>\n",
       "      <td>Sun to Me</td>\n",
       "      <td>Zach Bryan</td>\n",
       "      <td>266968</td>\n",
       "      <td>spotify:track:1SjsVdSXpwm1kTdYEHoPIT</td>\n",
       "    </tr>\n",
       "    <tr>\n",
       "      <th>200</th>\n",
       "      <td>The Real Slim Shady</td>\n",
       "      <td>Eminem</td>\n",
       "      <td>266698</td>\n",
       "      <td>spotify:track:3yfqSUWxFvZELEM4PmlwIR</td>\n",
       "    </tr>\n",
       "  </tbody>\n",
       "</table>\n",
       "<p>200 rows × 4 columns</p>\n",
       "</div>"
      ],
      "text/plain": [
       "                                             track_name  \\\n",
       "rank                                                      \n",
       "1                                               Flowers   \n",
       "2                                             Kill Bill   \n",
       "3                Creepin' (with The Weeknd & 21 Savage)   \n",
       "4     Superhero (Heroes & Villains) [with Future & C...   \n",
       "5                                             Rich Flex   \n",
       "...                                                 ...   \n",
       "196                                    Burn, Burn, Burn   \n",
       "197                                              LET GO   \n",
       "198                                  Major Distribution   \n",
       "199                                           Sun to Me   \n",
       "200                                 The Real Slim Shady   \n",
       "\n",
       "                             artist_names  streams  \\\n",
       "rank                                                 \n",
       "1                             Miley Cyrus  3356361   \n",
       "2                                     SZA  2479445   \n",
       "3     Metro Boomin, The Weeknd, 21 Savage  1337320   \n",
       "4       Metro Boomin, Future, Chris Brown  1235285   \n",
       "5                        Drake, 21 Savage  1109704   \n",
       "...                                   ...      ...   \n",
       "196                            Zach Bryan   267772   \n",
       "197                           Central Cee   267401   \n",
       "198                      Drake, 21 Savage   266986   \n",
       "199                            Zach Bryan   266968   \n",
       "200                                Eminem   266698   \n",
       "\n",
       "                                       uri  \n",
       "rank                                        \n",
       "1     spotify:track:0yLdNVWF3Srea0uzk55zFn  \n",
       "2     spotify:track:1Qrg8KqiBpW07V7PNxwwwL  \n",
       "3     spotify:track:2dHHgzDwk4BJdRwy9uXhTO  \n",
       "4     spotify:track:0vjeOZ3Ft5jvAi9SBFJm1j  \n",
       "5     spotify:track:1bDbXMyjaUIooNwFE9wn0N  \n",
       "...                                    ...  \n",
       "196   spotify:track:5jfhLCSIFUO4ndzNRh4w4G  \n",
       "197   spotify:track:3zkyus0njMCL6phZmNNEeN  \n",
       "198   spotify:track:46s57QULU02Voy0Kup6UEb  \n",
       "199   spotify:track:1SjsVdSXpwm1kTdYEHoPIT  \n",
       "200   spotify:track:3yfqSUWxFvZELEM4PmlwIR  \n",
       "\n",
       "[200 rows x 4 columns]"
      ]
     },
     "execution_count": 28,
     "metadata": {},
     "output_type": "execute_result"
    }
   ],
   "source": [
    "charts"
   ]
  },
  {
   "cell_type": "code",
   "execution_count": 29,
   "metadata": {
    "execution": {
     "iopub.execute_input": "2025-03-30T18:06:01.511095Z",
     "iopub.status.busy": "2025-03-30T18:06:01.510968Z",
     "iopub.status.idle": "2025-03-30T18:06:01.512980Z",
     "shell.execute_reply": "2025-03-30T18:06:01.512651Z"
    }
   },
   "outputs": [],
   "source": [
    "favorite_song = 'Bejeweled'"
   ]
  },
  {
   "cell_type": "code",
   "execution_count": 30,
   "metadata": {
    "execution": {
     "iopub.execute_input": "2025-03-30T18:06:01.514221Z",
     "iopub.status.busy": "2025-03-30T18:06:01.514105Z",
     "iopub.status.idle": "2025-03-30T18:06:01.517370Z",
     "shell.execute_reply": "2025-03-30T18:06:01.517075Z"
    }
   },
   "outputs": [
    {
     "data": {
      "text/plain": [
       "'spotify:track:3qoftcUZaUOncvIYjFSPdE'"
      ]
     },
     "execution_count": 30,
     "metadata": {},
     "output_type": "execute_result"
    }
   ],
   "source": [
    "song_uri = (charts\n",
    "            [charts.get('track_name') == favorite_song]\n",
    "            .get('uri')\n",
    "            .iloc[0])\n",
    "song_uri"
   ]
  },
  {
   "cell_type": "markdown",
   "metadata": {
    "slideshow": {
     "slide_type": "slide"
    }
   },
   "source": [
    "Veja o que acontece! 🎶"
   ]
  },
  {
   "cell_type": "code",
   "execution_count": 31,
   "metadata": {
    "execution": {
     "iopub.execute_input": "2025-03-30T18:06:01.518856Z",
     "iopub.status.busy": "2025-03-30T18:06:01.518735Z",
     "iopub.status.idle": "2025-03-30T18:06:01.521271Z",
     "shell.execute_reply": "2025-03-30T18:06:01.520946Z"
    }
   },
   "outputs": [
    {
     "data": {
      "text/html": [
       "\n",
       "        <iframe\n",
       "            width=\"400\"\n",
       "            height=\"75\"\n",
       "            src=\"https://open.spotify.com/embed/track/3qoftcUZaUOncvIYjFSPdE\"\n",
       "            frameborder=\"0\"\n",
       "            allowfullscreen\n",
       "            \n",
       "        ></iframe>\n",
       "        "
      ],
      "text/plain": [
       "<IPython.lib.display.IFrame at 0x7f0247565fa0>"
      ]
     },
     "metadata": {},
     "output_type": "display_data"
    }
   ],
   "source": [
    "show_spotify(song_uri)"
   ]
  },
  {
   "cell_type": "markdown",
   "metadata": {},
   "source": [
    "Experimente você mesmo!"
   ]
  },
  {
   "cell_type": "markdown",
   "metadata": {
    "slideshow": {
     "slide_type": "slide"
    }
   },
   "source": [
    "### Visualizações ruins\n",
    "\n",
    "- Conforme mencionado anteriormente, as visualizações nos permitem identificar facilmente tendências e comunicar nossos resultados a outras pessoas.\n",
    "- Algumas visualizações tornam mais difícil ver a tendência nos dados, ao:"
   ]
  },
  {
   "cell_type": "markdown",
   "metadata": {
    "slideshow": {
     "slide_type": "fragment"
    }
   },
   "source": [
    "- Adicionando \"[chart junk](https://eagereyes.org/criticism/chart-junk-considered-useful-after-all).\"\n",
    "\n",
    "![](https://raw.githubusercontent.com/flaviovdf/fcd/master/assets/07-DataViz/images/usefuljunk-monster.jpg)"
   ]
  },
  {
   "cell_type": "markdown",
   "metadata": {
    "slideshow": {
     "slide_type": "fragment"
    }
   },
   "source": [
    "- Usando eixos e tamanhos enganosos.\n",
    "\n",
    "![](https://raw.githubusercontent.com/flaviovdf/fcd/master/assets/07-DataViz/images/average_height.png)"
   ]
  },
  {
   "cell_type": "markdown",
   "metadata": {
    "slideshow": {
     "slide_type": "slide"
    }
   },
   "source": [
    "## Resumo"
   ]
  },
  {
   "cell_type": "markdown",
   "metadata": {
    "slideshow": {
     "slide_type": "slide"
    }
   },
   "source": [
    "### Resumo\n",
    "\n",
    "- As visualizações facilitam a extração de padrões de conjuntos de dados.\n",
    "- Existem dois tipos principais de variáveis: categóricas e numéricas.\n",
    "- Os tipos de variáveis ​​que estamos visualizando informam nossa escolha de qual tipo de visualização usar.\n",
    "- Hoje, analisamos gráficos de dispersão, gráficos de linhas e gráficos de barras.\n",
    "- **Próxima vez:** Histogramas e gráficos sobrepostos."
   ]
  }
 ],
 "metadata": {
  "kernelspec": {
   "display_name": "teaching",
   "language": "python",
   "name": "python3"
  },
  "language_info": {
   "codemirror_mode": {
    "name": "ipython",
    "version": 3
   },
   "file_extension": ".py",
   "mimetype": "text/x-python",
   "name": "python",
   "nbconvert_exporter": "python",
   "pygments_lexer": "ipython3",
   "version": "3.12.7"
  },
  "livereveal": {
   "scroll": true,
   "transition": "none"
  },
  "rise": {
   "enable_chalkboard": true
  }
 },
 "nbformat": 4,
 "nbformat_minor": 2
}
