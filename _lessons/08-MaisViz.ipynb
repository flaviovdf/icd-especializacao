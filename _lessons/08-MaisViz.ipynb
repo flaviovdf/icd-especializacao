{
 "cells": [
  {
   "cell_type": "markdown",
   "metadata": {},
   "source": [
    "---\n",
    "layout: page\n",
    "title: Um pouco Mais de Visualização de Dados\n",
    "nav_order: 8\n",
    "---\n",
    "[<img src=\"https://raw.githubusercontent.com/flaviovdf/fcd/master/assets/colab_favicon_small.png\" style=\"float: right;\">](https://colab.research.google.com/github/flaviovdf/icd-bradesco/blob/master/_lessons/08-MaisViz.ipynb)\n",
    "\n",
    "# Tópico 8 – Um pouco Mais de Visualização de Dados 📈\n",
    "{: .no_toc .mb-2 }\n",
    "\n",
    "Aprender um pouco sobre transformação de dados e alguns exemplos a mais.\n",
    "{: .fs-6 .fw-300 }\n",
    "\n",
    "{: .no_toc .text-delta }\n",
    "Resultados Esperados\n",
    "\n",
    "1. Aprender como transformar dados\n",
    "1. Aprender qual a melhor forma de ter dados sobre postos\n"
   ]
  },
  {
   "cell_type": "code",
   "execution_count": 1,
   "metadata": {
    "execution": {
     "iopub.execute_input": "2025-03-30T18:06:07.255867Z",
     "iopub.status.busy": "2025-03-30T18:06:07.255205Z",
     "iopub.status.idle": "2025-03-30T18:06:07.674877Z",
     "shell.execute_reply": "2025-03-30T18:06:07.674429Z"
    },
    "slideshow": {
     "slide_type": "skip"
    }
   },
   "outputs": [],
   "source": [
    "import numpy as np\n",
    "import pandas as pd\n",
    "import matplotlib.pyplot as plt\n",
    "plt.style.use('ggplot')"
   ]
  },
  {
   "cell_type": "markdown",
   "metadata": {
    "slideshow": {
     "slide_type": "slide"
    }
   },
   "source": [
    "### Agenda\n",
    "\n",
    "- Distribuições.\n",
    "- Histogramas de densidade.\n",
    "- Parcelas sobrepostas."
   ]
  },
  {
   "cell_type": "markdown",
   "metadata": {
    "slideshow": {
     "slide_type": "slide"
    }
   },
   "source": [
    "### Revisão: tipos de visualizações\n",
    "\n",
    "O tipo de visualização que criamos depende dos tipos de variáveis ​​que estamos visualizando.\n",
    "\n",
    "- **Gráfico de dispersão**: numérico versus numérico.\n",
    "- Exemplo: peso x altura.\n",
    "- **Gráfico de linhas**: numérico sequencial (tempo) vs.\n",
    "- Exemplo: altura vs. tempo.\n",
    "- **Gráfico de barras**: categórico vs. numérico.\n",
    "- Exemplo: alturas de diferentes membros da família.\n",
    "- **Histograma**: distribuição numérica.\n",
    "\n",
    "**Observação:** Podemos trocar as palavras \"plot\", \"chart\" e \"graph\"; todos eles significam a mesma coisa."
   ]
  },
  {
   "cell_type": "markdown",
   "metadata": {
    "slideshow": {
     "slide_type": "slide"
    }
   },
   "source": [
    "### Algumas visualizações ruins\n",
    "\n",
    "![](https://raw.githubusercontent.com/flaviovdf/fcd/master/assets/08-MaisViz/images/bananas.png)"
   ]
  },
  {
   "cell_type": "markdown",
   "metadata": {
    "slideshow": {
     "slide_type": "slide"
    }
   },
   "source": [
    "![](https://raw.githubusercontent.com/flaviovdf/fcd/master/assets/08-MaisViz/images/average_height.png)"
   ]
  },
  {
   "cell_type": "markdown",
   "metadata": {
    "slideshow": {
     "slide_type": "slide"
    }
   },
   "source": [
    "![](https://raw.githubusercontent.com/flaviovdf/fcd/master/assets/08-MaisViz/images/weather.png)"
   ]
  },
  {
   "cell_type": "markdown",
   "metadata": {
    "slideshow": {
     "slide_type": "slide"
    }
   },
   "source": [
    "## Distribuições"
   ]
  },
  {
   "cell_type": "markdown",
   "metadata": {
    "slideshow": {
     "slide_type": "slide"
    }
   },
   "source": [
    "### Qual é a distribuição de uma variável?\n",
    "\n",
    "- A distribuição de uma variável consiste em todos os valores da variável que ocorrem nos dados, juntamente com suas frequências.\n",
    "- As distribuições ajudam você a entender:\n",
    "    - Com que frequência uma variável assume um determinado valor?_\n",
    "- Ambas as variáveis ​​categóricas e numéricas têm distribuições."
   ]
  },
  {
   "cell_type": "markdown",
   "metadata": {
    "slideshow": {
     "slide_type": "slide"
    }
   },
   "source": [
    "### Variáveis ​​categóricas\n",
    "\n",
    "A distribuição de uma variável categórica pode ser exibida como uma tabela ou gráfico de barras, entre outras formas! Por exemplo, vejamos qual o tipo de ensino médio dos alunos de FCD."
   ]
  },
  {
   "cell_type": "code",
   "execution_count": 2,
   "metadata": {
    "execution": {
     "iopub.execute_input": "2025-03-30T18:06:07.676835Z",
     "iopub.status.busy": "2025-03-30T18:06:07.676660Z",
     "iopub.status.idle": "2025-03-30T18:06:07.685087Z",
     "shell.execute_reply": "2025-03-30T18:06:07.684697Z"
    },
    "scrolled": false,
    "slideshow": {
     "slide_type": "-"
    }
   },
   "outputs": [
    {
     "data": {
      "text/html": [
       "<div>\n",
       "<style scoped>\n",
       "    .dataframe tbody tr th:only-of-type {\n",
       "        vertical-align: middle;\n",
       "    }\n",
       "\n",
       "    .dataframe tbody tr th {\n",
       "        vertical-align: top;\n",
       "    }\n",
       "\n",
       "    .dataframe thead th {\n",
       "        text-align: right;\n",
       "    }\n",
       "</style>\n",
       "<table border=\"1\" class=\"dataframe\">\n",
       "  <thead>\n",
       "    <tr style=\"text-align: right;\">\n",
       "      <th></th>\n",
       "      <th>TipoEscola</th>\n",
       "      <th>NumDiscentes</th>\n",
       "    </tr>\n",
       "  </thead>\n",
       "  <tbody>\n",
       "    <tr>\n",
       "      <th>0</th>\n",
       "      <td>Privado</td>\n",
       "      <td>15</td>\n",
       "    </tr>\n",
       "    <tr>\n",
       "      <th>1</th>\n",
       "      <td>Público (Estadual)</td>\n",
       "      <td>8</td>\n",
       "    </tr>\n",
       "    <tr>\n",
       "      <th>2</th>\n",
       "      <td>Público (Municipal)</td>\n",
       "      <td>3</td>\n",
       "    </tr>\n",
       "    <tr>\n",
       "      <th>3</th>\n",
       "      <td>Público (Federal)</td>\n",
       "      <td>7</td>\n",
       "    </tr>\n",
       "  </tbody>\n",
       "</table>\n",
       "</div>"
      ],
      "text/plain": [
       "            TipoEscola  NumDiscentes\n",
       "0              Privado            15\n",
       "1   Público (Estadual)             8\n",
       "2  Público (Municipal)             3\n",
       "3    Público (Federal)             7"
      ]
     },
     "execution_count": 2,
     "metadata": {},
     "output_type": "execute_result"
    }
   ],
   "source": [
    "tipo_medio = pd.DataFrame().assign(\n",
    "    TipoEscola=['Privado', 'Público (Estadual)', 'Público (Municipal)', 'Público (Federal)'], \n",
    "    NumDiscentes=[15, 8, 3, 7]\n",
    ")\n",
    "tipo_medio"
   ]
  },
  {
   "cell_type": "code",
   "execution_count": 3,
   "metadata": {
    "execution": {
     "iopub.execute_input": "2025-03-30T18:06:07.708720Z",
     "iopub.status.busy": "2025-03-30T18:06:07.708476Z",
     "iopub.status.idle": "2025-03-30T18:06:07.812615Z",
     "shell.execute_reply": "2025-03-30T18:06:07.812210Z"
    },
    "scrolled": true
   },
   "outputs": [
    {
     "data": {
      "image/png": "[encoded data removed]",
      "text/plain": [
       "<Figure size 640x480 with 1 Axes>"
      ]
     },
     "metadata": {},
     "output_type": "display_data"
    }
   ],
   "source": [
    "tipo_medio.plot(kind='barh', x='TipoEscola', y='NumDiscentes');"
   ]
  },
  {
   "cell_type": "code",
   "execution_count": 4,
   "metadata": {
    "execution": {
     "iopub.execute_input": "2025-03-30T18:06:07.814770Z",
     "iopub.status.busy": "2025-03-30T18:06:07.814621Z",
     "iopub.status.idle": "2025-03-30T18:06:07.903425Z",
     "shell.execute_reply": "2025-03-30T18:06:07.902965Z"
    },
    "scrolled": true
   },
   "outputs": [
    {
     "data": {
      "image/png": "[encoded data removed]",
      "text/plain": [
       "<Figure size 640x480 with 1 Axes>"
      ]
     },
     "metadata": {},
     "output_type": "display_data"
    }
   ],
   "source": [
    "tipo_medio.plot(kind='bar', x='TipoEscola', y='NumDiscentes');"
   ]
  },
  {
   "cell_type": "markdown",
   "metadata": {
    "slideshow": {
     "slide_type": "slide"
    }
   },
   "source": [
    "### Variáveis ​​numéricas\n",
    "\n",
    "A distribuição de uma variável numérica nem sempre pode ser representada com precisão por um gráfico de barras. Por exemplo, vejamos o número de streams de cada uma das 200 músicas mais populares no Spotify nos EUA. 🎵"
   ]
  },
  {
   "cell_type": "code",
   "execution_count": 5,
   "metadata": {
    "execution": {
     "iopub.execute_input": "2025-03-30T18:06:07.905238Z",
     "iopub.status.busy": "2025-03-30T18:06:07.905061Z",
     "iopub.status.idle": "2025-03-30T18:06:08.001686Z",
     "shell.execute_reply": "2025-03-30T18:06:08.000766Z"
    },
    "scrolled": true
   },
   "outputs": [
    {
     "data": {
      "text/html": [
       "<div>\n",
       "<style scoped>\n",
       "    .dataframe tbody tr th:only-of-type {\n",
       "        vertical-align: middle;\n",
       "    }\n",
       "\n",
       "    .dataframe tbody tr th {\n",
       "        vertical-align: top;\n",
       "    }\n",
       "\n",
       "    .dataframe thead th {\n",
       "        text-align: right;\n",
       "    }\n",
       "</style>\n",
       "<table border=\"1\" class=\"dataframe\">\n",
       "  <thead>\n",
       "    <tr style=\"text-align: right;\">\n",
       "      <th></th>\n",
       "      <th>track_name</th>\n",
       "      <th>artist_names</th>\n",
       "      <th>streams</th>\n",
       "      <th>million_streams</th>\n",
       "    </tr>\n",
       "    <tr>\n",
       "      <th>rank</th>\n",
       "      <th></th>\n",
       "      <th></th>\n",
       "      <th></th>\n",
       "      <th></th>\n",
       "    </tr>\n",
       "  </thead>\n",
       "  <tbody>\n",
       "    <tr>\n",
       "      <th>1</th>\n",
       "      <td>Flowers</td>\n",
       "      <td>Miley Cyrus</td>\n",
       "      <td>3356361</td>\n",
       "      <td>2.48</td>\n",
       "    </tr>\n",
       "    <tr>\n",
       "      <th>2</th>\n",
       "      <td>Kill Bill</td>\n",
       "      <td>SZA</td>\n",
       "      <td>2479445</td>\n",
       "      <td>1.34</td>\n",
       "    </tr>\n",
       "    <tr>\n",
       "      <th>3</th>\n",
       "      <td>Creepin' (with The Weeknd &amp; 21 Savage)</td>\n",
       "      <td>Metro Boomin, The Weeknd, 21 Savage</td>\n",
       "      <td>1337320</td>\n",
       "      <td>1.24</td>\n",
       "    </tr>\n",
       "    <tr>\n",
       "      <th>4</th>\n",
       "      <td>Superhero (Heroes &amp; Villains) [with Future &amp; C...</td>\n",
       "      <td>Metro Boomin, Future, Chris Brown</td>\n",
       "      <td>1235285</td>\n",
       "      <td>1.11</td>\n",
       "    </tr>\n",
       "    <tr>\n",
       "      <th>5</th>\n",
       "      <td>Rich Flex</td>\n",
       "      <td>Drake, 21 Savage</td>\n",
       "      <td>1109704</td>\n",
       "      <td>1.05</td>\n",
       "    </tr>\n",
       "    <tr>\n",
       "      <th>...</th>\n",
       "      <td>...</td>\n",
       "      <td>...</td>\n",
       "      <td>...</td>\n",
       "      <td>...</td>\n",
       "    </tr>\n",
       "    <tr>\n",
       "      <th>196</th>\n",
       "      <td>Burn, Burn, Burn</td>\n",
       "      <td>Zach Bryan</td>\n",
       "      <td>267772</td>\n",
       "      <td>0.27</td>\n",
       "    </tr>\n",
       "    <tr>\n",
       "      <th>197</th>\n",
       "      <td>LET GO</td>\n",
       "      <td>Central Cee</td>\n",
       "      <td>267401</td>\n",
       "      <td>0.27</td>\n",
       "    </tr>\n",
       "    <tr>\n",
       "      <th>198</th>\n",
       "      <td>Major Distribution</td>\n",
       "      <td>Drake, 21 Savage</td>\n",
       "      <td>266986</td>\n",
       "      <td>0.27</td>\n",
       "    </tr>\n",
       "    <tr>\n",
       "      <th>199</th>\n",
       "      <td>Sun to Me</td>\n",
       "      <td>Zach Bryan</td>\n",
       "      <td>266968</td>\n",
       "      <td>0.27</td>\n",
       "    </tr>\n",
       "    <tr>\n",
       "      <th>200</th>\n",
       "      <td>The Real Slim Shady</td>\n",
       "      <td>Eminem</td>\n",
       "      <td>266698</td>\n",
       "      <td>NaN</td>\n",
       "    </tr>\n",
       "  </tbody>\n",
       "</table>\n",
       "<p>200 rows × 4 columns</p>\n",
       "</div>"
      ],
      "text/plain": [
       "                                             track_name  \\\n",
       "rank                                                      \n",
       "1                                               Flowers   \n",
       "2                                             Kill Bill   \n",
       "3                Creepin' (with The Weeknd & 21 Savage)   \n",
       "4     Superhero (Heroes & Villains) [with Future & C...   \n",
       "5                                             Rich Flex   \n",
       "...                                                 ...   \n",
       "196                                    Burn, Burn, Burn   \n",
       "197                                              LET GO   \n",
       "198                                  Major Distribution   \n",
       "199                                           Sun to Me   \n",
       "200                                 The Real Slim Shady   \n",
       "\n",
       "                             artist_names  streams  million_streams  \n",
       "rank                                                                 \n",
       "1                             Miley Cyrus  3356361             2.48  \n",
       "2                                     SZA  2479445             1.34  \n",
       "3     Metro Boomin, The Weeknd, 21 Savage  1337320             1.24  \n",
       "4       Metro Boomin, Future, Chris Brown  1235285             1.11  \n",
       "5                        Drake, 21 Savage  1109704             1.05  \n",
       "...                                   ...      ...              ...  \n",
       "196                            Zach Bryan   267772             0.27  \n",
       "197                           Central Cee   267401             0.27  \n",
       "198                      Drake, 21 Savage   266986             0.27  \n",
       "199                            Zach Bryan   266968             0.27  \n",
       "200                                Eminem   266698              NaN  \n",
       "\n",
       "[200 rows x 4 columns]"
      ]
     },
     "execution_count": 5,
     "metadata": {},
     "output_type": "execute_result"
    }
   ],
   "source": [
    "charts = pd.read_csv('https://raw.githubusercontent.com/flaviovdf/fcd/master/assets/07-DataViz/data/regional-us-daily-2023-01-21.csv')\n",
    "charts = (charts.set_index('rank')\n",
    "          .assign(million_streams = np.round(charts.get('streams')/1000000, 2))\n",
    "          .get(['track_name', 'artist_names', 'streams', 'million_streams'])\n",
    "         )\n",
    "charts"
   ]
  },
  {
   "cell_type": "markdown",
   "metadata": {
    "slideshow": {
     "slide_type": "fragment"
    }
   },
   "source": [
    "Para ver a distribuição do número de streams, precisamos agrupar pela coluna `'million_streams'`."
   ]
  },
  {
   "cell_type": "code",
   "execution_count": 6,
   "metadata": {
    "execution": {
     "iopub.execute_input": "2025-03-30T18:06:08.004398Z",
     "iopub.status.busy": "2025-03-30T18:06:08.004186Z",
     "iopub.status.idle": "2025-03-30T18:06:08.014095Z",
     "shell.execute_reply": "2025-03-30T18:06:08.013775Z"
    }
   },
   "outputs": [
    {
     "data": {
      "text/html": [
       "<div>\n",
       "<style scoped>\n",
       "    .dataframe tbody tr th:only-of-type {\n",
       "        vertical-align: middle;\n",
       "    }\n",
       "\n",
       "    .dataframe tbody tr th {\n",
       "        vertical-align: top;\n",
       "    }\n",
       "\n",
       "    .dataframe thead th {\n",
       "        text-align: right;\n",
       "    }\n",
       "</style>\n",
       "<table border=\"1\" class=\"dataframe\">\n",
       "  <thead>\n",
       "    <tr style=\"text-align: right;\">\n",
       "      <th></th>\n",
       "      <th>Count</th>\n",
       "    </tr>\n",
       "    <tr>\n",
       "      <th>million_streams</th>\n",
       "      <th></th>\n",
       "    </tr>\n",
       "  </thead>\n",
       "  <tbody>\n",
       "    <tr>\n",
       "      <th>0.27</th>\n",
       "      <td>17</td>\n",
       "    </tr>\n",
       "    <tr>\n",
       "      <th>0.28</th>\n",
       "      <td>20</td>\n",
       "    </tr>\n",
       "    <tr>\n",
       "      <th>0.29</th>\n",
       "      <td>19</td>\n",
       "    </tr>\n",
       "    <tr>\n",
       "      <th>0.30</th>\n",
       "      <td>8</td>\n",
       "    </tr>\n",
       "    <tr>\n",
       "      <th>0.31</th>\n",
       "      <td>14</td>\n",
       "    </tr>\n",
       "    <tr>\n",
       "      <th>0.32</th>\n",
       "      <td>7</td>\n",
       "    </tr>\n",
       "    <tr>\n",
       "      <th>0.33</th>\n",
       "      <td>14</td>\n",
       "    </tr>\n",
       "    <tr>\n",
       "      <th>0.34</th>\n",
       "      <td>7</td>\n",
       "    </tr>\n",
       "    <tr>\n",
       "      <th>0.35</th>\n",
       "      <td>10</td>\n",
       "    </tr>\n",
       "    <tr>\n",
       "      <th>0.36</th>\n",
       "      <td>8</td>\n",
       "    </tr>\n",
       "    <tr>\n",
       "      <th>0.37</th>\n",
       "      <td>1</td>\n",
       "    </tr>\n",
       "    <tr>\n",
       "      <th>0.38</th>\n",
       "      <td>7</td>\n",
       "    </tr>\n",
       "    <tr>\n",
       "      <th>0.39</th>\n",
       "      <td>2</td>\n",
       "    </tr>\n",
       "    <tr>\n",
       "      <th>0.40</th>\n",
       "      <td>5</td>\n",
       "    </tr>\n",
       "    <tr>\n",
       "      <th>0.41</th>\n",
       "      <td>3</td>\n",
       "    </tr>\n",
       "    <tr>\n",
       "      <th>0.42</th>\n",
       "      <td>2</td>\n",
       "    </tr>\n",
       "    <tr>\n",
       "      <th>0.43</th>\n",
       "      <td>4</td>\n",
       "    </tr>\n",
       "    <tr>\n",
       "      <th>0.44</th>\n",
       "      <td>1</td>\n",
       "    </tr>\n",
       "    <tr>\n",
       "      <th>0.45</th>\n",
       "      <td>2</td>\n",
       "    </tr>\n",
       "    <tr>\n",
       "      <th>0.46</th>\n",
       "      <td>1</td>\n",
       "    </tr>\n",
       "    <tr>\n",
       "      <th>0.47</th>\n",
       "      <td>4</td>\n",
       "    </tr>\n",
       "    <tr>\n",
       "      <th>0.48</th>\n",
       "      <td>2</td>\n",
       "    </tr>\n",
       "    <tr>\n",
       "      <th>0.49</th>\n",
       "      <td>1</td>\n",
       "    </tr>\n",
       "    <tr>\n",
       "      <th>0.50</th>\n",
       "      <td>1</td>\n",
       "    </tr>\n",
       "    <tr>\n",
       "      <th>0.52</th>\n",
       "      <td>5</td>\n",
       "    </tr>\n",
       "    <tr>\n",
       "      <th>0.53</th>\n",
       "      <td>1</td>\n",
       "    </tr>\n",
       "    <tr>\n",
       "      <th>0.54</th>\n",
       "      <td>2</td>\n",
       "    </tr>\n",
       "    <tr>\n",
       "      <th>0.55</th>\n",
       "      <td>2</td>\n",
       "    </tr>\n",
       "    <tr>\n",
       "      <th>0.56</th>\n",
       "      <td>1</td>\n",
       "    </tr>\n",
       "    <tr>\n",
       "      <th>0.57</th>\n",
       "      <td>1</td>\n",
       "    </tr>\n",
       "    <tr>\n",
       "      <th>0.58</th>\n",
       "      <td>2</td>\n",
       "    </tr>\n",
       "    <tr>\n",
       "      <th>0.61</th>\n",
       "      <td>1</td>\n",
       "    </tr>\n",
       "    <tr>\n",
       "      <th>0.64</th>\n",
       "      <td>1</td>\n",
       "    </tr>\n",
       "    <tr>\n",
       "      <th>0.66</th>\n",
       "      <td>1</td>\n",
       "    </tr>\n",
       "    <tr>\n",
       "      <th>0.67</th>\n",
       "      <td>1</td>\n",
       "    </tr>\n",
       "    <tr>\n",
       "      <th>0.69</th>\n",
       "      <td>1</td>\n",
       "    </tr>\n",
       "    <tr>\n",
       "      <th>0.74</th>\n",
       "      <td>2</td>\n",
       "    </tr>\n",
       "    <tr>\n",
       "      <th>0.75</th>\n",
       "      <td>1</td>\n",
       "    </tr>\n",
       "    <tr>\n",
       "      <th>0.76</th>\n",
       "      <td>1</td>\n",
       "    </tr>\n",
       "    <tr>\n",
       "      <th>0.79</th>\n",
       "      <td>5</td>\n",
       "    </tr>\n",
       "    <tr>\n",
       "      <th>0.83</th>\n",
       "      <td>1</td>\n",
       "    </tr>\n",
       "    <tr>\n",
       "      <th>0.86</th>\n",
       "      <td>2</td>\n",
       "    </tr>\n",
       "    <tr>\n",
       "      <th>0.87</th>\n",
       "      <td>1</td>\n",
       "    </tr>\n",
       "    <tr>\n",
       "      <th>0.94</th>\n",
       "      <td>1</td>\n",
       "    </tr>\n",
       "    <tr>\n",
       "      <th>1.00</th>\n",
       "      <td>1</td>\n",
       "    </tr>\n",
       "    <tr>\n",
       "      <th>1.05</th>\n",
       "      <td>1</td>\n",
       "    </tr>\n",
       "    <tr>\n",
       "      <th>1.11</th>\n",
       "      <td>1</td>\n",
       "    </tr>\n",
       "    <tr>\n",
       "      <th>1.24</th>\n",
       "      <td>1</td>\n",
       "    </tr>\n",
       "    <tr>\n",
       "      <th>1.34</th>\n",
       "      <td>1</td>\n",
       "    </tr>\n",
       "    <tr>\n",
       "      <th>2.48</th>\n",
       "      <td>1</td>\n",
       "    </tr>\n",
       "  </tbody>\n",
       "</table>\n",
       "</div>"
      ],
      "text/plain": [
       "                 Count\n",
       "million_streams       \n",
       "0.27                17\n",
       "0.28                20\n",
       "0.29                19\n",
       "0.30                 8\n",
       "0.31                14\n",
       "0.32                 7\n",
       "0.33                14\n",
       "0.34                 7\n",
       "0.35                10\n",
       "0.36                 8\n",
       "0.37                 1\n",
       "0.38                 7\n",
       "0.39                 2\n",
       "0.40                 5\n",
       "0.41                 3\n",
       "0.42                 2\n",
       "0.43                 4\n",
       "0.44                 1\n",
       "0.45                 2\n",
       "0.46                 1\n",
       "0.47                 4\n",
       "0.48                 2\n",
       "0.49                 1\n",
       "0.50                 1\n",
       "0.52                 5\n",
       "0.53                 1\n",
       "0.54                 2\n",
       "0.55                 2\n",
       "0.56                 1\n",
       "0.57                 1\n",
       "0.58                 2\n",
       "0.61                 1\n",
       "0.64                 1\n",
       "0.66                 1\n",
       "0.67                 1\n",
       "0.69                 1\n",
       "0.74                 2\n",
       "0.75                 1\n",
       "0.76                 1\n",
       "0.79                 5\n",
       "0.83                 1\n",
       "0.86                 2\n",
       "0.87                 1\n",
       "0.94                 1\n",
       "1.00                 1\n",
       "1.05                 1\n",
       "1.11                 1\n",
       "1.24                 1\n",
       "1.34                 1\n",
       "2.48                 1"
      ]
     },
     "execution_count": 6,
     "metadata": {},
     "output_type": "execute_result"
    }
   ],
   "source": [
    "stream_counts = charts.groupby('million_streams').count()\n",
    "stream_counts = stream_counts.assign(Count=stream_counts.get('track_name')).drop(columns=['track_name', 'artist_names', 'streams'])\n",
    "stream_counts"
   ]
  },
  {
   "cell_type": "code",
   "execution_count": 7,
   "metadata": {
    "execution": {
     "iopub.execute_input": "2025-03-30T18:06:08.015624Z",
     "iopub.status.busy": "2025-03-30T18:06:08.015490Z",
     "iopub.status.idle": "2025-03-30T18:06:08.276311Z",
     "shell.execute_reply": "2025-03-30T18:06:08.275827Z"
    },
    "slideshow": {
     "slide_type": "slide"
    }
   },
   "outputs": [
    {
     "data": {
      "image/png": "[encoded data removed]",
      "text/plain": [
       "<Figure size 1500x500 with 1 Axes>"
      ]
     },
     "metadata": {},
     "output_type": "display_data"
    }
   ],
   "source": [
    "stream_counts.plot(kind='bar', y='Count', figsize=(15,5));"
   ]
  },
  {
   "cell_type": "markdown",
   "metadata": {
    "slideshow": {
     "slide_type": "fragment"
    }
   },
   "source": [
    "- Isso obscurece o fato de que as duas músicas principais são atípicas, com **muito mais streams** do que as outras músicas.\n",
    "\n",
    "- O eixo horizontal deve ser numérico (como uma reta numérica), não categórico. Deve haver mais espaço entre certas barras do que outras."
   ]
  },
  {
   "cell_type": "markdown",
   "metadata": {
    "slideshow": {
     "slide_type": "slide"
    }
   },
   "source": [
    "## Histogramas"
   ]
  },
  {
   "cell_type": "markdown",
   "metadata": {
    "slideshow": {
     "slide_type": "slide"
    }
   },
   "source": [
    "### Histogramas mostram a distribuição de variáveis ​​numéricas *sem normalizar*\n",
    "\n",
    "Em vez de um gráfico de barras, visualizaremos a distribuição de uma variável numérica com um **histograma**. Vamos ver como é um histograma de densidade para `'million_streams'`. O que você percebe nessa visualização?"
   ]
  },
  {
   "cell_type": "code",
   "execution_count": 8,
   "metadata": {
    "execution": {
     "iopub.execute_input": "2025-03-30T18:06:08.277984Z",
     "iopub.status.busy": "2025-03-30T18:06:08.277826Z",
     "iopub.status.idle": "2025-03-30T18:06:08.386679Z",
     "shell.execute_reply": "2025-03-30T18:06:08.386298Z"
    }
   },
   "outputs": [
    {
     "data": {
      "image/png": "[encoded data removed]",
      "text/plain": [
       "<Figure size 640x480 with 1 Axes>"
      ]
     },
     "metadata": {},
     "output_type": "display_data"
    }
   ],
   "source": [
    "# Ignore the code for right now.\n",
    "charts.plot(\n",
    "    kind='hist',\n",
    "    y='million_streams',\n",
    "    bins=np.arange(0, 4, 0.5),\n",
    "    ec='w'  # borda branca\n",
    ");"
   ]
  },
  {
   "cell_type": "markdown",
   "metadata": {
    "slideshow": {
     "slide_type": "slide"
    }
   },
   "source": [
    "### Primeira ideia chave por trás dos histogramas: binning 🗑️\n",
    "\n",
    "- Binning é o ato de contar o número de valores numéricos que se enquadram nos intervalos definidos por dois pontos finais. Esses intervalos são chamados de “caixas”.\n",
    "- Um valor cai em uma caixa se for **maior ou igual ao ponto final esquerdo** e **menor que o ponto final direito**.\n",
    "- [a, b): a está incluído, b não.\n",
    "- A largura de uma caixa é sua extremidade direita menos sua extremidade esquerda.\n"
   ]
  },
  {
   "cell_type": "code",
   "execution_count": 9,
   "metadata": {
    "execution": {
     "iopub.execute_input": "2025-03-30T18:06:08.388301Z",
     "iopub.status.busy": "2025-03-30T18:06:08.388145Z",
     "iopub.status.idle": "2025-03-30T18:06:08.391247Z",
     "shell.execute_reply": "2025-03-30T18:06:08.390937Z"
    },
    "scrolled": true,
    "slideshow": {
     "slide_type": "-"
    }
   },
   "outputs": [
    {
     "data": {
      "text/html": [
       "\n",
       "        <iframe\n",
       "            width=\"900\"\n",
       "            height=\"307\"\n",
       "            src=\"https://docs.google.com/presentation/d/e/2PACX-1vTnRGwEnKP2V-Z82DlxW1b1nMb2F0zWyrXIzFSpQx_8Wd3MFaf56y2_u3JrLwZ5SjWmfapL5BJLfsDG/embed?start=false&loop=false&delayms=60000\"\n",
       "            frameborder=\"0\"\n",
       "            allowfullscreen\n",
       "            \n",
       "        ></iframe>\n",
       "        "
      ],
      "text/plain": [
       "<IPython.lib.display.IFrame at 0x7f26174cfdd0>"
      ]
     },
     "metadata": {},
     "output_type": "display_data"
    }
   ],
   "source": [
    "from IPython.display import display, IFrame\n",
    "\n",
    "def binning_animation():\n",
    "    src=\"https://docs.google.com/presentation/d/e/2PACX-1vTnRGwEnKP2V-Z82DlxW1b1nMb2F0zWyrXIzFSpQx_8Wd3MFaf56y2_u3JrLwZ5SjWmfapL5BJLfsDG/embed?start=false&loop=false&delayms=60000\"\n",
    "    width=900\n",
    "    height=307\n",
    "    display(IFrame(src, width, height))\n",
    "binning_animation()"
   ]
  },
  {
   "cell_type": "markdown",
   "metadata": {
    "slideshow": {
     "slide_type": "slide"
    }
   },
   "source": [
    "### Personalizando as caixas\n",
    "\n",
    "- Por padrão, o Python agrupará seus dados em 10 compartimentos de tamanhos iguais.\n",
    "- Você pode especificar outro número de compartimentos de tamanhos iguais definindo o argumento opcional `bins` igual a algum outro valor inteiro.\n",
    "- Você também pode especificar o início e os pontos finais do compartimento personalizado definindo `bins` iguais a uma sequência de pontos finais do compartimento.\n",
    "- Pode ser um array `list` ou `numpy`."
   ]
  },
  {
   "cell_type": "code",
   "execution_count": 10,
   "metadata": {
    "execution": {
     "iopub.execute_input": "2025-03-30T18:06:08.392635Z",
     "iopub.status.busy": "2025-03-30T18:06:08.392432Z",
     "iopub.status.idle": "2025-03-30T18:06:08.526678Z",
     "shell.execute_reply": "2025-03-30T18:06:08.526362Z"
    }
   },
   "outputs": [
    {
     "data": {
      "image/png": "[encoded data removed]",
      "text/plain": [
       "<Figure size 640x480 with 1 Axes>"
      ]
     },
     "metadata": {},
     "output_type": "display_data"
    }
   ],
   "source": [
    "charts.plot(\n",
    "    kind='hist',\n",
    "    y='million_streams',\n",
    "    bins=20,\n",
    "    ec='w'\n",
    ");"
   ]
  },
  {
   "cell_type": "code",
   "execution_count": 11,
   "metadata": {
    "execution": {
     "iopub.execute_input": "2025-03-30T18:06:08.528273Z",
     "iopub.status.busy": "2025-03-30T18:06:08.527959Z",
     "iopub.status.idle": "2025-03-30T18:06:08.600374Z",
     "shell.execute_reply": "2025-03-30T18:06:08.600060Z"
    }
   },
   "outputs": [
    {
     "data": {
      "image/png": "[encoded data removed]",
      "text/plain": [
       "<Figure size 640x480 with 1 Axes>"
      ]
     },
     "metadata": {},
     "output_type": "display_data"
    }
   ],
   "source": [
    "charts.plot(\n",
    "    kind='hist', y='million_streams', density=True,\n",
    "    bins=[0, 1, 2, 3, 4, 5],\n",
    "    ec='w'\n",
    ");"
   ]
  },
  {
   "cell_type": "markdown",
   "metadata": {
    "slideshow": {
     "slide_type": "fragment"
    }
   },
   "source": [
    "Nos dois histogramas acima, o que é diferente e o que é igual?"
   ]
  },
  {
   "cell_type": "markdown",
   "metadata": {
    "slideshow": {
     "slide_type": "slide"
    }
   },
   "source": [
    "### Observações\n",
    "- A forma geral de todos os dois histogramas é a mesma, independentemente dos compartimentos. Esta forma é chamada de *inclinada à direita*.\n",
    "- Mais compartimentos fornecem uma imagem mais precisa e granular da distribuição da variável `'million_streams'`.\n",
    "- Os valores do eixo $y$ parecem mudar muito quando mudamos os compartimentos. Agarre-se a esse pensamento; veremos o porquê em breve."
   ]
  },
  {
   "cell_type": "markdown",
   "metadata": {},
   "source": [
    "### Histogramas de densidade mostram a distribuição de variáveis ​​numéricas\n",
    "\n",
    "Podemos também criar histogramas *normalizados* ou histogramas de densidade."
   ]
  },
  {
   "cell_type": "markdown",
   "metadata": {
    "slideshow": {
     "slide_type": "slide"
    }
   },
   "source": [
    "### Ideia chave por trás dos histogramas de densidade: a área total é 1\n",
    "\n",
    "- Em um histograma de densidade, o eixo $y$ pode ser difícil de interpretar, mas foi projetado para dar ao histograma uma propriedade muito boa: $$\\textbf{As barras de um histograma de densidade }$$\n",
    "$$\\textbf{têm uma área total combinada de 1.}$$\n",
    "- Isso significa que a área de uma barra é igual à proporção de todos os pontos de dados que caem nessa caixa.\n",
    "- Proporções e percentagens representam a mesma coisa.\n",
    "- Uma proporção é um decimal entre 0 e 1, uma porcentagem está entre 0\\% e 100\\%.\n",
    "- A proporção 0,34 significa 34\\%.\n"
   ]
  },
  {
   "cell_type": "markdown",
   "metadata": {
    "slideshow": {
     "slide_type": "slide"
    }
   },
   "source": [
    "### Cálculo de exemplo"
   ]
  },
  {
   "cell_type": "code",
   "execution_count": 12,
   "metadata": {
    "execution": {
     "iopub.execute_input": "2025-03-30T18:06:08.602086Z",
     "iopub.status.busy": "2025-03-30T18:06:08.601900Z",
     "iopub.status.idle": "2025-03-30T18:06:08.687132Z",
     "shell.execute_reply": "2025-03-30T18:06:08.686817Z"
    },
    "scrolled": false
   },
   "outputs": [
    {
     "data": {
      "image/png": "[encoded data removed]",
      "text/plain": [
       "<Figure size 640x480 with 1 Axes>"
      ]
     },
     "metadata": {},
     "output_type": "display_data"
    }
   ],
   "source": [
    "charts.plot(\n",
    "    kind='hist',\n",
    "    y='million_streams',\n",
    "    density=True,\n",
    "    bins=[0, 0.5, 1, 1.5, 2.5, 4],\n",
    "    ec='w'\n",
    ");"
   ]
  },
  {
   "cell_type": "markdown",
   "metadata": {
    "slideshow": {
     "slide_type": "-"
    }
   },
   "source": [
    "Com base neste histograma, que proporção das 200 músicas mais populares teve menos de meio milhão de streams?"
   ]
  },
  {
   "cell_type": "markdown",
   "metadata": {
    "slideshow": {
     "slide_type": "slide"
    }
   },
   "source": [
    "### Exemplo de cálculo\n",
    "\n",
    "- A altura da barra [0, 0.5) parece ser apenas 1,6.\n",
    "- A largura da caixa é 0,5 - 0 = 0,5.\n",
    "\n",
    "- Portanto, usando a fórmula da área de um retângulo,\n",
    "\n",
    "$$\\begin{align}\\text{Area} &= \\text{Altura} \\times \\text{Largura} \\\\ &= 1,6 \\times 0,5 \\\\ e= 0,8\n",
    "\\end{align}$$\n",
    "\n",
    "- Como as áreas representam proporções, isso significa que a proporção das 200 músicas mais populares com menos de 0,5 milhão de streams foi de aproximadamente 0,8 (ou 80\\%)."
   ]
  },
  {
   "cell_type": "markdown",
   "metadata": {
    "slideshow": {
     "slide_type": "slide"
    }
   },
   "source": [
    "### Verifique a matemática"
   ]
  },
  {
   "cell_type": "code",
   "execution_count": 13,
   "metadata": {
    "execution": {
     "iopub.execute_input": "2025-03-30T18:06:08.688814Z",
     "iopub.status.busy": "2025-03-30T18:06:08.688600Z",
     "iopub.status.idle": "2025-03-30T18:06:08.692281Z",
     "shell.execute_reply": "2025-03-30T18:06:08.691944Z"
    },
    "slideshow": {
     "slide_type": "-"
    }
   },
   "outputs": [
    {
     "data": {
      "text/plain": [
       "159"
      ]
     },
     "execution_count": 13,
     "metadata": {},
     "output_type": "execute_result"
    }
   ],
   "source": [
    "first_bin = charts[charts.get('million_streams') < 0.5].shape[0]\n",
    "first_bin"
   ]
  },
  {
   "cell_type": "code",
   "execution_count": 14,
   "metadata": {
    "execution": {
     "iopub.execute_input": "2025-03-30T18:06:08.693649Z",
     "iopub.status.busy": "2025-03-30T18:06:08.693525Z",
     "iopub.status.idle": "2025-03-30T18:06:08.696012Z",
     "shell.execute_reply": "2025-03-30T18:06:08.695713Z"
    }
   },
   "outputs": [
    {
     "data": {
      "text/plain": [
       "0.795"
      ]
     },
     "execution_count": 14,
     "metadata": {},
     "output_type": "execute_result"
    }
   ],
   "source": [
    "first_bin/200"
   ]
  },
  {
   "cell_type": "markdown",
   "metadata": {
    "slideshow": {
     "slide_type": "fragment"
    }
   },
   "source": [
    "Isso corresponde ao resultado que obtivemos. (Não exatamente, já que fizemos uma estimativa para a altura.)"
   ]
  },
  {
   "cell_type": "markdown",
   "metadata": {
    "slideshow": {
     "slide_type": "slide"
    }
   },
   "source": [
    "### Como calcular alturas em um histograma de densidade\n",
    "\n",
    "Como a barra de um histograma é um retângulo, sua área é dada por\n",
    "\n",
    "$$\\text{Área} = \\text{Altura} \\times \\text{Largura}$$\n",
    "\n",
    "Que significa\n",
    "\n",
    "$$\\text{Altura} = \\frac{\\text{Área}}{\\text{Largura}} = \\frac{\\text{Proporção (ou Porcentagem)}}{\\text{Largura}}$$"
   ]
  },
  {
   "cell_type": "markdown",
   "metadata": {
    "slideshow": {
     "slide_type": "fragment"
    }
   },
   "source": [
    "Isso implica que as unidades de altura são \"proporção por (unidade $x$-eixo)\". O eixo $y$ representa uma espécie de *densidade*, e é por isso que o chamamos de histograma de densidade.\n",
    "\n"
   ]
  },
  {
   "cell_type": "code",
   "execution_count": 15,
   "metadata": {
    "execution": {
     "iopub.execute_input": "2025-03-30T18:06:08.697465Z",
     "iopub.status.busy": "2025-03-30T18:06:08.697318Z",
     "iopub.status.idle": "2025-03-30T18:06:08.793642Z",
     "shell.execute_reply": "2025-03-30T18:06:08.793279Z"
    },
    "slideshow": {
     "slide_type": "fragment"
    }
   },
   "outputs": [
    {
     "data": {
      "text/plain": [
       "Text(0, 0.5, 'Densidade')"
      ]
     },
     "execution_count": 15,
     "metadata": {},
     "output_type": "execute_result"
    },
    {
     "data": {
      "image/png": "[encoded data removed]",
      "text/plain": [
       "<Figure size 640x480 with 1 Axes>"
      ]
     },
     "metadata": {},
     "output_type": "display_data"
    }
   ],
   "source": [
    "charts.plot(kind='hist', y='million_streams', density=True,\n",
    "            bins=[0, 0.5, 1, 1.5, 2.5, 4],\n",
    "            ec='w');\n",
    "plt.ylabel('Densidade')"
   ]
  },
  {
   "cell_type": "markdown",
   "metadata": {},
   "source": [
    "As unidades do eixo $y$ aqui são \"proporção por milhão de fluxos\", já que o eixo $x$ representa milhões de fluxos.\n",
    "- Infelizmente, as unidades do eixo $y$ no histograma sempre são exibidas como \"Frequência\". **Isto está errado!**\n",
    "- Podemos corrigir com `plt.ylabel(...)`"
   ]
  },
  {
   "cell_type": "markdown",
   "metadata": {
    "slideshow": {
     "slide_type": "slide"
    }
   },
   "source": [
    "### Verificação de conceito ✅\n",
    "\n",
    "Suponha que criamos um histograma de densidade dos tamanhos dos sapatos das pessoas. 👟 Abaixo estão as caixas que escolhemos junto com suas alturas.\n",
    "\n",
    "| Caixa | Altura da barra |\n",
    "| --- | --- |\n",
    "| [3, 7) | 0,05 |\n",
    "| [7, 10) | 0,1 |\n",
    "| [10, 12) | 0,15 |\n",
    "| [12, 16] | $X$ |\n",
    "\n",
    "\n",
    "Qual deve ser o valor de $X$ para que este seja um histograma válido?\n",
    "\n",
    "A. 0,02\n",
    "B. 0,05\n",
    "C. 0,2\n",
    "D. 0,5\n",
    "E. 0.7             \n"
   ]
  },
  {
   "cell_type": "markdown",
   "metadata": {
    "slideshow": {
     "slide_type": "slide"
    }
   },
   "source": [
    "### Gráficos de barras vs. histogramas\n",
    "\n",
    "Gráfico de barras | Histograma\n",
    "---|---\n",
    "Mostra a distribuição de uma variável categórica | Mostra a distribuição de uma variável numérica\n",
    "1 eixo categórico, 1 eixo numérico | 2 eixos numéricos\n",
    "As barras têm larguras e espaçamentos arbitrários, mas iguais | O eixo horizontal é numérico e está em escala\n",
    "Os comprimentos das barras são proporcionais à quantidade numérica de interesse | A altura mede a densidade; as áreas são proporcionais à proporção (porcentagem) de indivíduos"
   ]
  },
  {
   "cell_type": "markdown",
   "metadata": {
    "slideshow": {
     "slide_type": "slide"
    }
   },
   "source": [
    "### 🌟 Importante 🌟\n",
    "\n",
    "Nesta aula, **\"histograma\" sempre significará um \"histograma de densidade\".** Usaremos **apenas** histogramas de densidade."
   ]
  },
  {
   "cell_type": "markdown",
   "metadata": {
    "slideshow": {
     "slide_type": "fragment"
    }
   },
   "source": [
    "*Nota:* É possível criar o que é chamado de *histograma de frequência* onde o eixo $y$ simplesmente representa uma contagem do número de valores em cada compartimento. Embora sejam mais fáceis de interpretar, os histogramas de frequência não têm a importante propriedade de que a área total é 1, portanto não podem ser conectados à probabilidade da mesma forma que os histogramas de densidade. Isso os torna muito menos úteis para cientistas de dados."
   ]
  },
  {
   "cell_type": "markdown",
   "metadata": {
    "slideshow": {
     "slide_type": "slide"
    }
   },
   "source": [
    "## Gráficos sobrepostos"
   ]
  },
  {
   "cell_type": "markdown",
   "metadata": {
    "slideshow": {
     "slide_type": "slide"
    }
   },
   "source": [
    "### Novo conjunto de dados: populações de San Diego e San Jose ao longo do tempo\n",
    "\n",
    "Os dados para ambas as cidades vêm de [macrotrends.net](https://www.macrotrends.net/cities/23129/san-diego/population)."
   ]
  },
  {
   "cell_type": "code",
   "execution_count": 16,
   "metadata": {
    "execution": {
     "iopub.execute_input": "2025-03-30T18:06:08.795348Z",
     "iopub.status.busy": "2025-03-30T18:06:08.795105Z",
     "iopub.status.idle": "2025-03-30T18:06:08.871737Z",
     "shell.execute_reply": "2025-03-30T18:06:08.870959Z"
    },
    "scrolled": false
   },
   "outputs": [
    {
     "data": {
      "text/html": [
       "<div>\n",
       "<style scoped>\n",
       "    .dataframe tbody tr th:only-of-type {\n",
       "        vertical-align: middle;\n",
       "    }\n",
       "\n",
       "    .dataframe tbody tr th {\n",
       "        vertical-align: top;\n",
       "    }\n",
       "\n",
       "    .dataframe thead th {\n",
       "        text-align: right;\n",
       "    }\n",
       "</style>\n",
       "<table border=\"1\" class=\"dataframe\">\n",
       "  <thead>\n",
       "    <tr style=\"text-align: right;\">\n",
       "      <th></th>\n",
       "      <th>Pop SD</th>\n",
       "      <th>Growth SD</th>\n",
       "      <th>Pop SJ</th>\n",
       "      <th>Growth SJ</th>\n",
       "    </tr>\n",
       "    <tr>\n",
       "      <th>date</th>\n",
       "      <th></th>\n",
       "      <th></th>\n",
       "      <th></th>\n",
       "      <th></th>\n",
       "    </tr>\n",
       "  </thead>\n",
       "  <tbody>\n",
       "    <tr>\n",
       "      <th>1970</th>\n",
       "      <td>1209000</td>\n",
       "      <td>3.69</td>\n",
       "      <td>1009000</td>\n",
       "      <td>4.34</td>\n",
       "    </tr>\n",
       "    <tr>\n",
       "      <th>1971</th>\n",
       "      <td>1252000</td>\n",
       "      <td>3.56</td>\n",
       "      <td>1027000</td>\n",
       "      <td>1.78</td>\n",
       "    </tr>\n",
       "    <tr>\n",
       "      <th>1972</th>\n",
       "      <td>1297000</td>\n",
       "      <td>3.59</td>\n",
       "      <td>1046000</td>\n",
       "      <td>1.85</td>\n",
       "    </tr>\n",
       "    <tr>\n",
       "      <th>1973</th>\n",
       "      <td>1344000</td>\n",
       "      <td>3.62</td>\n",
       "      <td>1064000</td>\n",
       "      <td>1.72</td>\n",
       "    </tr>\n",
       "    <tr>\n",
       "      <th>1974</th>\n",
       "      <td>1392000</td>\n",
       "      <td>3.57</td>\n",
       "      <td>1084000</td>\n",
       "      <td>1.88</td>\n",
       "    </tr>\n",
       "    <tr>\n",
       "      <th>1975</th>\n",
       "      <td>1442000</td>\n",
       "      <td>3.59</td>\n",
       "      <td>1103000</td>\n",
       "      <td>1.75</td>\n",
       "    </tr>\n",
       "    <tr>\n",
       "      <th>1976</th>\n",
       "      <td>1493000</td>\n",
       "      <td>3.54</td>\n",
       "      <td>1123000</td>\n",
       "      <td>1.81</td>\n",
       "    </tr>\n",
       "    <tr>\n",
       "      <th>1977</th>\n",
       "      <td>1547000</td>\n",
       "      <td>3.62</td>\n",
       "      <td>1143000</td>\n",
       "      <td>1.78</td>\n",
       "    </tr>\n",
       "    <tr>\n",
       "      <th>1978</th>\n",
       "      <td>1602000</td>\n",
       "      <td>3.56</td>\n",
       "      <td>1163000</td>\n",
       "      <td>1.75</td>\n",
       "    </tr>\n",
       "    <tr>\n",
       "      <th>1979</th>\n",
       "      <td>1660000</td>\n",
       "      <td>3.62</td>\n",
       "      <td>1184000</td>\n",
       "      <td>1.81</td>\n",
       "    </tr>\n",
       "    <tr>\n",
       "      <th>1980</th>\n",
       "      <td>1718000</td>\n",
       "      <td>3.49</td>\n",
       "      <td>1204000</td>\n",
       "      <td>1.69</td>\n",
       "    </tr>\n",
       "    <tr>\n",
       "      <th>1981</th>\n",
       "      <td>1774000</td>\n",
       "      <td>3.26</td>\n",
       "      <td>1221000</td>\n",
       "      <td>1.41</td>\n",
       "    </tr>\n",
       "    <tr>\n",
       "      <th>1982</th>\n",
       "      <td>1832000</td>\n",
       "      <td>3.27</td>\n",
       "      <td>1237000</td>\n",
       "      <td>1.31</td>\n",
       "    </tr>\n",
       "    <tr>\n",
       "      <th>1983</th>\n",
       "      <td>1891000</td>\n",
       "      <td>3.22</td>\n",
       "      <td>1254000</td>\n",
       "      <td>1.37</td>\n",
       "    </tr>\n",
       "    <tr>\n",
       "      <th>1984</th>\n",
       "      <td>1953000</td>\n",
       "      <td>3.28</td>\n",
       "      <td>1271000</td>\n",
       "      <td>1.36</td>\n",
       "    </tr>\n",
       "    <tr>\n",
       "      <th>1985</th>\n",
       "      <td>2017000</td>\n",
       "      <td>3.28</td>\n",
       "      <td>1288000</td>\n",
       "      <td>1.34</td>\n",
       "    </tr>\n",
       "    <tr>\n",
       "      <th>1986</th>\n",
       "      <td>2082000</td>\n",
       "      <td>3.22</td>\n",
       "      <td>1305000</td>\n",
       "      <td>1.32</td>\n",
       "    </tr>\n",
       "    <tr>\n",
       "      <th>1987</th>\n",
       "      <td>2150000</td>\n",
       "      <td>3.27</td>\n",
       "      <td>1323000</td>\n",
       "      <td>1.38</td>\n",
       "    </tr>\n",
       "    <tr>\n",
       "      <th>1988</th>\n",
       "      <td>2220000</td>\n",
       "      <td>3.26</td>\n",
       "      <td>1341000</td>\n",
       "      <td>1.36</td>\n",
       "    </tr>\n",
       "    <tr>\n",
       "      <th>1989</th>\n",
       "      <td>2293000</td>\n",
       "      <td>3.29</td>\n",
       "      <td>1359000</td>\n",
       "      <td>1.34</td>\n",
       "    </tr>\n",
       "    <tr>\n",
       "      <th>1990</th>\n",
       "      <td>2356000</td>\n",
       "      <td>2.75</td>\n",
       "      <td>1376000</td>\n",
       "      <td>1.25</td>\n",
       "    </tr>\n",
       "    <tr>\n",
       "      <th>1991</th>\n",
       "      <td>2387000</td>\n",
       "      <td>1.32</td>\n",
       "      <td>1392000</td>\n",
       "      <td>1.16</td>\n",
       "    </tr>\n",
       "    <tr>\n",
       "      <th>1992</th>\n",
       "      <td>2418000</td>\n",
       "      <td>1.30</td>\n",
       "      <td>1408000</td>\n",
       "      <td>1.15</td>\n",
       "    </tr>\n",
       "    <tr>\n",
       "      <th>1993</th>\n",
       "      <td>2450000</td>\n",
       "      <td>1.32</td>\n",
       "      <td>1424000</td>\n",
       "      <td>1.14</td>\n",
       "    </tr>\n",
       "    <tr>\n",
       "      <th>1994</th>\n",
       "      <td>2482000</td>\n",
       "      <td>1.31</td>\n",
       "      <td>1441000</td>\n",
       "      <td>1.19</td>\n",
       "    </tr>\n",
       "    <tr>\n",
       "      <th>1995</th>\n",
       "      <td>2514000</td>\n",
       "      <td>1.29</td>\n",
       "      <td>1457000</td>\n",
       "      <td>1.11</td>\n",
       "    </tr>\n",
       "    <tr>\n",
       "      <th>1996</th>\n",
       "      <td>2547000</td>\n",
       "      <td>1.31</td>\n",
       "      <td>1474000</td>\n",
       "      <td>1.17</td>\n",
       "    </tr>\n",
       "    <tr>\n",
       "      <th>1997</th>\n",
       "      <td>2580000</td>\n",
       "      <td>1.30</td>\n",
       "      <td>1491000</td>\n",
       "      <td>1.15</td>\n",
       "    </tr>\n",
       "    <tr>\n",
       "      <th>1998</th>\n",
       "      <td>2614000</td>\n",
       "      <td>1.32</td>\n",
       "      <td>1508000</td>\n",
       "      <td>1.14</td>\n",
       "    </tr>\n",
       "    <tr>\n",
       "      <th>1999</th>\n",
       "      <td>2648000</td>\n",
       "      <td>1.30</td>\n",
       "      <td>1525000</td>\n",
       "      <td>1.13</td>\n",
       "    </tr>\n",
       "    <tr>\n",
       "      <th>2000</th>\n",
       "      <td>2681000</td>\n",
       "      <td>1.25</td>\n",
       "      <td>1541000</td>\n",
       "      <td>1.05</td>\n",
       "    </tr>\n",
       "    <tr>\n",
       "      <th>2001</th>\n",
       "      <td>2708000</td>\n",
       "      <td>1.01</td>\n",
       "      <td>1554000</td>\n",
       "      <td>0.84</td>\n",
       "    </tr>\n",
       "    <tr>\n",
       "      <th>2002</th>\n",
       "      <td>2735000</td>\n",
       "      <td>1.00</td>\n",
       "      <td>1566000</td>\n",
       "      <td>0.77</td>\n",
       "    </tr>\n",
       "    <tr>\n",
       "      <th>2003</th>\n",
       "      <td>2763000</td>\n",
       "      <td>1.02</td>\n",
       "      <td>1578000</td>\n",
       "      <td>0.77</td>\n",
       "    </tr>\n",
       "    <tr>\n",
       "      <th>2004</th>\n",
       "      <td>2791000</td>\n",
       "      <td>1.01</td>\n",
       "      <td>1591000</td>\n",
       "      <td>0.82</td>\n",
       "    </tr>\n",
       "    <tr>\n",
       "      <th>2005</th>\n",
       "      <td>2819000</td>\n",
       "      <td>1.00</td>\n",
       "      <td>1603000</td>\n",
       "      <td>0.75</td>\n",
       "    </tr>\n",
       "    <tr>\n",
       "      <th>2006</th>\n",
       "      <td>2848000</td>\n",
       "      <td>1.03</td>\n",
       "      <td>1616000</td>\n",
       "      <td>0.81</td>\n",
       "    </tr>\n",
       "    <tr>\n",
       "      <th>2007</th>\n",
       "      <td>2876000</td>\n",
       "      <td>0.98</td>\n",
       "      <td>1629000</td>\n",
       "      <td>0.80</td>\n",
       "    </tr>\n",
       "    <tr>\n",
       "      <th>2008</th>\n",
       "      <td>2905000</td>\n",
       "      <td>1.01</td>\n",
       "      <td>1642000</td>\n",
       "      <td>0.80</td>\n",
       "    </tr>\n",
       "    <tr>\n",
       "      <th>2009</th>\n",
       "      <td>2935000</td>\n",
       "      <td>1.03</td>\n",
       "      <td>1655000</td>\n",
       "      <td>0.79</td>\n",
       "    </tr>\n",
       "    <tr>\n",
       "      <th>2010</th>\n",
       "      <td>2964000</td>\n",
       "      <td>0.99</td>\n",
       "      <td>1668000</td>\n",
       "      <td>0.79</td>\n",
       "    </tr>\n",
       "    <tr>\n",
       "      <th>2011</th>\n",
       "      <td>2994000</td>\n",
       "      <td>1.01</td>\n",
       "      <td>1681000</td>\n",
       "      <td>0.78</td>\n",
       "    </tr>\n",
       "    <tr>\n",
       "      <th>2012</th>\n",
       "      <td>3024000</td>\n",
       "      <td>1.00</td>\n",
       "      <td>1694000</td>\n",
       "      <td>0.77</td>\n",
       "    </tr>\n",
       "    <tr>\n",
       "      <th>2013</th>\n",
       "      <td>3055000</td>\n",
       "      <td>1.03</td>\n",
       "      <td>1708000</td>\n",
       "      <td>0.83</td>\n",
       "    </tr>\n",
       "    <tr>\n",
       "      <th>2014</th>\n",
       "      <td>3086000</td>\n",
       "      <td>1.01</td>\n",
       "      <td>1721000</td>\n",
       "      <td>0.76</td>\n",
       "    </tr>\n",
       "    <tr>\n",
       "      <th>2015</th>\n",
       "      <td>3117000</td>\n",
       "      <td>1.00</td>\n",
       "      <td>1735000</td>\n",
       "      <td>0.81</td>\n",
       "    </tr>\n",
       "    <tr>\n",
       "      <th>2016</th>\n",
       "      <td>3148000</td>\n",
       "      <td>0.99</td>\n",
       "      <td>1749000</td>\n",
       "      <td>0.81</td>\n",
       "    </tr>\n",
       "    <tr>\n",
       "      <th>2017</th>\n",
       "      <td>3180000</td>\n",
       "      <td>1.02</td>\n",
       "      <td>1762000</td>\n",
       "      <td>0.74</td>\n",
       "    </tr>\n",
       "    <tr>\n",
       "      <th>2018</th>\n",
       "      <td>3212000</td>\n",
       "      <td>1.01</td>\n",
       "      <td>1776000</td>\n",
       "      <td>0.79</td>\n",
       "    </tr>\n",
       "    <tr>\n",
       "      <th>2019</th>\n",
       "      <td>3231000</td>\n",
       "      <td>0.59</td>\n",
       "      <td>1783000</td>\n",
       "      <td>0.39</td>\n",
       "    </tr>\n",
       "    <tr>\n",
       "      <th>2020</th>\n",
       "      <td>3251000</td>\n",
       "      <td>0.62</td>\n",
       "      <td>1791000</td>\n",
       "      <td>0.45</td>\n",
       "    </tr>\n",
       "    <tr>\n",
       "      <th>2021</th>\n",
       "      <td>3272000</td>\n",
       "      <td>0.65</td>\n",
       "      <td>1799000</td>\n",
       "      <td>0.45</td>\n",
       "    </tr>\n",
       "    <tr>\n",
       "      <th>2022</th>\n",
       "      <td>3295000</td>\n",
       "      <td>0.70</td>\n",
       "      <td>1809000</td>\n",
       "      <td>0.56</td>\n",
       "    </tr>\n",
       "    <tr>\n",
       "      <th>2023</th>\n",
       "      <td>3319000</td>\n",
       "      <td>0.73</td>\n",
       "      <td>1821000</td>\n",
       "      <td>0.66</td>\n",
       "    </tr>\n",
       "  </tbody>\n",
       "</table>\n",
       "</div>"
      ],
      "text/plain": [
       "       Pop SD  Growth SD   Pop SJ  Growth SJ\n",
       "date                                        \n",
       "1970  1209000       3.69  1009000       4.34\n",
       "1971  1252000       3.56  1027000       1.78\n",
       "1972  1297000       3.59  1046000       1.85\n",
       "1973  1344000       3.62  1064000       1.72\n",
       "1974  1392000       3.57  1084000       1.88\n",
       "1975  1442000       3.59  1103000       1.75\n",
       "1976  1493000       3.54  1123000       1.81\n",
       "1977  1547000       3.62  1143000       1.78\n",
       "1978  1602000       3.56  1163000       1.75\n",
       "1979  1660000       3.62  1184000       1.81\n",
       "1980  1718000       3.49  1204000       1.69\n",
       "1981  1774000       3.26  1221000       1.41\n",
       "1982  1832000       3.27  1237000       1.31\n",
       "1983  1891000       3.22  1254000       1.37\n",
       "1984  1953000       3.28  1271000       1.36\n",
       "1985  2017000       3.28  1288000       1.34\n",
       "1986  2082000       3.22  1305000       1.32\n",
       "1987  2150000       3.27  1323000       1.38\n",
       "1988  2220000       3.26  1341000       1.36\n",
       "1989  2293000       3.29  1359000       1.34\n",
       "1990  2356000       2.75  1376000       1.25\n",
       "1991  2387000       1.32  1392000       1.16\n",
       "1992  2418000       1.30  1408000       1.15\n",
       "1993  2450000       1.32  1424000       1.14\n",
       "1994  2482000       1.31  1441000       1.19\n",
       "1995  2514000       1.29  1457000       1.11\n",
       "1996  2547000       1.31  1474000       1.17\n",
       "1997  2580000       1.30  1491000       1.15\n",
       "1998  2614000       1.32  1508000       1.14\n",
       "1999  2648000       1.30  1525000       1.13\n",
       "2000  2681000       1.25  1541000       1.05\n",
       "2001  2708000       1.01  1554000       0.84\n",
       "2002  2735000       1.00  1566000       0.77\n",
       "2003  2763000       1.02  1578000       0.77\n",
       "2004  2791000       1.01  1591000       0.82\n",
       "2005  2819000       1.00  1603000       0.75\n",
       "2006  2848000       1.03  1616000       0.81\n",
       "2007  2876000       0.98  1629000       0.80\n",
       "2008  2905000       1.01  1642000       0.80\n",
       "2009  2935000       1.03  1655000       0.79\n",
       "2010  2964000       0.99  1668000       0.79\n",
       "2011  2994000       1.01  1681000       0.78\n",
       "2012  3024000       1.00  1694000       0.77\n",
       "2013  3055000       1.03  1708000       0.83\n",
       "2014  3086000       1.01  1721000       0.76\n",
       "2015  3117000       1.00  1735000       0.81\n",
       "2016  3148000       0.99  1749000       0.81\n",
       "2017  3180000       1.02  1762000       0.74\n",
       "2018  3212000       1.01  1776000       0.79\n",
       "2019  3231000       0.59  1783000       0.39\n",
       "2020  3251000       0.62  1791000       0.45\n",
       "2021  3272000       0.65  1799000       0.45\n",
       "2022  3295000       0.70  1809000       0.56\n",
       "2023  3319000       0.73  1821000       0.66"
      ]
     },
     "execution_count": 16,
     "metadata": {},
     "output_type": "execute_result"
    }
   ],
   "source": [
    "population = pd.read_csv('https://raw.githubusercontent.com/flaviovdf/fcd/master/assets/08-MaisViz/data/sd-sj-2022.csv').set_index('date')\n",
    "population"
   ]
  },
  {
   "cell_type": "markdown",
   "metadata": {
    "slideshow": {
     "slide_type": "slide"
    }
   },
   "source": [
    "### Lembre-se: gráficos de linha"
   ]
  },
  {
   "cell_type": "code",
   "execution_count": 17,
   "metadata": {
    "execution": {
     "iopub.execute_input": "2025-03-30T18:06:08.875450Z",
     "iopub.status.busy": "2025-03-30T18:06:08.875106Z",
     "iopub.status.idle": "2025-03-30T18:06:08.976522Z",
     "shell.execute_reply": "2025-03-30T18:06:08.976115Z"
    },
    "scrolled": true
   },
   "outputs": [
    {
     "data": {
      "image/png": "[encoded data removed]",
      "text/plain": [
       "<Figure size 640x480 with 1 Axes>"
      ]
     },
     "metadata": {},
     "output_type": "display_data"
    }
   ],
   "source": [
    "population.plot(kind='line', y='Growth SD', \n",
    "                title='San Diego population growth rate', legend=False);"
   ]
  },
  {
   "cell_type": "code",
   "execution_count": 18,
   "metadata": {
    "execution": {
     "iopub.execute_input": "2025-03-30T18:06:08.978268Z",
     "iopub.status.busy": "2025-03-30T18:06:08.978091Z",
     "iopub.status.idle": "2025-03-30T18:06:09.077075Z",
     "shell.execute_reply": "2025-03-30T18:06:09.076720Z"
    }
   },
   "outputs": [
    {
     "data": {
      "image/png": "[encoded data removed]",
      "text/plain": [
       "<Figure size 640x480 with 1 Axes>"
      ]
     },
     "metadata": {},
     "output_type": "display_data"
    }
   ],
   "source": [
    "population.plot(kind='line', y='Growth SJ', \n",
    "                title='San Jose population growth rate', legend=False);"
   ]
  },
  {
   "cell_type": "markdown",
   "metadata": {
    "slideshow": {
     "slide_type": "fragment"
    }
   },
   "source": [
    "Observe os argumentos opcionais `title` e `legend`. Alguns outros argumentos opcionais úteis são `figsize`, `xlabel` e `ylabel`. Existem [many optional arguments](https://pandas.pydata.org/docs/reference/api/pandas.DataFrame.plot.html)."
   ]
  },
  {
   "cell_type": "markdown",
   "metadata": {
    "slideshow": {
     "slide_type": "slide"
    }
   },
   "source": [
    "### Gráficos sobrepostos\n",
    "\n",
    "Se `y=column_name` for omitido, **todas** colunas serão plotadas!"
   ]
  },
  {
   "cell_type": "code",
   "execution_count": 19,
   "metadata": {
    "execution": {
     "iopub.execute_input": "2025-03-30T18:06:09.078943Z",
     "iopub.status.busy": "2025-03-30T18:06:09.078706Z",
     "iopub.status.idle": "2025-03-30T18:06:09.178084Z",
     "shell.execute_reply": "2025-03-30T18:06:09.177678Z"
    }
   },
   "outputs": [
    {
     "data": {
      "image/png": "[encoded data removed]",
      "text/plain": [
       "<Figure size 640x480 with 1 Axes>"
      ]
     },
     "metadata": {},
     "output_type": "display_data"
    }
   ],
   "source": [
    "population.plot(kind='line');"
   ]
  },
  {
   "cell_type": "markdown",
   "metadata": {
    "slideshow": {
     "slide_type": "fragment"
    }
   },
   "source": [
    "Por que existem apenas três linhas mostradas, mas quatro na legenda? 🤔"
   ]
  },
  {
   "cell_type": "markdown",
   "metadata": {
    "slideshow": {
     "slide_type": "slide"
    }
   },
   "source": [
    "### Selecionando várias colunas de uma vez\n",
    "- Para selecionar várias colunas, use `.get([column_1, ..., column_k])`.\n",
    "- Passar uma `lista` de rótulos de colunas para `.get` retorna um DataFrame.\n",
    "- `.get([column_name])` retornará um DataFrame com apenas uma coluna!"
   ]
  },
  {
   "cell_type": "code",
   "execution_count": 20,
   "metadata": {
    "execution": {
     "iopub.execute_input": "2025-03-30T18:06:09.179754Z",
     "iopub.status.busy": "2025-03-30T18:06:09.179574Z",
     "iopub.status.idle": "2025-03-30T18:06:09.188420Z",
     "shell.execute_reply": "2025-03-30T18:06:09.188081Z"
    }
   },
   "outputs": [
    {
     "data": {
      "text/html": [
       "<div>\n",
       "<style scoped>\n",
       "    .dataframe tbody tr th:only-of-type {\n",
       "        vertical-align: middle;\n",
       "    }\n",
       "\n",
       "    .dataframe tbody tr th {\n",
       "        vertical-align: top;\n",
       "    }\n",
       "\n",
       "    .dataframe thead th {\n",
       "        text-align: right;\n",
       "    }\n",
       "</style>\n",
       "<table border=\"1\" class=\"dataframe\">\n",
       "  <thead>\n",
       "    <tr style=\"text-align: right;\">\n",
       "      <th></th>\n",
       "      <th>Growth SD</th>\n",
       "      <th>Growth SJ</th>\n",
       "    </tr>\n",
       "    <tr>\n",
       "      <th>date</th>\n",
       "      <th></th>\n",
       "      <th></th>\n",
       "    </tr>\n",
       "  </thead>\n",
       "  <tbody>\n",
       "    <tr>\n",
       "      <th>1970</th>\n",
       "      <td>3.69</td>\n",
       "      <td>4.34</td>\n",
       "    </tr>\n",
       "    <tr>\n",
       "      <th>1971</th>\n",
       "      <td>3.56</td>\n",
       "      <td>1.78</td>\n",
       "    </tr>\n",
       "    <tr>\n",
       "      <th>1972</th>\n",
       "      <td>3.59</td>\n",
       "      <td>1.85</td>\n",
       "    </tr>\n",
       "    <tr>\n",
       "      <th>1973</th>\n",
       "      <td>3.62</td>\n",
       "      <td>1.72</td>\n",
       "    </tr>\n",
       "    <tr>\n",
       "      <th>1974</th>\n",
       "      <td>3.57</td>\n",
       "      <td>1.88</td>\n",
       "    </tr>\n",
       "    <tr>\n",
       "      <th>1975</th>\n",
       "      <td>3.59</td>\n",
       "      <td>1.75</td>\n",
       "    </tr>\n",
       "    <tr>\n",
       "      <th>1976</th>\n",
       "      <td>3.54</td>\n",
       "      <td>1.81</td>\n",
       "    </tr>\n",
       "    <tr>\n",
       "      <th>1977</th>\n",
       "      <td>3.62</td>\n",
       "      <td>1.78</td>\n",
       "    </tr>\n",
       "    <tr>\n",
       "      <th>1978</th>\n",
       "      <td>3.56</td>\n",
       "      <td>1.75</td>\n",
       "    </tr>\n",
       "    <tr>\n",
       "      <th>1979</th>\n",
       "      <td>3.62</td>\n",
       "      <td>1.81</td>\n",
       "    </tr>\n",
       "    <tr>\n",
       "      <th>1980</th>\n",
       "      <td>3.49</td>\n",
       "      <td>1.69</td>\n",
       "    </tr>\n",
       "    <tr>\n",
       "      <th>1981</th>\n",
       "      <td>3.26</td>\n",
       "      <td>1.41</td>\n",
       "    </tr>\n",
       "    <tr>\n",
       "      <th>1982</th>\n",
       "      <td>3.27</td>\n",
       "      <td>1.31</td>\n",
       "    </tr>\n",
       "    <tr>\n",
       "      <th>1983</th>\n",
       "      <td>3.22</td>\n",
       "      <td>1.37</td>\n",
       "    </tr>\n",
       "    <tr>\n",
       "      <th>1984</th>\n",
       "      <td>3.28</td>\n",
       "      <td>1.36</td>\n",
       "    </tr>\n",
       "    <tr>\n",
       "      <th>1985</th>\n",
       "      <td>3.28</td>\n",
       "      <td>1.34</td>\n",
       "    </tr>\n",
       "    <tr>\n",
       "      <th>1986</th>\n",
       "      <td>3.22</td>\n",
       "      <td>1.32</td>\n",
       "    </tr>\n",
       "    <tr>\n",
       "      <th>1987</th>\n",
       "      <td>3.27</td>\n",
       "      <td>1.38</td>\n",
       "    </tr>\n",
       "    <tr>\n",
       "      <th>1988</th>\n",
       "      <td>3.26</td>\n",
       "      <td>1.36</td>\n",
       "    </tr>\n",
       "    <tr>\n",
       "      <th>1989</th>\n",
       "      <td>3.29</td>\n",
       "      <td>1.34</td>\n",
       "    </tr>\n",
       "    <tr>\n",
       "      <th>1990</th>\n",
       "      <td>2.75</td>\n",
       "      <td>1.25</td>\n",
       "    </tr>\n",
       "    <tr>\n",
       "      <th>1991</th>\n",
       "      <td>1.32</td>\n",
       "      <td>1.16</td>\n",
       "    </tr>\n",
       "    <tr>\n",
       "      <th>1992</th>\n",
       "      <td>1.30</td>\n",
       "      <td>1.15</td>\n",
       "    </tr>\n",
       "    <tr>\n",
       "      <th>1993</th>\n",
       "      <td>1.32</td>\n",
       "      <td>1.14</td>\n",
       "    </tr>\n",
       "    <tr>\n",
       "      <th>1994</th>\n",
       "      <td>1.31</td>\n",
       "      <td>1.19</td>\n",
       "    </tr>\n",
       "    <tr>\n",
       "      <th>1995</th>\n",
       "      <td>1.29</td>\n",
       "      <td>1.11</td>\n",
       "    </tr>\n",
       "    <tr>\n",
       "      <th>1996</th>\n",
       "      <td>1.31</td>\n",
       "      <td>1.17</td>\n",
       "    </tr>\n",
       "    <tr>\n",
       "      <th>1997</th>\n",
       "      <td>1.30</td>\n",
       "      <td>1.15</td>\n",
       "    </tr>\n",
       "    <tr>\n",
       "      <th>1998</th>\n",
       "      <td>1.32</td>\n",
       "      <td>1.14</td>\n",
       "    </tr>\n",
       "    <tr>\n",
       "      <th>1999</th>\n",
       "      <td>1.30</td>\n",
       "      <td>1.13</td>\n",
       "    </tr>\n",
       "    <tr>\n",
       "      <th>2000</th>\n",
       "      <td>1.25</td>\n",
       "      <td>1.05</td>\n",
       "    </tr>\n",
       "    <tr>\n",
       "      <th>2001</th>\n",
       "      <td>1.01</td>\n",
       "      <td>0.84</td>\n",
       "    </tr>\n",
       "    <tr>\n",
       "      <th>2002</th>\n",
       "      <td>1.00</td>\n",
       "      <td>0.77</td>\n",
       "    </tr>\n",
       "    <tr>\n",
       "      <th>2003</th>\n",
       "      <td>1.02</td>\n",
       "      <td>0.77</td>\n",
       "    </tr>\n",
       "    <tr>\n",
       "      <th>2004</th>\n",
       "      <td>1.01</td>\n",
       "      <td>0.82</td>\n",
       "    </tr>\n",
       "    <tr>\n",
       "      <th>2005</th>\n",
       "      <td>1.00</td>\n",
       "      <td>0.75</td>\n",
       "    </tr>\n",
       "    <tr>\n",
       "      <th>2006</th>\n",
       "      <td>1.03</td>\n",
       "      <td>0.81</td>\n",
       "    </tr>\n",
       "    <tr>\n",
       "      <th>2007</th>\n",
       "      <td>0.98</td>\n",
       "      <td>0.80</td>\n",
       "    </tr>\n",
       "    <tr>\n",
       "      <th>2008</th>\n",
       "      <td>1.01</td>\n",
       "      <td>0.80</td>\n",
       "    </tr>\n",
       "    <tr>\n",
       "      <th>2009</th>\n",
       "      <td>1.03</td>\n",
       "      <td>0.79</td>\n",
       "    </tr>\n",
       "    <tr>\n",
       "      <th>2010</th>\n",
       "      <td>0.99</td>\n",
       "      <td>0.79</td>\n",
       "    </tr>\n",
       "    <tr>\n",
       "      <th>2011</th>\n",
       "      <td>1.01</td>\n",
       "      <td>0.78</td>\n",
       "    </tr>\n",
       "    <tr>\n",
       "      <th>2012</th>\n",
       "      <td>1.00</td>\n",
       "      <td>0.77</td>\n",
       "    </tr>\n",
       "    <tr>\n",
       "      <th>2013</th>\n",
       "      <td>1.03</td>\n",
       "      <td>0.83</td>\n",
       "    </tr>\n",
       "    <tr>\n",
       "      <th>2014</th>\n",
       "      <td>1.01</td>\n",
       "      <td>0.76</td>\n",
       "    </tr>\n",
       "    <tr>\n",
       "      <th>2015</th>\n",
       "      <td>1.00</td>\n",
       "      <td>0.81</td>\n",
       "    </tr>\n",
       "    <tr>\n",
       "      <th>2016</th>\n",
       "      <td>0.99</td>\n",
       "      <td>0.81</td>\n",
       "    </tr>\n",
       "    <tr>\n",
       "      <th>2017</th>\n",
       "      <td>1.02</td>\n",
       "      <td>0.74</td>\n",
       "    </tr>\n",
       "    <tr>\n",
       "      <th>2018</th>\n",
       "      <td>1.01</td>\n",
       "      <td>0.79</td>\n",
       "    </tr>\n",
       "    <tr>\n",
       "      <th>2019</th>\n",
       "      <td>0.59</td>\n",
       "      <td>0.39</td>\n",
       "    </tr>\n",
       "    <tr>\n",
       "      <th>2020</th>\n",
       "      <td>0.62</td>\n",
       "      <td>0.45</td>\n",
       "    </tr>\n",
       "    <tr>\n",
       "      <th>2021</th>\n",
       "      <td>0.65</td>\n",
       "      <td>0.45</td>\n",
       "    </tr>\n",
       "    <tr>\n",
       "      <th>2022</th>\n",
       "      <td>0.70</td>\n",
       "      <td>0.56</td>\n",
       "    </tr>\n",
       "    <tr>\n",
       "      <th>2023</th>\n",
       "      <td>0.73</td>\n",
       "      <td>0.66</td>\n",
       "    </tr>\n",
       "  </tbody>\n",
       "</table>\n",
       "</div>"
      ],
      "text/plain": [
       "      Growth SD  Growth SJ\n",
       "date                      \n",
       "1970       3.69       4.34\n",
       "1971       3.56       1.78\n",
       "1972       3.59       1.85\n",
       "1973       3.62       1.72\n",
       "1974       3.57       1.88\n",
       "1975       3.59       1.75\n",
       "1976       3.54       1.81\n",
       "1977       3.62       1.78\n",
       "1978       3.56       1.75\n",
       "1979       3.62       1.81\n",
       "1980       3.49       1.69\n",
       "1981       3.26       1.41\n",
       "1982       3.27       1.31\n",
       "1983       3.22       1.37\n",
       "1984       3.28       1.36\n",
       "1985       3.28       1.34\n",
       "1986       3.22       1.32\n",
       "1987       3.27       1.38\n",
       "1988       3.26       1.36\n",
       "1989       3.29       1.34\n",
       "1990       2.75       1.25\n",
       "1991       1.32       1.16\n",
       "1992       1.30       1.15\n",
       "1993       1.32       1.14\n",
       "1994       1.31       1.19\n",
       "1995       1.29       1.11\n",
       "1996       1.31       1.17\n",
       "1997       1.30       1.15\n",
       "1998       1.32       1.14\n",
       "1999       1.30       1.13\n",
       "2000       1.25       1.05\n",
       "2001       1.01       0.84\n",
       "2002       1.00       0.77\n",
       "2003       1.02       0.77\n",
       "2004       1.01       0.82\n",
       "2005       1.00       0.75\n",
       "2006       1.03       0.81\n",
       "2007       0.98       0.80\n",
       "2008       1.01       0.80\n",
       "2009       1.03       0.79\n",
       "2010       0.99       0.79\n",
       "2011       1.01       0.78\n",
       "2012       1.00       0.77\n",
       "2013       1.03       0.83\n",
       "2014       1.01       0.76\n",
       "2015       1.00       0.81\n",
       "2016       0.99       0.81\n",
       "2017       1.02       0.74\n",
       "2018       1.01       0.79\n",
       "2019       0.59       0.39\n",
       "2020       0.62       0.45\n",
       "2021       0.65       0.45\n",
       "2022       0.70       0.56\n",
       "2023       0.73       0.66"
      ]
     },
     "execution_count": 20,
     "metadata": {},
     "output_type": "execute_result"
    }
   ],
   "source": [
    "growths = population.get(['Growth SD', 'Growth SJ'])\n",
    "growths"
   ]
  },
  {
   "cell_type": "code",
   "execution_count": 21,
   "metadata": {
    "execution": {
     "iopub.execute_input": "2025-03-30T18:06:09.189885Z",
     "iopub.status.busy": "2025-03-30T18:06:09.189659Z",
     "iopub.status.idle": "2025-03-30T18:06:09.280917Z",
     "shell.execute_reply": "2025-03-30T18:06:09.280559Z"
    },
    "scrolled": false
   },
   "outputs": [
    {
     "data": {
      "image/png": "[encoded data removed]",
      "text/plain": [
       "<Figure size 640x480 with 1 Axes>"
      ]
     },
     "metadata": {},
     "output_type": "display_data"
    }
   ],
   "source": [
    "growths.plot(kind='line');"
   ]
  },
  {
   "cell_type": "markdown",
   "metadata": {
    "slideshow": {
     "slide_type": "slide"
    }
   },
   "source": [
    "### Para traçar vários gráficos de uma vez:\n",
    "* `.get` apenas as colunas que contêm informações relevantes para o seu gráfico.\n",
    "* Equivalentemente, `.drop` todas as colunas estranhas.\n",
    "* Especifique a coluna para o eixo $x$ (se não for o índice) em `.plot(x=column_name)`.\n",
    "* Omita o argumento `y`. Então **todas** as outras colunas serão plotadas em um eixo $y$ compartilhado.\n",
    "\n",
    "A mesma coisa funciona para `'barh'`, `'bar'` e `'hist'`, mas não para `'scatter'`."
   ]
  },
  {
   "cell_type": "markdown",
   "metadata": {
    "slideshow": {
     "slide_type": "slide"
    }
   },
   "source": [
    "### Novo conjunto de dados: alturas das crianças e de seus pais 👪 📏\n",
    "\n",
    "- Os dados abaixo foram coletados no final de 1800 por [Francis Galton](https://en.wikipedia.org/wiki/Francis_Galton).\n",
    "- Ele era eugenista e defensor do racismo científico, por isso coletou esses dados.\n",
    "- Hoje entendemos que a eugenia é imoral e que não há evidências científicas ou qualquer outra justificativa para o racismo.\n",
    "- Revisitaremos esse conjunto de dados posteriormente no curso.\n",
    "- Por enquanto, precisaremos apenas das colunas `'mother'` e `'childHeight'`."
   ]
  },
  {
   "cell_type": "code",
   "execution_count": 22,
   "metadata": {
    "execution": {
     "iopub.execute_input": "2025-03-30T18:06:09.282667Z",
     "iopub.status.busy": "2025-03-30T18:06:09.282485Z",
     "iopub.status.idle": "2025-03-30T18:06:09.362599Z",
     "shell.execute_reply": "2025-03-30T18:06:09.361790Z"
    },
    "scrolled": false,
    "slideshow": {
     "slide_type": "-"
    }
   },
   "outputs": [
    {
     "data": {
      "text/html": [
       "<div>\n",
       "<style scoped>\n",
       "    .dataframe tbody tr th:only-of-type {\n",
       "        vertical-align: middle;\n",
       "    }\n",
       "\n",
       "    .dataframe tbody tr th {\n",
       "        vertical-align: top;\n",
       "    }\n",
       "\n",
       "    .dataframe thead th {\n",
       "        text-align: right;\n",
       "    }\n",
       "</style>\n",
       "<table border=\"1\" class=\"dataframe\">\n",
       "  <thead>\n",
       "    <tr style=\"text-align: right;\">\n",
       "      <th></th>\n",
       "      <th>mother</th>\n",
       "      <th>childHeight</th>\n",
       "    </tr>\n",
       "  </thead>\n",
       "  <tbody>\n",
       "    <tr>\n",
       "      <th>0</th>\n",
       "      <td>67.0</td>\n",
       "      <td>73.2</td>\n",
       "    </tr>\n",
       "    <tr>\n",
       "      <th>1</th>\n",
       "      <td>67.0</td>\n",
       "      <td>69.2</td>\n",
       "    </tr>\n",
       "    <tr>\n",
       "      <th>2</th>\n",
       "      <td>67.0</td>\n",
       "      <td>69.0</td>\n",
       "    </tr>\n",
       "    <tr>\n",
       "      <th>3</th>\n",
       "      <td>67.0</td>\n",
       "      <td>69.0</td>\n",
       "    </tr>\n",
       "    <tr>\n",
       "      <th>4</th>\n",
       "      <td>66.5</td>\n",
       "      <td>73.5</td>\n",
       "    </tr>\n",
       "    <tr>\n",
       "      <th>...</th>\n",
       "      <td>...</td>\n",
       "      <td>...</td>\n",
       "    </tr>\n",
       "    <tr>\n",
       "      <th>929</th>\n",
       "      <td>66.0</td>\n",
       "      <td>64.0</td>\n",
       "    </tr>\n",
       "    <tr>\n",
       "      <th>930</th>\n",
       "      <td>66.0</td>\n",
       "      <td>62.0</td>\n",
       "    </tr>\n",
       "    <tr>\n",
       "      <th>931</th>\n",
       "      <td>66.0</td>\n",
       "      <td>61.0</td>\n",
       "    </tr>\n",
       "    <tr>\n",
       "      <th>932</th>\n",
       "      <td>63.0</td>\n",
       "      <td>66.5</td>\n",
       "    </tr>\n",
       "    <tr>\n",
       "      <th>933</th>\n",
       "      <td>63.0</td>\n",
       "      <td>57.0</td>\n",
       "    </tr>\n",
       "  </tbody>\n",
       "</table>\n",
       "<p>934 rows × 2 columns</p>\n",
       "</div>"
      ],
      "text/plain": [
       "     mother  childHeight\n",
       "0      67.0         73.2\n",
       "1      67.0         69.2\n",
       "2      67.0         69.0\n",
       "3      67.0         69.0\n",
       "4      66.5         73.5\n",
       "..      ...          ...\n",
       "929    66.0         64.0\n",
       "930    66.0         62.0\n",
       "931    66.0         61.0\n",
       "932    63.0         66.5\n",
       "933    63.0         57.0\n",
       "\n",
       "[934 rows x 2 columns]"
      ]
     },
     "execution_count": 22,
     "metadata": {},
     "output_type": "execute_result"
    }
   ],
   "source": [
    "mother_child = pd.read_csv('https://raw.githubusercontent.com/flaviovdf/fcd/master/assets/08-MaisViz/data/galton.csv').get(['mother', 'childHeight'])\n",
    "mother_child"
   ]
  },
  {
   "cell_type": "markdown",
   "metadata": {
    "slideshow": {
     "slide_type": "slide"
    }
   },
   "source": [
    "### Plotando histogramas sobrepostos\n",
    "\n",
    "`alpha` controla o quão transparentes as barras são (`alpha=1` é opaco, `alpha=0` é transparente)."
   ]
  },
  {
   "cell_type": "code",
   "execution_count": 23,
   "metadata": {
    "execution": {
     "iopub.execute_input": "2025-03-30T18:06:09.366780Z",
     "iopub.status.busy": "2025-03-30T18:06:09.366245Z",
     "iopub.status.idle": "2025-03-30T18:06:09.482452Z",
     "shell.execute_reply": "2025-03-30T18:06:09.482061Z"
    },
    "scrolled": true
   },
   "outputs": [
    {
     "data": {
      "image/png": "[encoded data removed]",
      "text/plain": [
       "<Figure size 640x480 with 1 Axes>"
      ]
     },
     "metadata": {},
     "output_type": "display_data"
    }
   ],
   "source": [
    "height_bins = np.arange(55, 80, 2.5)\n",
    "mother_child.plot(kind='hist', density=True, ec='w',\n",
    "                  alpha=0.65, bins=height_bins);"
   ]
  },
  {
   "cell_type": "markdown",
   "metadata": {
    "slideshow": {
     "slide_type": "fragment"
    }
   },
   "source": [
    "Por que as crianças parecem muito mais altas que as mães?"
   ]
  },
  {
   "cell_type": "markdown",
   "metadata": {
    "slideshow": {
     "slide_type": "slide"
    }
   },
   "source": [
    "### Prática Extra\n",
    "\n",
    "Tente responder a estas perguntas com base no histograma sobreposto.\n",
    "\n",
    "1. Qual proporção de crianças tinha entre 70 e 75 polegadas de altura?\n",
    "\n",
    "2. Qual proporção de mães tinha entre 60 e 63 polegadas de altura?"
   ]
  },
  {
   "cell_type": "markdown",
   "metadata": {
    "slideshow": {
     "slide_type": "slide"
    }
   },
   "source": [
    "<h3>Respostas</h3>\n",
    "<details>\n",
    "<summary>Clique aqui para mostrar.</summary>\n",
    "\n",
    "<b>Pergunta 1</b>\n",
    "\n",
    "A altura da barra $[70, 72.5)$ é em torno de $0,08$, o que significa que $0,08 \\cdot 2,5 = 0,2$ de crianças tinham altura nesse intervalo. A altura da barra $[70, 72.5)$ é em torno de $0,02$, o que significa $0,02 \\cdot 2,5 = 0,05$ de crianças tinham altura nesse intervalo. Assim, a proporção geral de crianças que tinham entre $70$ e $75$ polegadas de altura era de cerca de $0,20 + 0,05 = 0,25$, ou $25\\%$.\n",
    "\n",
    "Para verificar nossa resposta, podemos executar\n",
    "\n",
    "<code>heights[(heights.get('childHeight') >= 70) & (heights.get('childHeight') < 75)].shape[0] / heights.shape[0]</code>\n",
    "\n",
    "<b>Pergunta 2</b>\n",
    "\n",
    "Não podemos dizer. Poderíamos tentar dividir na proporção de mães em $[60, 62.5)$ e $[60, 62.5)$, mas não sabemos o último. Na ausência de qualquer informação adicional, não podemos inferir sobre a distribuição de valores dentro de um compartimento. Por exemplo, pode ser que todos no intervalo $[60, 62.5)$ realmente caiam no intervalo $[60, 62.5)$ - ou pode ser que ninguém caia!\n",
    "\n",
    "</details>"
   ]
  },
  {
   "cell_type": "markdown",
   "metadata": {
    "slideshow": {
     "slide_type": "slide"
    }
   },
   "source": [
    "## Resumo, da próxima vez"
   ]
  },
  {
   "cell_type": "markdown",
   "metadata": {
    "slideshow": {
     "slide_type": "slide"
    }
   },
   "source": [
    "### Resumo\n",
    "\n",
    "- Histogramas (não gráficos de barras!) são usados ​​para exibir a distribuição de uma variável numérica.\n",
    "- Sempre usaremos histogramas de densidade.\n",
    "- Em histogramas de densidade, a área de uma barra representa a proporção (porcentagem) de valores dentro de seu compartimento.\n",
    "- A área total de todas as barras é 1 (100%).\n",
    "- Podemos sobrepor vários gráficos de linhas, gráficos de barras e histogramas uns sobre os outros para observar vários relacionamentos ou distribuições."
   ]
  },
  {
   "cell_type": "markdown",
   "metadata": {
    "slideshow": {
     "slide_type": "slide"
    }
   },
   "source": [
    "### Próxima vez\n",
    "\n",
    "- Escrevendo nossas próprias funções.\n",
    "- Aplicar funções aos dados num DataFrame."
   ]
  }
 ],
 "metadata": {
  "kernelspec": {
   "display_name": "teaching",
   "language": "python",
   "name": "python3"
  },
  "language_info": {
   "codemirror_mode": {
    "name": "ipython",
    "version": 3
   },
   "file_extension": ".py",
   "mimetype": "text/x-python",
   "name": "python",
   "nbconvert_exporter": "python",
   "pygments_lexer": "ipython3",
   "version": "3.12.7"
  },
  "livereveal": {
   "scroll": true,
   "transition": "none"
  },
  "rise": {
   "enable_chalkboard": true
  }
 },
 "nbformat": 4,
 "nbformat_minor": 2
}
